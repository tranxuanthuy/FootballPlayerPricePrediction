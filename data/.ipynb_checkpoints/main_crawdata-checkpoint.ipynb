{
 "cells": [
  {
   "cell_type": "markdown",
   "metadata": {},
   "source": [
    "## 1. import standard libra"
   ]
  },
  {
   "cell_type": "code",
   "execution_count": 5,
   "metadata": {},
   "outputs": [],
   "source": [
    "# !pip install \"requests[security]\"\n",
    "# !pip install instaloader\n",
    "# !pip install datetime\n",
    "# !pip install os\n",
    "# !pip install requests\n",
    "# !pip install bs4\n",
    "# !pip install re\n",
    "# !pip install pandas, numpy\n",
    "# !pip install matplotlib\n"
   ]
  },
  {
   "cell_type": "code",
   "execution_count": 1,
   "metadata": {},
   "outputs": [],
   "source": [
    "PATH_TO_PROJECT = '/home/thuy/Desktop/ML_project'\n",
    "import sys\n",
    "sys.path.append(PATH_TO_PROJECT)\n",
    "from library import craw\n",
    "import requests\n",
    "from bs4 import BeautifulSoup\n",
    "import re\n",
    "import pandas as pd\n",
    "import numpy as np\n",
    "import matplotlib.pyplot as plt\n",
    "from datetime import datetime, date, time\n",
    "import os\n",
    "from os import walk\n"
   ]
  },
  {
   "cell_type": "markdown",
   "metadata": {},
   "source": [
    "## 2. Craw data"
   ]
  },
  {
   "cell_type": "code",
   "execution_count": 3,
   "metadata": {},
   "outputs": [
    {
     "data": {
      "text/plain": [
       "'>>successfully, 5/5 writed into /home/thuy/Desktop/ML_project/data/support/page_leagues'"
      ]
     },
     "execution_count": 3,
     "metadata": {},
     "output_type": "execute_result"
    }
   ],
   "source": [
    "#dowload pageleague\n",
    "craw.DowloadPage().dowload(PATH_TO_PROJECT + '/data/support/page_leagues')"
   ]
  },
  {
   "cell_type": "code",
   "execution_count": 4,
   "metadata": {},
   "outputs": [
    {
     "name": "stdout",
     "output_type": "stream",
     "text": [
      ">>successfully, writed into /home/thuy/Desktop/ML_project/data/support/lst_teams.txt\n"
     ]
    }
   ],
   "source": [
    "#get urls team\n",
    "getUrlTeam = craw.GetUrlTeams()\n",
    "print(getUrlTeam.read_url_teams(PATH_TO_PROJECT+'/data/support/page_leagues'))\n",
    "print(getUrlTeam.write_url_team(PATH_TO_PROJECT+'/data/support', 'lst_teams'))"
   ]
  },
  {
   "cell_type": "code",
   "execution_count": 8,
   "metadata": {},
   "outputs": [
    {
     "data": {
      "text/plain": [
       "'>>successfully, writed into /home/thuy/Desktop/ML_project/data/support/page_clubs'"
      ]
     },
     "execution_count": 8,
     "metadata": {},
     "output_type": "execute_result"
    }
   ],
   "source": [
    "#dowload pageclubs\n",
    "with open(PATH_TO_PROJECT + '/data/support/lst_teams.txt', 'r') as fr:\n",
    "    urls = fr.readlines()\n",
    "craw.DowloadPage(urls=urls).dowload(PATH_TO_PROJECT+'/data/support/page_clubs')"
   ]
  },
  {
   "cell_type": "code",
   "execution_count": 4,
   "metadata": {},
   "outputs": [
    {
     "name": "stdout",
     "output_type": "stream",
     "text": [
      ">>successfully, read 2716\n",
      ">>successfully, writed into /home/thuy/Desktop/ML_project/data/support/lst_players.txt\n"
     ]
    }
   ],
   "source": [
    "#get url players\n",
    "getUrlPlayers = craw.GetUrlPlayers()\n",
    "print(getUrlPlayers.read_url_players(PATH_TO_PROJECT+'/data/support/page_clubs'))\n",
    "print(getUrlPlayers.write_url_players(PATH_TO_PROJECT+'/data/support', 'lst_players'))"
   ]
  },
  {
   "cell_type": "code",
   "execution_count": 8,
   "metadata": {},
   "outputs": [
    {
     "name": "stdout",
     "output_type": "stream",
     "text": [
      ">> +1 err : row 229\n",
      ">> +1 err : row 349\n",
      ">> +1 err : row 473\n",
      ">> +1 err : row 523\n",
      ">> +1 err : row 628\n",
      ">> +1 err : row 748\n",
      ">> +1 err : row 853\n",
      ">> +1 err : row 973\n",
      ">> +1 err : row 1268\n",
      ">> +1 err : row 1406\n",
      ">> +1 err : row 1429\n",
      ">> +1 err : row 1732\n",
      ">> +1 err : row 2678\n"
     ]
    },
    {
     "data": {
      "text/plain": [
       "'>>successfully, 2703/2716 writed into /home/thuy/Desktop/ML_project/data/support/page_players'"
      ]
     },
     "execution_count": 8,
     "metadata": {},
     "output_type": "execute_result"
    }
   ],
   "source": [
    "#dowload page players\n",
    "with open(PATH_TO_PROJECT + '/data/support/lst_players.txt', 'r') as fr:\n",
    "    urls = fr.readlines()\n",
    "craw.DowloadPage(urls=urls).dowload(PATH_TO_PROJECT+'/data/support/page_players')"
   ]
  },
  {
   "cell_type": "markdown",
   "metadata": {},
   "source": [
    "### dataframe"
   ]
  },
  {
   "cell_type": "code",
   "execution_count": 2,
   "metadata": {},
   "outputs": [],
   "source": [
    "#Data frame\n",
    "getdf = craw.GetDf()\n",
    "df = getdf.get_df(PATH_TO_PROJECT + '/data/support/page_players')"
   ]
  },
  {
   "cell_type": "code",
   "execution_count": 3,
   "metadata": {},
   "outputs": [
    {
     "name": "stdout",
     "output_type": "stream",
     "text": [
      "0\n",
      "2703\n"
     ]
    }
   ],
   "source": [
    "print(getdf.count_err)\n",
    "print(getdf.count)"
   ]
  },
  {
   "cell_type": "code",
   "execution_count": 8,
   "metadata": {},
   "outputs": [],
   "source": [
    "df.to_csv(PATH_TO_PROJECT + '/data/raw_data/raw_data.csv', encoding='utf-8', index=False)"
   ]
  },
  {
   "cell_type": "code",
   "execution_count": null,
   "metadata": {},
   "outputs": [],
   "source": []
  }
 ],
 "metadata": {
  "interpreter": {
   "hash": "31f2aee4e71d21fbe5cf8b01ff0e069b9275f58929596ceb00d14d90e3e16cd6"
  },
  "kernelspec": {
   "display_name": "Python 3.8.10 64-bit",
   "language": "python",
   "name": "python3"
  },
  "language_info": {
   "codemirror_mode": {
    "name": "ipython",
    "version": 3
   },
   "file_extension": ".py",
   "mimetype": "text/x-python",
   "name": "python",
   "nbconvert_exporter": "python",
   "pygments_lexer": "ipython3",
   "version": "3.8.10"
  },
  "orig_nbformat": 4
 },
 "nbformat": 4,
 "nbformat_minor": 2
}
