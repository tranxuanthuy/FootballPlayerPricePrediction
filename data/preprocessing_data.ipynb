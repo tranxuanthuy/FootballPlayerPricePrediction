{
 "cells": [
  {
   "cell_type": "markdown",
   "metadata": {},
   "source": [
    "# 1. Import libra and load raw data"
   ]
  },
  {
   "cell_type": "code",
   "execution_count": 46,
   "metadata": {},
   "outputs": [],
   "source": [
    "PATH_TO_PROJECT = '/home/thuy/Desktop/ML_project'\n",
    "import sys\n",
    "sys.path.append(PATH_TO_PROJECT)\n",
    "import pandas as pd\n",
    "import numpy as np \n",
    "from library import preprocessing as pre\n",
    "import seaborn as sns\n",
    "import matplotlib.pyplot as plt\n",
    "from datetime import date, datetime\n",
    "%matplotlib inline"
   ]
  },
  {
   "cell_type": "code",
   "execution_count": 47,
   "metadata": {},
   "outputs": [
    {
     "name": "stdout",
     "output_type": "stream",
     "text": [
      ">>shape: (2703, 20)\n"
     ]
    },
    {
     "data": {
      "text/html": [
       "<div>\n",
       "<style scoped>\n",
       "    .dataframe tbody tr th:only-of-type {\n",
       "        vertical-align: middle;\n",
       "    }\n",
       "\n",
       "    .dataframe tbody tr th {\n",
       "        vertical-align: top;\n",
       "    }\n",
       "\n",
       "    .dataframe thead th {\n",
       "        text-align: right;\n",
       "    }\n",
       "</style>\n",
       "<table border=\"1\" class=\"dataframe\">\n",
       "  <thead>\n",
       "    <tr style=\"text-align: right;\">\n",
       "      <th></th>\n",
       "      <th>Unnamed: 0</th>\n",
       "      <th>name</th>\n",
       "      <th>number</th>\n",
       "      <th>league</th>\n",
       "      <th>age</th>\n",
       "      <th>height</th>\n",
       "      <th>position</th>\n",
       "      <th>erfolge</th>\n",
       "      <th>caps</th>\n",
       "      <th>goalsCap</th>\n",
       "      <th>urlInsta</th>\n",
       "      <th>follower</th>\n",
       "      <th>foot</th>\n",
       "      <th>agent</th>\n",
       "      <th>club</th>\n",
       "      <th>outfitter</th>\n",
       "      <th>contractExpires</th>\n",
       "      <th>score</th>\n",
       "      <th>country</th>\n",
       "      <th>price</th>\n",
       "    </tr>\n",
       "  </thead>\n",
       "  <tbody>\n",
       "    <tr>\n",
       "      <th>0</th>\n",
       "      <td>0</td>\n",
       "      <td>Habib Keïta</td>\n",
       "      <td>19.0</td>\n",
       "      <td>Ligue 1</td>\n",
       "      <td>19</td>\n",
       "      <td>1.82</td>\n",
       "      <td>midfield</td>\n",
       "      <td>0</td>\n",
       "      <td>0</td>\n",
       "      <td>0</td>\n",
       "      <td>http://www.instagram.com/habib.keita_12/</td>\n",
       "      <td>6063.0</td>\n",
       "      <td>left</td>\n",
       "      <td>BLACKSKILL</td>\n",
       "      <td>Olympique Lyon</td>\n",
       "      <td>NaN</td>\n",
       "      <td>2025-06-30</td>\n",
       "      <td>8/1/0/413/413/</td>\n",
       "      <td>Mali</td>\n",
       "      <td>0.5</td>\n",
       "    </tr>\n",
       "    <tr>\n",
       "      <th>1</th>\n",
       "      <td>1</td>\n",
       "      <td>Rogério</td>\n",
       "      <td>6.0</td>\n",
       "      <td>Serie A</td>\n",
       "      <td>23</td>\n",
       "      <td>1.78</td>\n",
       "      <td>Defender</td>\n",
       "      <td>0</td>\n",
       "      <td>0</td>\n",
       "      <td>0</td>\n",
       "      <td>http://www.instagram.com/roogerio98/</td>\n",
       "      <td>249000.0</td>\n",
       "      <td>left</td>\n",
       "      <td>Prattes Group</td>\n",
       "      <td>US Sassuolo</td>\n",
       "      <td>NaN</td>\n",
       "      <td>2024-06-30</td>\n",
       "      <td>12/0/1/0/1.021/</td>\n",
       "      <td>Brazil</td>\n",
       "      <td>6.0</td>\n",
       "    </tr>\n",
       "  </tbody>\n",
       "</table>\n",
       "</div>"
      ],
      "text/plain": [
       "   Unnamed: 0         name  number   league  age  height  position  erfolge  \\\n",
       "0           0  Habib Keïta    19.0  Ligue 1   19    1.82  midfield        0   \n",
       "1           1      Rogério     6.0  Serie A   23    1.78  Defender        0   \n",
       "\n",
       "   caps  goalsCap                                  urlInsta  follower  foot  \\\n",
       "0     0         0  http://www.instagram.com/habib.keita_12/    6063.0  left   \n",
       "1     0         0      http://www.instagram.com/roogerio98/  249000.0  left   \n",
       "\n",
       "           agent            club outfitter contractExpires            score  \\\n",
       "0     BLACKSKILL  Olympique Lyon       NaN      2025-06-30   8/1/0/413/413/   \n",
       "1  Prattes Group     US Sassuolo       NaN      2024-06-30  12/0/1/0/1.021/   \n",
       "\n",
       "  country  price  \n",
       "0    Mali    0.5  \n",
       "1  Brazil    6.0  "
      ]
     },
     "execution_count": 47,
     "metadata": {},
     "output_type": "execute_result"
    }
   ],
   "source": [
    "def load_data():\n",
    "    df = pd.read_csv(PATH_TO_PROJECT+'/data/raw_data/raw_data.csv', encoding='utf-8')\n",
    "    return df\n",
    "df = load_data()\n",
    "print(f'>>shape: {df.shape}')\n",
    "df.head(2)"
   ]
  },
  {
   "cell_type": "code",
   "execution_count": 48,
   "metadata": {},
   "outputs": [
    {
     "name": "stdout",
     "output_type": "stream",
     "text": [
      "<class 'pandas.core.frame.DataFrame'>\n",
      "RangeIndex: 2703 entries, 0 to 2702\n",
      "Data columns (total 20 columns):\n",
      " #   Column           Non-Null Count  Dtype  \n",
      "---  ------           --------------  -----  \n",
      " 0   Unnamed: 0       2703 non-null   int64  \n",
      " 1   name             2703 non-null   object \n",
      " 2   number           2653 non-null   float64\n",
      " 3   league           2691 non-null   object \n",
      " 4   age              2703 non-null   int64  \n",
      " 5   height           2694 non-null   float64\n",
      " 6   position         2703 non-null   object \n",
      " 7   erfolge          2703 non-null   int64  \n",
      " 8   caps             2703 non-null   int64  \n",
      " 9   goalsCap         2703 non-null   int64  \n",
      " 10  urlInsta         2223 non-null   object \n",
      " 11  follower         2101 non-null   float64\n",
      " 12  foot             2656 non-null   object \n",
      " 13  agent            2275 non-null   object \n",
      " 14  club             2703 non-null   object \n",
      " 15  outfitter        974 non-null    object \n",
      " 16  contractExpires  2623 non-null   object \n",
      " 17  score            2701 non-null   object \n",
      " 18  country          2703 non-null   object \n",
      " 19  price            2687 non-null   float64\n",
      "dtypes: float64(4), int64(5), object(11)\n",
      "memory usage: 422.5+ KB\n"
     ]
    }
   ],
   "source": [
    "df.info()"
   ]
  },
  {
   "cell_type": "code",
   "execution_count": 49,
   "metadata": {},
   "outputs": [
    {
     "data": {
      "text/html": [
       "<div>\n",
       "<style scoped>\n",
       "    .dataframe tbody tr th:only-of-type {\n",
       "        vertical-align: middle;\n",
       "    }\n",
       "\n",
       "    .dataframe tbody tr th {\n",
       "        vertical-align: top;\n",
       "    }\n",
       "\n",
       "    .dataframe thead th {\n",
       "        text-align: right;\n",
       "    }\n",
       "</style>\n",
       "<table border=\"1\" class=\"dataframe\">\n",
       "  <thead>\n",
       "    <tr style=\"text-align: right;\">\n",
       "      <th></th>\n",
       "      <th>Unnamed: 0</th>\n",
       "      <th>number</th>\n",
       "      <th>age</th>\n",
       "      <th>height</th>\n",
       "      <th>erfolge</th>\n",
       "      <th>caps</th>\n",
       "      <th>goalsCap</th>\n",
       "      <th>follower</th>\n",
       "      <th>price</th>\n",
       "    </tr>\n",
       "  </thead>\n",
       "  <tbody>\n",
       "    <tr>\n",
       "      <th>count</th>\n",
       "      <td>2703.000000</td>\n",
       "      <td>2653.000000</td>\n",
       "      <td>2703.000000</td>\n",
       "      <td>2694.000000</td>\n",
       "      <td>2703.000000</td>\n",
       "      <td>2703.000000</td>\n",
       "      <td>2703.000000</td>\n",
       "      <td>2.101000e+03</td>\n",
       "      <td>2687.000000</td>\n",
       "    </tr>\n",
       "    <tr>\n",
       "      <th>mean</th>\n",
       "      <td>1351.000000</td>\n",
       "      <td>18.791934</td>\n",
       "      <td>25.873104</td>\n",
       "      <td>1.828448</td>\n",
       "      <td>2.237884</td>\n",
       "      <td>14.712542</td>\n",
       "      <td>2.069922</td>\n",
       "      <td>1.421069e+06</td>\n",
       "      <td>9.962825</td>\n",
       "    </tr>\n",
       "    <tr>\n",
       "      <th>std</th>\n",
       "      <td>780.433213</td>\n",
       "      <td>15.499150</td>\n",
       "      <td>4.599725</td>\n",
       "      <td>0.066630</td>\n",
       "      <td>3.712266</td>\n",
       "      <td>23.854339</td>\n",
       "      <td>6.508600</td>\n",
       "      <td>1.167559e+07</td>\n",
       "      <td>15.035563</td>\n",
       "    </tr>\n",
       "    <tr>\n",
       "      <th>min</th>\n",
       "      <td>0.000000</td>\n",
       "      <td>1.000000</td>\n",
       "      <td>16.000000</td>\n",
       "      <td>1.630000</td>\n",
       "      <td>0.000000</td>\n",
       "      <td>0.000000</td>\n",
       "      <td>0.000000</td>\n",
       "      <td>4.000000e+00</td>\n",
       "      <td>0.010000</td>\n",
       "    </tr>\n",
       "    <tr>\n",
       "      <th>25%</th>\n",
       "      <td>675.500000</td>\n",
       "      <td>8.000000</td>\n",
       "      <td>22.000000</td>\n",
       "      <td>1.780000</td>\n",
       "      <td>0.000000</td>\n",
       "      <td>1.000000</td>\n",
       "      <td>0.000000</td>\n",
       "      <td>2.017900e+04</td>\n",
       "      <td>1.500000</td>\n",
       "    </tr>\n",
       "    <tr>\n",
       "      <th>50%</th>\n",
       "      <td>1351.000000</td>\n",
       "      <td>17.000000</td>\n",
       "      <td>26.000000</td>\n",
       "      <td>1.830000</td>\n",
       "      <td>1.000000</td>\n",
       "      <td>5.000000</td>\n",
       "      <td>0.000000</td>\n",
       "      <td>6.669200e+04</td>\n",
       "      <td>4.000000</td>\n",
       "    </tr>\n",
       "    <tr>\n",
       "      <th>75%</th>\n",
       "      <td>2026.500000</td>\n",
       "      <td>25.000000</td>\n",
       "      <td>29.000000</td>\n",
       "      <td>1.880000</td>\n",
       "      <td>3.000000</td>\n",
       "      <td>18.000000</td>\n",
       "      <td>1.000000</td>\n",
       "      <td>3.802740e+05</td>\n",
       "      <td>12.000000</td>\n",
       "    </tr>\n",
       "    <tr>\n",
       "      <th>max</th>\n",
       "      <td>2702.000000</td>\n",
       "      <td>99.000000</td>\n",
       "      <td>40.000000</td>\n",
       "      <td>2.040000</td>\n",
       "      <td>62.000000</td>\n",
       "      <td>184.000000</td>\n",
       "      <td>115.000000</td>\n",
       "      <td>3.742918e+08</td>\n",
       "      <td>160.000000</td>\n",
       "    </tr>\n",
       "  </tbody>\n",
       "</table>\n",
       "</div>"
      ],
      "text/plain": [
       "        Unnamed: 0       number          age       height      erfolge  \\\n",
       "count  2703.000000  2653.000000  2703.000000  2694.000000  2703.000000   \n",
       "mean   1351.000000    18.791934    25.873104     1.828448     2.237884   \n",
       "std     780.433213    15.499150     4.599725     0.066630     3.712266   \n",
       "min       0.000000     1.000000    16.000000     1.630000     0.000000   \n",
       "25%     675.500000     8.000000    22.000000     1.780000     0.000000   \n",
       "50%    1351.000000    17.000000    26.000000     1.830000     1.000000   \n",
       "75%    2026.500000    25.000000    29.000000     1.880000     3.000000   \n",
       "max    2702.000000    99.000000    40.000000     2.040000    62.000000   \n",
       "\n",
       "              caps     goalsCap      follower        price  \n",
       "count  2703.000000  2703.000000  2.101000e+03  2687.000000  \n",
       "mean     14.712542     2.069922  1.421069e+06     9.962825  \n",
       "std      23.854339     6.508600  1.167559e+07    15.035563  \n",
       "min       0.000000     0.000000  4.000000e+00     0.010000  \n",
       "25%       1.000000     0.000000  2.017900e+04     1.500000  \n",
       "50%       5.000000     0.000000  6.669200e+04     4.000000  \n",
       "75%      18.000000     1.000000  3.802740e+05    12.000000  \n",
       "max     184.000000   115.000000  3.742918e+08   160.000000  "
      ]
     },
     "execution_count": 49,
     "metadata": {},
     "output_type": "execute_result"
    }
   ],
   "source": [
    "df.describe()"
   ]
  },
  {
   "cell_type": "markdown",
   "metadata": {},
   "source": [
    "# 2. Preprocessing data"
   ]
  },
  {
   "cell_type": "markdown",
   "metadata": {},
   "source": [
    "## Missing data"
   ]
  },
  {
   "cell_type": "code",
   "execution_count": 50,
   "metadata": {},
   "outputs": [
    {
     "data": {
      "text/plain": [
       "<AxesSubplot:>"
      ]
     },
     "execution_count": 50,
     "metadata": {},
     "output_type": "execute_result"
    },
    {
     "data": {
      "image/png": "[encoded data removed]",
      "text/plain": [
       "<Figure size 576x288 with 1 Axes>"
      ]
     },
     "metadata": {
      "needs_background": "light"
     },
     "output_type": "display_data"
    }
   ],
   "source": [
    "plt.figure(figsize= (8, 4))\n",
    "plt.style.use('fivethirtyeight')\n",
    "sns.heatmap(df.isna(),  yticklabels= False, cbar= False, cmap= 'viridis' )"
   ]
  },
  {
   "cell_type": "code",
   "execution_count": 51,
   "metadata": {},
   "outputs": [
    {
     "data": {
      "text/plain": [
       "Unnamed: 0            0\n",
       "name                  0\n",
       "number               50\n",
       "league               12\n",
       "age                   0\n",
       "height                9\n",
       "position              0\n",
       "erfolge               0\n",
       "caps                  0\n",
       "goalsCap              0\n",
       "urlInsta            480\n",
       "follower            602\n",
       "foot                 47\n",
       "agent               428\n",
       "club                  0\n",
       "outfitter          1729\n",
       "contractExpires      80\n",
       "score                 2\n",
       "country               0\n",
       "price                16\n",
       "dtype: int64"
      ]
     },
     "execution_count": 51,
     "metadata": {},
     "output_type": "execute_result"
    }
   ],
   "source": [
    "df.isna().sum()"
   ]
  },
  {
   "cell_type": "code",
   "execution_count": 52,
   "metadata": {},
   "outputs": [
    {
     "data": {
      "text/plain": [
       "27.03"
      ]
     },
     "execution_count": 52,
     "metadata": {},
     "output_type": "execute_result"
    }
   ],
   "source": [
    "#1% cua so luong ban ghi\n",
    "df.shape[0]/100"
   ]
  },
  {
   "cell_type": "code",
   "execution_count": 53,
   "metadata": {},
   "outputs": [],
   "source": [
    "#score - price - league - club"
   ]
  },
  {
   "cell_type": "code",
   "execution_count": 54,
   "metadata": {},
   "outputs": [],
   "source": [
    "miss_process = pre.process_missing(df)\n",
    "miss_process.dropna(columns_name=['score', 'price', 'league', 'club'])"
   ]
  },
  {
   "cell_type": "code",
   "execution_count": 55,
   "metadata": {},
   "outputs": [],
   "source": [
    "#foot"
   ]
  },
  {
   "cell_type": "code",
   "execution_count": 56,
   "metadata": {},
   "outputs": [
    {
     "data": {
      "image/png": "[encoded data removed]",
      "text/plain": [
       "<Figure size 1080x648 with 12 Axes>"
      ]
     },
     "metadata": {},
     "output_type": "display_data"
    }
   ],
   "source": [
    "fig, ax= plt.subplots(4, 3, figsize = (15, 9))\n",
    "sp4foot_pos= pd.DataFrame(df.groupby(['number', 'foot']).count().iloc[:,0]).reset_index()\n",
    "for i in range(1, 13):\n",
    "    if i in [1, 2, 3]:\n",
    "        k = 0\n",
    "        l = 1\n",
    "    elif i in [4, 5, 6]:\n",
    "        k =1\n",
    "        l =4\n",
    "    elif i in [7, 8, 9]:\n",
    "        k =2\n",
    "        l=7\n",
    "    elif i in [10, 11, 12]:\n",
    "        k =3\n",
    "        l=10\n",
    "    # elif i in [13, 14, 15]:\n",
    "    #     k=4\n",
    "    #     l=13\n",
    "    # elif i in [16, 17, 18]:\n",
    "    #     k=5\n",
    "    #     l=16\n",
    "    ala = sp4foot_pos[sp4foot_pos.number == i]\n",
    "    \n",
    "    ax[k][i-l].bar(ala['foot'], ala['Unnamed: 0'], color = 'green', alpha = 0.5)\n",
    "    fig.tight_layout()\n",
    "    ax[k][i-l].set_xlabel('$number {}$'.format(i), size=17)\n",
    "    "
   ]
  },
  {
   "cell_type": "code",
   "execution_count": 57,
   "metadata": {},
   "outputs": [
    {
     "data": {
      "text/html": [
       "<div>\n",
       "<style scoped>\n",
       "    .dataframe tbody tr th:only-of-type {\n",
       "        vertical-align: middle;\n",
       "    }\n",
       "\n",
       "    .dataframe tbody tr th {\n",
       "        vertical-align: top;\n",
       "    }\n",
       "\n",
       "    .dataframe thead th {\n",
       "        text-align: right;\n",
       "    }\n",
       "</style>\n",
       "<table border=\"1\" class=\"dataframe\">\n",
       "  <thead>\n",
       "    <tr style=\"text-align: right;\">\n",
       "      <th></th>\n",
       "      <th>Unnamed: 0</th>\n",
       "      <th>name</th>\n",
       "      <th>number</th>\n",
       "      <th>league</th>\n",
       "      <th>age</th>\n",
       "      <th>height</th>\n",
       "      <th>position</th>\n",
       "      <th>erfolge</th>\n",
       "      <th>caps</th>\n",
       "      <th>goalsCap</th>\n",
       "      <th>urlInsta</th>\n",
       "      <th>follower</th>\n",
       "      <th>foot</th>\n",
       "      <th>agent</th>\n",
       "      <th>club</th>\n",
       "      <th>outfitter</th>\n",
       "      <th>contractExpires</th>\n",
       "      <th>score</th>\n",
       "      <th>country</th>\n",
       "      <th>price</th>\n",
       "    </tr>\n",
       "  </thead>\n",
       "  <tbody>\n",
       "  </tbody>\n",
       "</table>\n",
       "</div>"
      ],
      "text/plain": [
       "Empty DataFrame\n",
       "Columns: [Unnamed: 0, name, number, league, age, height, position, erfolge, caps, goalsCap, urlInsta, follower, foot, agent, club, outfitter, contractExpires, score, country, price]\n",
       "Index: []"
      ]
     },
     "execution_count": 57,
     "metadata": {},
     "output_type": "execute_result"
    }
   ],
   "source": [
    "df[(df.foot.isna()) & (df.number.isna())]"
   ]
  },
  {
   "cell_type": "code",
   "execution_count": 58,
   "metadata": {},
   "outputs": [],
   "source": [
    "\n",
    "foot_by_number = {3.0: 'left', 11.0: 'left', 7.0 : 'left'}"
   ]
  },
  {
   "cell_type": "code",
   "execution_count": 59,
   "metadata": {},
   "outputs": [],
   "source": [
    "miss_process._foot(fill_map=foot_by_number)"
   ]
  },
  {
   "cell_type": "code",
   "execution_count": 60,
   "metadata": {},
   "outputs": [],
   "source": [
    "#height"
   ]
  },
  {
   "cell_type": "code",
   "execution_count": 61,
   "metadata": {},
   "outputs": [
    {
     "data": {
      "text/plain": [
       "{'Defender': 1.838782122905028,\n",
       " 'Goalkeeper': 1.900974025974026,\n",
       " 'attack': 1.810028328611898,\n",
       " 'midfield': 1.8052299605781865}"
      ]
     },
     "execution_count": 61,
     "metadata": {},
     "output_type": "execute_result"
    }
   ],
   "source": [
    "mean_hei = df.groupby('position').agg({'height':np.mean})\n",
    "_dct_mean_hei = {}\n",
    "for _index, _values in zip(mean_hei.index, mean_hei.values):\n",
    "    _dct_mean_hei[_index] = _values[0]\n",
    "_dct_mean_hei"
   ]
  },
  {
   "cell_type": "code",
   "execution_count": 62,
   "metadata": {},
   "outputs": [
    {
     "data": {
      "text/html": [
       "<div>\n",
       "<style scoped>\n",
       "    .dataframe tbody tr th:only-of-type {\n",
       "        vertical-align: middle;\n",
       "    }\n",
       "\n",
       "    .dataframe tbody tr th {\n",
       "        vertical-align: top;\n",
       "    }\n",
       "\n",
       "    .dataframe thead th {\n",
       "        text-align: right;\n",
       "    }\n",
       "</style>\n",
       "<table border=\"1\" class=\"dataframe\">\n",
       "  <thead>\n",
       "    <tr style=\"text-align: right;\">\n",
       "      <th></th>\n",
       "      <th>Unnamed: 0</th>\n",
       "      <th>name</th>\n",
       "      <th>number</th>\n",
       "      <th>league</th>\n",
       "      <th>age</th>\n",
       "      <th>height</th>\n",
       "      <th>position</th>\n",
       "      <th>erfolge</th>\n",
       "      <th>caps</th>\n",
       "      <th>goalsCap</th>\n",
       "      <th>urlInsta</th>\n",
       "      <th>follower</th>\n",
       "      <th>foot</th>\n",
       "      <th>agent</th>\n",
       "      <th>club</th>\n",
       "      <th>outfitter</th>\n",
       "      <th>contractExpires</th>\n",
       "      <th>score</th>\n",
       "      <th>country</th>\n",
       "      <th>price</th>\n",
       "    </tr>\n",
       "  </thead>\n",
       "  <tbody>\n",
       "  </tbody>\n",
       "</table>\n",
       "</div>"
      ],
      "text/plain": [
       "Empty DataFrame\n",
       "Columns: [Unnamed: 0, name, number, league, age, height, position, erfolge, caps, goalsCap, urlInsta, follower, foot, agent, club, outfitter, contractExpires, score, country, price]\n",
       "Index: []"
      ]
     },
     "execution_count": 62,
     "metadata": {},
     "output_type": "execute_result"
    }
   ],
   "source": [
    "df[(df.height.isna()) & (df.position.isna())]"
   ]
  },
  {
   "cell_type": "code",
   "execution_count": 63,
   "metadata": {},
   "outputs": [],
   "source": [
    "miss_process._height(fill_map='auto')"
   ]
  },
  {
   "cell_type": "code",
   "execution_count": 64,
   "metadata": {},
   "outputs": [],
   "source": [
    "# contractExpires "
   ]
  },
  {
   "cell_type": "code",
   "execution_count": 65,
   "metadata": {},
   "outputs": [],
   "source": [
    "miss_process.contractExpires()"
   ]
  },
  {
   "cell_type": "code",
   "execution_count": 66,
   "metadata": {},
   "outputs": [],
   "source": [
    "#follower"
   ]
  },
  {
   "cell_type": "code",
   "execution_count": 67,
   "metadata": {},
   "outputs": [
    {
     "data": {
      "text/plain": [
       "{'1. FC Köln': 30274.0,\n",
       " '1.FC Köln II': 5000.0,\n",
       " '1.FC Köln U19': 5000.0,\n",
       " '1.FC Union Berlin': 25553.5,\n",
       " '1.FSV Mainz 05': 14682.0,\n",
       " 'AC Milan': 739511.0,\n",
       " 'ACF Fiorentina': 110548.5,\n",
       " 'AS Monaco': 79180.0,\n",
       " 'AS Roma': 234721.5,\n",
       " 'AS Saint-Étienne': 20637.0,\n",
       " 'Arminia Bielefeld': 13629.0,\n",
       " 'Arsenal FC': 925942.0,\n",
       " 'Arsenal FC U23': 5000.0,\n",
       " 'Aston Villa': 144826.0,\n",
       " 'Atalanta BC': 200352.5,\n",
       " 'Athletic Bilbao': 37752.0,\n",
       " 'Atlético de Madrid': 938357.0,\n",
       " 'Bayer 04 Leverkusen': 147390.0,\n",
       " 'Bayer 04 Leverkusen U19': 19850.0,\n",
       " 'Bayern Munich': 957367.0,\n",
       " 'Bilbao Athletic': 5000.0,\n",
       " 'Bologna FC 1909': 28660.0,\n",
       " 'Borussia Dortmund': 473597.0,\n",
       " 'Borussia Dortmund II': 5000.0,\n",
       " 'Borussia Mönchengladbach': 71552.0,\n",
       " 'Brentford FC': 20131.5,\n",
       " 'Brighton & Hove Albion': 65861.5,\n",
       " 'Burnley FC': 29742.0,\n",
       " 'CA Osasuna': 18694.0,\n",
       " 'Cagliari Calcio': 40283.0,\n",
       " 'Celta Vigo B': 5000.0,\n",
       " 'Celta de Vigo': 63186.5,\n",
       " 'Chelsea FC': 1717499.5,\n",
       " 'Clermont Foot 63': 17870.5,\n",
       " 'Crystal Palace': 101986.0,\n",
       " 'Cádiz CF': 22683.0,\n",
       " 'Cádiz CF B': 5000.0,\n",
       " 'Deportivo Alavés': 19816.0,\n",
       " 'ESTAC Troyes': 10140.0,\n",
       " 'Eintracht Frankfurt': 55096.0,\n",
       " 'Elche CF': 52511.0,\n",
       " 'Everton FC': 318578.5,\n",
       " 'FC Augsburg': 34812.0,\n",
       " 'FC Barcelona': 2831530.5,\n",
       " 'FC Barcelona B': 327254.0,\n",
       " 'FC Empoli': 16866.0,\n",
       " 'FC Girondins Bordeaux': 33871.0,\n",
       " 'FC Lorient': 8726.0,\n",
       " 'FC Lorient B': 5000.0,\n",
       " 'FC Metz': 9993.0,\n",
       " 'FC Nantes': 28475.0,\n",
       " 'FC Nantes B': 5000.0,\n",
       " 'Genoa CFC': 25483.0,\n",
       " 'Getafe CF': 40195.0,\n",
       " 'Granada CF': 29805.0,\n",
       " 'Hellas Verona': 22023.5,\n",
       " 'Hertha BSC': 35867.0,\n",
       " 'Hertha BSC U19': 5201.0,\n",
       " 'Inter Milan': 680402.0,\n",
       " 'Juventus FC': 2638250.0,\n",
       " 'LOSC Lille': 86040.5,\n",
       " 'Leeds United': 107234.0,\n",
       " 'Leeds United U23': 34337.5,\n",
       " 'Leicester City': 163916.0,\n",
       " 'Levante UD': 32156.0,\n",
       " 'Liverpool FC': 1914468.5,\n",
       " 'Manchester City': 2089744.0,\n",
       " 'Manchester United': 2889884.0,\n",
       " 'Montpellier HSC': 16858.0,\n",
       " 'Newcastle United': 74188.0,\n",
       " 'Norwich City': 44949.5,\n",
       " 'OGC Nice': 40655.0,\n",
       " 'Olympique Lyon': 189588.0,\n",
       " 'Olympique Marseille': 200447.0,\n",
       " 'Olympique de Marseille B': 31322.0,\n",
       " 'Paris Saint-Germain': 3760312.5,\n",
       " 'RB Leipzig': 136389.5,\n",
       " 'RC Lens': 20392.0,\n",
       " 'RC Strasbourg Alsace': 24364.0,\n",
       " 'RCD Espanyol Barcelona': 41932.5,\n",
       " 'RCD Mallorca': 30836.5,\n",
       " 'RasenBallsport Leipzig U19': 8536.0,\n",
       " 'Rayo Vallecano': 13420.0,\n",
       " 'Real Betis Balompié': 215747.0,\n",
       " 'Real Madrid': 7970518.0,\n",
       " 'Real Madrid Castilla': 170347.0,\n",
       " 'Real Sociedad': 56088.0,\n",
       " 'Real Sociedad B': 11569.5,\n",
       " 'SC Freiburg': 21366.5,\n",
       " 'SCO Angers': 12027.0,\n",
       " 'SCO Angers B': 3038.0,\n",
       " 'SS Lazio': 111924.0,\n",
       " 'SSC Napoli': 507681.5,\n",
       " 'Sevilla FC': 382872.0,\n",
       " 'Southampton FC': 70056.0,\n",
       " 'SpVgg Greuther Fürth': 8814.0,\n",
       " 'Spezia Calcio': 18170.0,\n",
       " 'Stade Brestois 29': 16781.0,\n",
       " 'Stade Reims': 12536.0,\n",
       " 'Stade Rennais FC': 22546.0,\n",
       " 'TSG 1899 Hoffenheim': 36571.0,\n",
       " 'TSG 1899 Hoffenheim II': 3300.0,\n",
       " 'Torino FC': 61978.0,\n",
       " 'Tottenham Hotspur': 571395.0,\n",
       " 'UC Sampdoria': 35792.0,\n",
       " 'US Salernitana 1919': 15535.0,\n",
       " 'US Sassuolo': 71335.5,\n",
       " 'Udinese Calcio': 35653.0,\n",
       " 'Valencia CF': 108913.0,\n",
       " 'Venezia FC': 19581.0,\n",
       " 'VfB Stuttgart': 24320.0,\n",
       " 'VfL Bochum': 12085.0,\n",
       " 'VfL Wolfsburg': 40782.0,\n",
       " 'Villarreal CF': 173678.0,\n",
       " 'Villarreal CF B': 6725.0,\n",
       " 'Watford FC': 161864.0,\n",
       " 'West Ham United': 170709.0,\n",
       " 'Wolverhampton Wanderers': 169873.0}"
      ]
     },
     "execution_count": 67,
     "metadata": {},
     "output_type": "execute_result"
    }
   ],
   "source": [
    "mean_folow_club = df.groupby(['club']).agg({'follower': np.median}).fillna(5000)\n",
    "_dct_mean_fol = {}\n",
    "for _index, _values in zip(mean_folow_club.index, mean_folow_club.values):\n",
    "    _dct_mean_fol[_index] = _values[0]\n",
    "_dct_mean_fol"
   ]
  },
  {
   "cell_type": "code",
   "execution_count": 68,
   "metadata": {},
   "outputs": [
    {
     "data": {
      "image/png": "[encoded data removed]",
      "text/plain": [
       "<Figure size 360x504 with 1 Axes>"
      ]
     },
     "metadata": {},
     "output_type": "display_data"
    }
   ],
   "source": [
    "plt.figure(figsize=(5, 7))\n",
    "plt.scatter(np.random.random_sample(df.shape[0]), df.follower, s=20, alpha=0.4)\n",
    "plt.xticks([-1, 3])\n",
    "plt.ylabel('trăm triệu', rotation = 90)\n",
    "plt.xticks([0.5], ['follower'], size=20)\n",
    "plt.tight_layout()"
   ]
  },
  {
   "cell_type": "code",
   "execution_count": 69,
   "metadata": {},
   "outputs": [],
   "source": [
    "miss_process._follower(fill_map='auto')"
   ]
  },
  {
   "cell_type": "code",
   "execution_count": 70,
   "metadata": {},
   "outputs": [],
   "source": [
    "# xoa cot du lieu khong can thiet hoac bi thieu qua nhieu"
   ]
  },
  {
   "cell_type": "code",
   "execution_count": 71,
   "metadata": {},
   "outputs": [
    {
     "name": "stdout",
     "output_type": "stream",
     "text": [
      ">>Successfully. Deleted columns: ['number', 'urlInsta', 'agent', 'outfitter', 'Unnamed: 0', 'foot']\n"
     ]
    },
    {
     "data": {
      "text/plain": [
       "name               0\n",
       "league             0\n",
       "age                0\n",
       "height             0\n",
       "position           0\n",
       "erfolge            0\n",
       "caps               0\n",
       "goalsCap           0\n",
       "follower           0\n",
       "club               0\n",
       "contractExpires    0\n",
       "score              0\n",
       "country            0\n",
       "price              0\n",
       "dtype: int64"
      ]
     },
     "execution_count": 71,
     "metadata": {},
     "output_type": "execute_result"
    }
   ],
   "source": [
    "pre.delete_columns(df).isna().sum()"
   ]
  },
  {
   "cell_type": "code",
   "execution_count": 72,
   "metadata": {},
   "outputs": [
    {
     "data": {
      "text/plain": [
       "<AxesSubplot:>"
      ]
     },
     "execution_count": 72,
     "metadata": {},
     "output_type": "execute_result"
    },
    {
     "data": {
      "image/png": "[encoded data removed]",
      "text/plain": [
       "<Figure size 576x288 with 1 Axes>"
      ]
     },
     "metadata": {},
     "output_type": "display_data"
    }
   ],
   "source": [
    "plt.figure(figsize= (8, 4))\n",
    "plt.style.use('fivethirtyeight')\n",
    "sns.heatmap(df.isna(),  yticklabels= False, cbar= False, cmap= 'viridis' )"
   ]
  },
  {
   "cell_type": "code",
   "execution_count": 73,
   "metadata": {},
   "outputs": [
    {
     "data": {
      "text/plain": [
       "name               0\n",
       "league             0\n",
       "age                0\n",
       "height             0\n",
       "position           0\n",
       "erfolge            0\n",
       "caps               0\n",
       "goalsCap           0\n",
       "follower           0\n",
       "club               0\n",
       "contractExpires    0\n",
       "score              0\n",
       "country            0\n",
       "price              0\n",
       "dtype: int64"
      ]
     },
     "execution_count": 73,
     "metadata": {},
     "output_type": "execute_result"
    }
   ],
   "source": [
    "df.isna().sum()"
   ]
  },
  {
   "cell_type": "code",
   "execution_count": 74,
   "metadata": {},
   "outputs": [
    {
     "data": {
      "text/html": [
       "<div>\n",
       "<style scoped>\n",
       "    .dataframe tbody tr th:only-of-type {\n",
       "        vertical-align: middle;\n",
       "    }\n",
       "\n",
       "    .dataframe tbody tr th {\n",
       "        vertical-align: top;\n",
       "    }\n",
       "\n",
       "    .dataframe thead th {\n",
       "        text-align: right;\n",
       "    }\n",
       "</style>\n",
       "<table border=\"1\" class=\"dataframe\">\n",
       "  <thead>\n",
       "    <tr style=\"text-align: right;\">\n",
       "      <th></th>\n",
       "      <th>name</th>\n",
       "      <th>league</th>\n",
       "      <th>age</th>\n",
       "      <th>height</th>\n",
       "      <th>position</th>\n",
       "      <th>erfolge</th>\n",
       "      <th>caps</th>\n",
       "      <th>goalsCap</th>\n",
       "      <th>follower</th>\n",
       "      <th>club</th>\n",
       "      <th>contractExpires</th>\n",
       "      <th>score</th>\n",
       "      <th>country</th>\n",
       "      <th>price</th>\n",
       "    </tr>\n",
       "  </thead>\n",
       "  <tbody>\n",
       "    <tr>\n",
       "      <th>0</th>\n",
       "      <td>Habib Keïta</td>\n",
       "      <td>Ligue 1</td>\n",
       "      <td>19</td>\n",
       "      <td>1.82</td>\n",
       "      <td>midfield</td>\n",
       "      <td>0</td>\n",
       "      <td>0</td>\n",
       "      <td>0</td>\n",
       "      <td>6063.0</td>\n",
       "      <td>Olympique Lyon</td>\n",
       "      <td>2025-06-30</td>\n",
       "      <td>8/1/0/413/413/</td>\n",
       "      <td>Mali</td>\n",
       "      <td>0.5</td>\n",
       "    </tr>\n",
       "    <tr>\n",
       "      <th>1</th>\n",
       "      <td>Rogério</td>\n",
       "      <td>Serie A</td>\n",
       "      <td>23</td>\n",
       "      <td>1.78</td>\n",
       "      <td>Defender</td>\n",
       "      <td>0</td>\n",
       "      <td>0</td>\n",
       "      <td>0</td>\n",
       "      <td>249000.0</td>\n",
       "      <td>US Sassuolo</td>\n",
       "      <td>2024-06-30</td>\n",
       "      <td>12/0/1/0/1.021/</td>\n",
       "      <td>Brazil</td>\n",
       "      <td>6.0</td>\n",
       "    </tr>\n",
       "  </tbody>\n",
       "</table>\n",
       "</div>"
      ],
      "text/plain": [
       "          name   league  age  height  position  erfolge  caps  goalsCap  \\\n",
       "0  Habib Keïta  Ligue 1   19    1.82  midfield        0     0         0   \n",
       "1      Rogério  Serie A   23    1.78  Defender        0     0         0   \n",
       "\n",
       "   follower            club contractExpires            score country  price  \n",
       "0    6063.0  Olympique Lyon      2025-06-30   8/1/0/413/413/    Mali    0.5  \n",
       "1  249000.0     US Sassuolo      2024-06-30  12/0/1/0/1.021/  Brazil    6.0  "
      ]
     },
     "execution_count": 74,
     "metadata": {},
     "output_type": "execute_result"
    }
   ],
   "source": [
    "df.head(2)"
   ]
  },
  {
   "cell_type": "markdown",
   "metadata": {},
   "source": [
    "## Convert to numeric datatype"
   ]
  },
  {
   "cell_type": "code",
   "execution_count": 75,
   "metadata": {},
   "outputs": [
    {
     "data": {
      "text/plain": [
       "name                object\n",
       "league              object\n",
       "age                  int64\n",
       "height             float64\n",
       "position            object\n",
       "erfolge              int64\n",
       "caps                 int64\n",
       "goalsCap             int64\n",
       "follower           float64\n",
       "club                object\n",
       "contractExpires     object\n",
       "score               object\n",
       "country             object\n",
       "price              float64\n",
       "dtype: object"
      ]
     },
     "execution_count": 75,
     "metadata": {},
     "output_type": "execute_result"
    }
   ],
   "source": [
    "df.dtypes"
   ]
  },
  {
   "cell_type": "code",
   "execution_count": 76,
   "metadata": {},
   "outputs": [],
   "source": [
    "cvt = pre.convert_to_nummeric(df)"
   ]
  },
  {
   "cell_type": "code",
   "execution_count": 77,
   "metadata": {},
   "outputs": [],
   "source": [
    "cvt.club()\n",
    "cvt.contract_year()\n",
    "cvt.country()\n",
    "cvt.league()\n",
    "cvt.position()"
   ]
  },
  {
   "cell_type": "code",
   "execution_count": 78,
   "metadata": {},
   "outputs": [],
   "source": [
    "df_ct, df_gk = cvt.score(df)"
   ]
  },
  {
   "cell_type": "code",
   "execution_count": 79,
   "metadata": {},
   "outputs": [
    {
     "name": "stdout",
     "output_type": "stream",
     "text": [
      "gk shape: (308, 17)\n",
      "ct shape: (2368, 17)\n"
     ]
    }
   ],
   "source": [
    "print(f'gk shape: {df_gk.shape}')\n",
    "print(f'ct shape: {df_ct.shape}')"
   ]
  },
  {
   "cell_type": "code",
   "execution_count": 80,
   "metadata": {},
   "outputs": [
    {
     "data": {
      "text/html": [
       "<div>\n",
       "<style scoped>\n",
       "    .dataframe tbody tr th:only-of-type {\n",
       "        vertical-align: middle;\n",
       "    }\n",
       "\n",
       "    .dataframe tbody tr th {\n",
       "        vertical-align: top;\n",
       "    }\n",
       "\n",
       "    .dataframe thead th {\n",
       "        text-align: right;\n",
       "    }\n",
       "</style>\n",
       "<table border=\"1\" class=\"dataframe\">\n",
       "  <thead>\n",
       "    <tr style=\"text-align: right;\">\n",
       "      <th></th>\n",
       "      <th>name</th>\n",
       "      <th>league</th>\n",
       "      <th>age</th>\n",
       "      <th>height</th>\n",
       "      <th>position</th>\n",
       "      <th>erfolge</th>\n",
       "      <th>caps</th>\n",
       "      <th>goalsCap</th>\n",
       "      <th>follower</th>\n",
       "      <th>club</th>\n",
       "      <th>contractYear</th>\n",
       "      <th>country</th>\n",
       "      <th>price</th>\n",
       "      <th>appearances</th>\n",
       "      <th>goals</th>\n",
       "      <th>assists</th>\n",
       "      <th>minuted</th>\n",
       "    </tr>\n",
       "  </thead>\n",
       "  <tbody>\n",
       "    <tr>\n",
       "      <th>0</th>\n",
       "      <td>Habib Keïta</td>\n",
       "      <td>4.0</td>\n",
       "      <td>19</td>\n",
       "      <td>1.82</td>\n",
       "      <td>2</td>\n",
       "      <td>0</td>\n",
       "      <td>0</td>\n",
       "      <td>0</td>\n",
       "      <td>6063.0</td>\n",
       "      <td>1.0</td>\n",
       "      <td>3.539726</td>\n",
       "      <td>3.0</td>\n",
       "      <td>0.5</td>\n",
       "      <td>8.0</td>\n",
       "      <td>1.0</td>\n",
       "      <td>0.0</td>\n",
       "      <td>413.000</td>\n",
       "    </tr>\n",
       "    <tr>\n",
       "      <th>1</th>\n",
       "      <td>Rogério</td>\n",
       "      <td>2.0</td>\n",
       "      <td>23</td>\n",
       "      <td>1.78</td>\n",
       "      <td>1</td>\n",
       "      <td>0</td>\n",
       "      <td>0</td>\n",
       "      <td>0</td>\n",
       "      <td>249000.0</td>\n",
       "      <td>1.0</td>\n",
       "      <td>2.539726</td>\n",
       "      <td>2.0</td>\n",
       "      <td>6.0</td>\n",
       "      <td>12.0</td>\n",
       "      <td>0.0</td>\n",
       "      <td>1.0</td>\n",
       "      <td>1.021</td>\n",
       "    </tr>\n",
       "  </tbody>\n",
       "</table>\n",
       "</div>"
      ],
      "text/plain": [
       "          name  league  age  height  position  erfolge  caps  goalsCap  \\\n",
       "0  Habib Keïta     4.0   19    1.82         2        0     0         0   \n",
       "1      Rogério     2.0   23    1.78         1        0     0         0   \n",
       "\n",
       "   follower  club  contractYear  country  price  appearances  goals  assists  \\\n",
       "0    6063.0   1.0      3.539726      3.0    0.5          8.0    1.0      0.0   \n",
       "1  249000.0   1.0      2.539726      2.0    6.0         12.0    0.0      1.0   \n",
       "\n",
       "   minuted  \n",
       "0  413.000  \n",
       "1    1.021  "
      ]
     },
     "execution_count": 80,
     "metadata": {},
     "output_type": "execute_result"
    }
   ],
   "source": [
    "df_ct.head(2)"
   ]
  },
  {
   "cell_type": "code",
   "execution_count": 81,
   "metadata": {},
   "outputs": [
    {
     "data": {
      "text/html": [
       "<div>\n",
       "<style scoped>\n",
       "    .dataframe tbody tr th:only-of-type {\n",
       "        vertical-align: middle;\n",
       "    }\n",
       "\n",
       "    .dataframe tbody tr th {\n",
       "        vertical-align: top;\n",
       "    }\n",
       "\n",
       "    .dataframe thead th {\n",
       "        text-align: right;\n",
       "    }\n",
       "</style>\n",
       "<table border=\"1\" class=\"dataframe\">\n",
       "  <thead>\n",
       "    <tr style=\"text-align: right;\">\n",
       "      <th></th>\n",
       "      <th>name</th>\n",
       "      <th>league</th>\n",
       "      <th>age</th>\n",
       "      <th>height</th>\n",
       "      <th>position</th>\n",
       "      <th>erfolge</th>\n",
       "      <th>caps</th>\n",
       "      <th>goalsCap</th>\n",
       "      <th>follower</th>\n",
       "      <th>club</th>\n",
       "      <th>contractYear</th>\n",
       "      <th>country</th>\n",
       "      <th>price</th>\n",
       "      <th>appearances</th>\n",
       "      <th>nilnil_games</th>\n",
       "      <th>goals_conceded</th>\n",
       "      <th>minuted</th>\n",
       "    </tr>\n",
       "  </thead>\n",
       "  <tbody>\n",
       "    <tr>\n",
       "      <th>2</th>\n",
       "      <td>Steve Mandanda</td>\n",
       "      <td>4.0</td>\n",
       "      <td>36</td>\n",
       "      <td>1.85</td>\n",
       "      <td>0</td>\n",
       "      <td>8</td>\n",
       "      <td>34</td>\n",
       "      <td>0</td>\n",
       "      <td>634401.0</td>\n",
       "      <td>1.0</td>\n",
       "      <td>2.539726</td>\n",
       "      <td>1.0</td>\n",
       "      <td>2.0</td>\n",
       "      <td>4.0</td>\n",
       "      <td>1.0</td>\n",
       "      <td>5.0</td>\n",
       "      <td>360.00</td>\n",
       "    </tr>\n",
       "    <tr>\n",
       "      <th>5</th>\n",
       "      <td>Unai Simón</td>\n",
       "      <td>1.0</td>\n",
       "      <td>24</td>\n",
       "      <td>1.90</td>\n",
       "      <td>0</td>\n",
       "      <td>3</td>\n",
       "      <td>20</td>\n",
       "      <td>0</td>\n",
       "      <td>3800.0</td>\n",
       "      <td>1.0</td>\n",
       "      <td>3.539726</td>\n",
       "      <td>1.0</td>\n",
       "      <td>20.0</td>\n",
       "      <td>14.0</td>\n",
       "      <td>6.0</td>\n",
       "      <td>10.0</td>\n",
       "      <td>1.26</td>\n",
       "    </tr>\n",
       "  </tbody>\n",
       "</table>\n",
       "</div>"
      ],
      "text/plain": [
       "             name  league  age  height  position  erfolge  caps  goalsCap  \\\n",
       "2  Steve Mandanda     4.0   36    1.85         0        8    34         0   \n",
       "5      Unai Simón     1.0   24    1.90         0        3    20         0   \n",
       "\n",
       "   follower  club  contractYear  country  price  appearances  nilnil_games  \\\n",
       "2  634401.0   1.0      2.539726      1.0    2.0          4.0           1.0   \n",
       "5    3800.0   1.0      3.539726      1.0   20.0         14.0           6.0   \n",
       "\n",
       "   goals_conceded  minuted  \n",
       "2             5.0   360.00  \n",
       "5            10.0     1.26  "
      ]
     },
     "execution_count": 81,
     "metadata": {},
     "output_type": "execute_result"
    }
   ],
   "source": [
    "df_gk.head(2)"
   ]
  },
  {
   "cell_type": "code",
   "execution_count": 82,
   "metadata": {},
   "outputs": [
    {
     "data": {
      "text/html": [
       "<div>\n",
       "<style scoped>\n",
       "    .dataframe tbody tr th:only-of-type {\n",
       "        vertical-align: middle;\n",
       "    }\n",
       "\n",
       "    .dataframe tbody tr th {\n",
       "        vertical-align: top;\n",
       "    }\n",
       "\n",
       "    .dataframe thead th {\n",
       "        text-align: right;\n",
       "    }\n",
       "</style>\n",
       "<table border=\"1\" class=\"dataframe\">\n",
       "  <thead>\n",
       "    <tr style=\"text-align: right;\">\n",
       "      <th></th>\n",
       "      <th>league</th>\n",
       "      <th>age</th>\n",
       "      <th>height</th>\n",
       "      <th>position</th>\n",
       "      <th>erfolge</th>\n",
       "      <th>caps</th>\n",
       "      <th>goalsCap</th>\n",
       "      <th>follower</th>\n",
       "      <th>club</th>\n",
       "      <th>contractYear</th>\n",
       "      <th>country</th>\n",
       "      <th>price</th>\n",
       "      <th>appearances</th>\n",
       "      <th>goals</th>\n",
       "      <th>assists</th>\n",
       "      <th>minuted</th>\n",
       "    </tr>\n",
       "  </thead>\n",
       "  <tbody>\n",
       "    <tr>\n",
       "      <th>count</th>\n",
       "      <td>2368.000000</td>\n",
       "      <td>2368.000000</td>\n",
       "      <td>2368.000000</td>\n",
       "      <td>2368.000000</td>\n",
       "      <td>2368.000000</td>\n",
       "      <td>2368.000000</td>\n",
       "      <td>2368.000000</td>\n",
       "      <td>2.368000e+03</td>\n",
       "      <td>2368.000000</td>\n",
       "      <td>2368.000000</td>\n",
       "      <td>2368.000000</td>\n",
       "      <td>2368.000000</td>\n",
       "      <td>2368.000000</td>\n",
       "      <td>2368.000000</td>\n",
       "      <td>2368.000000</td>\n",
       "      <td>2368.000000</td>\n",
       "    </tr>\n",
       "    <tr>\n",
       "      <th>mean</th>\n",
       "      <td>2.046030</td>\n",
       "      <td>25.714105</td>\n",
       "      <td>1.819362</td>\n",
       "      <td>1.921030</td>\n",
       "      <td>2.273649</td>\n",
       "      <td>15.240709</td>\n",
       "      <td>2.326014</td>\n",
       "      <td>1.223010e+06</td>\n",
       "      <td>0.850929</td>\n",
       "      <td>2.000718</td>\n",
       "      <td>1.332348</td>\n",
       "      <td>10.679761</td>\n",
       "      <td>18.868243</td>\n",
       "      <td>2.066301</td>\n",
       "      <td>1.476351</td>\n",
       "      <td>315.606806</td>\n",
       "    </tr>\n",
       "    <tr>\n",
       "      <th>std</th>\n",
       "      <td>1.429661</td>\n",
       "      <td>4.385108</td>\n",
       "      <td>0.063074</td>\n",
       "      <td>0.819655</td>\n",
       "      <td>3.802734</td>\n",
       "      <td>23.799834</td>\n",
       "      <td>6.823823</td>\n",
       "      <td>1.098725e+07</td>\n",
       "      <td>0.356234</td>\n",
       "      <td>1.276470</td>\n",
       "      <td>0.815317</td>\n",
       "      <td>15.494484</td>\n",
       "      <td>42.267315</td>\n",
       "      <td>6.800761</td>\n",
       "      <td>3.796618</td>\n",
       "      <td>328.761492</td>\n",
       "    </tr>\n",
       "    <tr>\n",
       "      <th>min</th>\n",
       "      <td>0.000000</td>\n",
       "      <td>16.000000</td>\n",
       "      <td>1.630000</td>\n",
       "      <td>1.000000</td>\n",
       "      <td>0.000000</td>\n",
       "      <td>0.000000</td>\n",
       "      <td>0.000000</td>\n",
       "      <td>9.000000e+00</td>\n",
       "      <td>0.000000</td>\n",
       "      <td>0.126027</td>\n",
       "      <td>0.000000</td>\n",
       "      <td>0.075000</td>\n",
       "      <td>0.000000</td>\n",
       "      <td>0.000000</td>\n",
       "      <td>0.000000</td>\n",
       "      <td>0.000000</td>\n",
       "    </tr>\n",
       "    <tr>\n",
       "      <th>25%</th>\n",
       "      <td>1.000000</td>\n",
       "      <td>22.000000</td>\n",
       "      <td>1.780000</td>\n",
       "      <td>1.000000</td>\n",
       "      <td>0.000000</td>\n",
       "      <td>1.000000</td>\n",
       "      <td>0.000000</td>\n",
       "      <td>1.958100e+04</td>\n",
       "      <td>1.000000</td>\n",
       "      <td>0.536986</td>\n",
       "      <td>1.000000</td>\n",
       "      <td>1.800000</td>\n",
       "      <td>8.000000</td>\n",
       "      <td>0.000000</td>\n",
       "      <td>0.000000</td>\n",
       "      <td>1.420750</td>\n",
       "    </tr>\n",
       "    <tr>\n",
       "      <th>50%</th>\n",
       "      <td>2.000000</td>\n",
       "      <td>25.000000</td>\n",
       "      <td>1.820000</td>\n",
       "      <td>2.000000</td>\n",
       "      <td>1.000000</td>\n",
       "      <td>5.000000</td>\n",
       "      <td>0.000000</td>\n",
       "      <td>4.806150e+04</td>\n",
       "      <td>1.000000</td>\n",
       "      <td>1.536986</td>\n",
       "      <td>1.000000</td>\n",
       "      <td>5.000000</td>\n",
       "      <td>13.000000</td>\n",
       "      <td>1.000000</td>\n",
       "      <td>1.000000</td>\n",
       "      <td>215.500000</td>\n",
       "    </tr>\n",
       "    <tr>\n",
       "      <th>75%</th>\n",
       "      <td>3.000000</td>\n",
       "      <td>29.000000</td>\n",
       "      <td>1.860000</td>\n",
       "      <td>3.000000</td>\n",
       "      <td>3.000000</td>\n",
       "      <td>19.000000</td>\n",
       "      <td>2.000000</td>\n",
       "      <td>2.653692e+05</td>\n",
       "      <td>1.000000</td>\n",
       "      <td>2.539726</td>\n",
       "      <td>2.000000</td>\n",
       "      <td>13.000000</td>\n",
       "      <td>16.000000</td>\n",
       "      <td>2.000000</td>\n",
       "      <td>2.000000</td>\n",
       "      <td>598.000000</td>\n",
       "    </tr>\n",
       "    <tr>\n",
       "      <th>max</th>\n",
       "      <td>5.000000</td>\n",
       "      <td>40.000000</td>\n",
       "      <td>2.010000</td>\n",
       "      <td>3.000000</td>\n",
       "      <td>62.000000</td>\n",
       "      <td>184.000000</td>\n",
       "      <td>115.000000</td>\n",
       "      <td>3.742918e+08</td>\n",
       "      <td>1.000000</td>\n",
       "      <td>9.542466</td>\n",
       "      <td>3.000000</td>\n",
       "      <td>160.000000</td>\n",
       "      <td>516.000000</td>\n",
       "      <td>144.000000</td>\n",
       "      <td>78.000000</td>\n",
       "      <td>999.000000</td>\n",
       "    </tr>\n",
       "  </tbody>\n",
       "</table>\n",
       "</div>"
      ],
      "text/plain": [
       "            league          age       height     position      erfolge  \\\n",
       "count  2368.000000  2368.000000  2368.000000  2368.000000  2368.000000   \n",
       "mean      2.046030    25.714105     1.819362     1.921030     2.273649   \n",
       "std       1.429661     4.385108     0.063074     0.819655     3.802734   \n",
       "min       0.000000    16.000000     1.630000     1.000000     0.000000   \n",
       "25%       1.000000    22.000000     1.780000     1.000000     0.000000   \n",
       "50%       2.000000    25.000000     1.820000     2.000000     1.000000   \n",
       "75%       3.000000    29.000000     1.860000     3.000000     3.000000   \n",
       "max       5.000000    40.000000     2.010000     3.000000    62.000000   \n",
       "\n",
       "              caps     goalsCap      follower         club  contractYear  \\\n",
       "count  2368.000000  2368.000000  2.368000e+03  2368.000000   2368.000000   \n",
       "mean     15.240709     2.326014  1.223010e+06     0.850929      2.000718   \n",
       "std      23.799834     6.823823  1.098725e+07     0.356234      1.276470   \n",
       "min       0.000000     0.000000  9.000000e+00     0.000000      0.126027   \n",
       "25%       1.000000     0.000000  1.958100e+04     1.000000      0.536986   \n",
       "50%       5.000000     0.000000  4.806150e+04     1.000000      1.536986   \n",
       "75%      19.000000     2.000000  2.653692e+05     1.000000      2.539726   \n",
       "max     184.000000   115.000000  3.742918e+08     1.000000      9.542466   \n",
       "\n",
       "           country        price  appearances        goals      assists  \\\n",
       "count  2368.000000  2368.000000  2368.000000  2368.000000  2368.000000   \n",
       "mean      1.332348    10.679761    18.868243     2.066301     1.476351   \n",
       "std       0.815317    15.494484    42.267315     6.800761     3.796618   \n",
       "min       0.000000     0.075000     0.000000     0.000000     0.000000   \n",
       "25%       1.000000     1.800000     8.000000     0.000000     0.000000   \n",
       "50%       1.000000     5.000000    13.000000     1.000000     1.000000   \n",
       "75%       2.000000    13.000000    16.000000     2.000000     2.000000   \n",
       "max       3.000000   160.000000   516.000000   144.000000    78.000000   \n",
       "\n",
       "           minuted  \n",
       "count  2368.000000  \n",
       "mean    315.606806  \n",
       "std     328.761492  \n",
       "min       0.000000  \n",
       "25%       1.420750  \n",
       "50%     215.500000  \n",
       "75%     598.000000  \n",
       "max     999.000000  "
      ]
     },
     "execution_count": 82,
     "metadata": {},
     "output_type": "execute_result"
    }
   ],
   "source": [
    "df_ct.describe()"
   ]
  },
  {
   "cell_type": "code",
   "execution_count": 83,
   "metadata": {},
   "outputs": [
    {
     "data": {
      "text/html": [
       "<div>\n",
       "<style scoped>\n",
       "    .dataframe tbody tr th:only-of-type {\n",
       "        vertical-align: middle;\n",
       "    }\n",
       "\n",
       "    .dataframe tbody tr th {\n",
       "        vertical-align: top;\n",
       "    }\n",
       "\n",
       "    .dataframe thead th {\n",
       "        text-align: right;\n",
       "    }\n",
       "</style>\n",
       "<table border=\"1\" class=\"dataframe\">\n",
       "  <thead>\n",
       "    <tr style=\"text-align: right;\">\n",
       "      <th></th>\n",
       "      <th>league</th>\n",
       "      <th>age</th>\n",
       "      <th>height</th>\n",
       "      <th>position</th>\n",
       "      <th>erfolge</th>\n",
       "      <th>caps</th>\n",
       "      <th>goalsCap</th>\n",
       "      <th>follower</th>\n",
       "      <th>club</th>\n",
       "      <th>contractYear</th>\n",
       "      <th>country</th>\n",
       "      <th>price</th>\n",
       "      <th>appearances</th>\n",
       "      <th>nilnil_games</th>\n",
       "      <th>goals_conceded</th>\n",
       "      <th>minuted</th>\n",
       "    </tr>\n",
       "  </thead>\n",
       "  <tbody>\n",
       "    <tr>\n",
       "      <th>count</th>\n",
       "      <td>308.000000</td>\n",
       "      <td>308.000000</td>\n",
       "      <td>308.000000</td>\n",
       "      <td>308.0</td>\n",
       "      <td>308.000000</td>\n",
       "      <td>308.000000</td>\n",
       "      <td>308.0</td>\n",
       "      <td>3.080000e+02</td>\n",
       "      <td>308.000000</td>\n",
       "      <td>308.000000</td>\n",
       "      <td>308.000000</td>\n",
       "      <td>308.000000</td>\n",
       "      <td>308.000000</td>\n",
       "      <td>308.000000</td>\n",
       "      <td>308.000000</td>\n",
       "      <td>308.000000</td>\n",
       "    </tr>\n",
       "    <tr>\n",
       "      <th>mean</th>\n",
       "      <td>2.129870</td>\n",
       "      <td>27.665584</td>\n",
       "      <td>1.900974</td>\n",
       "      <td>0.0</td>\n",
       "      <td>2.068182</td>\n",
       "      <td>11.123377</td>\n",
       "      <td>0.0</td>\n",
       "      <td>4.543724e+05</td>\n",
       "      <td>0.840909</td>\n",
       "      <td>1.708424</td>\n",
       "      <td>1.097403</td>\n",
       "      <td>4.786640</td>\n",
       "      <td>19.321429</td>\n",
       "      <td>5.704545</td>\n",
       "      <td>24.970779</td>\n",
       "      <td>162.128987</td>\n",
       "    </tr>\n",
       "    <tr>\n",
       "      <th>std</th>\n",
       "      <td>1.460451</td>\n",
       "      <td>5.449369</td>\n",
       "      <td>0.042315</td>\n",
       "      <td>0.0</td>\n",
       "      <td>2.952153</td>\n",
       "      <td>23.630938</td>\n",
       "      <td>0.0</td>\n",
       "      <td>1.674074e+06</td>\n",
       "      <td>0.366356</td>\n",
       "      <td>1.191802</td>\n",
       "      <td>0.606904</td>\n",
       "      <td>9.636501</td>\n",
       "      <td>63.537088</td>\n",
       "      <td>19.682340</td>\n",
       "      <td>80.193957</td>\n",
       "      <td>262.567700</td>\n",
       "    </tr>\n",
       "    <tr>\n",
       "      <th>min</th>\n",
       "      <td>0.000000</td>\n",
       "      <td>18.000000</td>\n",
       "      <td>1.780000</td>\n",
       "      <td>0.0</td>\n",
       "      <td>0.000000</td>\n",
       "      <td>0.000000</td>\n",
       "      <td>0.0</td>\n",
       "      <td>4.000000e+00</td>\n",
       "      <td>0.000000</td>\n",
       "      <td>-0.463014</td>\n",
       "      <td>0.000000</td>\n",
       "      <td>0.010000</td>\n",
       "      <td>0.000000</td>\n",
       "      <td>0.000000</td>\n",
       "      <td>0.000000</td>\n",
       "      <td>0.000000</td>\n",
       "    </tr>\n",
       "    <tr>\n",
       "      <th>25%</th>\n",
       "      <td>1.000000</td>\n",
       "      <td>23.000000</td>\n",
       "      <td>1.870000</td>\n",
       "      <td>0.0</td>\n",
       "      <td>0.000000</td>\n",
       "      <td>0.000000</td>\n",
       "      <td>0.0</td>\n",
       "      <td>1.436575e+04</td>\n",
       "      <td>1.000000</td>\n",
       "      <td>0.536986</td>\n",
       "      <td>1.000000</td>\n",
       "      <td>0.300000</td>\n",
       "      <td>1.000000</td>\n",
       "      <td>0.000000</td>\n",
       "      <td>0.000000</td>\n",
       "      <td>1.153000</td>\n",
       "    </tr>\n",
       "    <tr>\n",
       "      <th>50%</th>\n",
       "      <td>2.000000</td>\n",
       "      <td>28.000000</td>\n",
       "      <td>1.900000</td>\n",
       "      <td>0.0</td>\n",
       "      <td>1.000000</td>\n",
       "      <td>1.000000</td>\n",
       "      <td>0.0</td>\n",
       "      <td>3.716150e+04</td>\n",
       "      <td>1.000000</td>\n",
       "      <td>1.536986</td>\n",
       "      <td>1.000000</td>\n",
       "      <td>1.000000</td>\n",
       "      <td>6.000000</td>\n",
       "      <td>1.000000</td>\n",
       "      <td>8.000000</td>\n",
       "      <td>1.800000</td>\n",
       "    </tr>\n",
       "    <tr>\n",
       "      <th>75%</th>\n",
       "      <td>3.000000</td>\n",
       "      <td>32.000000</td>\n",
       "      <td>1.930000</td>\n",
       "      <td>0.0</td>\n",
       "      <td>3.000000</td>\n",
       "      <td>8.000000</td>\n",
       "      <td>0.0</td>\n",
       "      <td>1.392990e+05</td>\n",
       "      <td>1.000000</td>\n",
       "      <td>2.539726</td>\n",
       "      <td>1.000000</td>\n",
       "      <td>5.000000</td>\n",
       "      <td>15.250000</td>\n",
       "      <td>4.000000</td>\n",
       "      <td>20.000000</td>\n",
       "      <td>270.000000</td>\n",
       "    </tr>\n",
       "    <tr>\n",
       "      <th>max</th>\n",
       "      <td>5.000000</td>\n",
       "      <td>40.000000</td>\n",
       "      <td>2.040000</td>\n",
       "      <td>0.0</td>\n",
       "      <td>20.000000</td>\n",
       "      <td>139.000000</td>\n",
       "      <td>0.0</td>\n",
       "      <td>1.349487e+07</td>\n",
       "      <td>1.000000</td>\n",
       "      <td>5.539726</td>\n",
       "      <td>3.000000</td>\n",
       "      <td>70.000000</td>\n",
       "      <td>514.000000</td>\n",
       "      <td>152.000000</td>\n",
       "      <td>677.000000</td>\n",
       "      <td>990.000000</td>\n",
       "    </tr>\n",
       "  </tbody>\n",
       "</table>\n",
       "</div>"
      ],
      "text/plain": [
       "           league         age      height  position     erfolge        caps  \\\n",
       "count  308.000000  308.000000  308.000000     308.0  308.000000  308.000000   \n",
       "mean     2.129870   27.665584    1.900974       0.0    2.068182   11.123377   \n",
       "std      1.460451    5.449369    0.042315       0.0    2.952153   23.630938   \n",
       "min      0.000000   18.000000    1.780000       0.0    0.000000    0.000000   \n",
       "25%      1.000000   23.000000    1.870000       0.0    0.000000    0.000000   \n",
       "50%      2.000000   28.000000    1.900000       0.0    1.000000    1.000000   \n",
       "75%      3.000000   32.000000    1.930000       0.0    3.000000    8.000000   \n",
       "max      5.000000   40.000000    2.040000       0.0   20.000000  139.000000   \n",
       "\n",
       "       goalsCap      follower        club  contractYear     country  \\\n",
       "count     308.0  3.080000e+02  308.000000    308.000000  308.000000   \n",
       "mean        0.0  4.543724e+05    0.840909      1.708424    1.097403   \n",
       "std         0.0  1.674074e+06    0.366356      1.191802    0.606904   \n",
       "min         0.0  4.000000e+00    0.000000     -0.463014    0.000000   \n",
       "25%         0.0  1.436575e+04    1.000000      0.536986    1.000000   \n",
       "50%         0.0  3.716150e+04    1.000000      1.536986    1.000000   \n",
       "75%         0.0  1.392990e+05    1.000000      2.539726    1.000000   \n",
       "max         0.0  1.349487e+07    1.000000      5.539726    3.000000   \n",
       "\n",
       "            price  appearances  nilnil_games  goals_conceded     minuted  \n",
       "count  308.000000   308.000000    308.000000      308.000000  308.000000  \n",
       "mean     4.786640    19.321429      5.704545       24.970779  162.128987  \n",
       "std      9.636501    63.537088     19.682340       80.193957  262.567700  \n",
       "min      0.010000     0.000000      0.000000        0.000000    0.000000  \n",
       "25%      0.300000     1.000000      0.000000        0.000000    1.153000  \n",
       "50%      1.000000     6.000000      1.000000        8.000000    1.800000  \n",
       "75%      5.000000    15.250000      4.000000       20.000000  270.000000  \n",
       "max     70.000000   514.000000    152.000000      677.000000  990.000000  "
      ]
     },
     "execution_count": 83,
     "metadata": {},
     "output_type": "execute_result"
    }
   ],
   "source": [
    "df_gk.describe()"
   ]
  },
  {
   "cell_type": "markdown",
   "metadata": {},
   "source": [
    "## Noise"
   ]
  },
  {
   "cell_type": "code",
   "execution_count": 84,
   "metadata": {},
   "outputs": [],
   "source": [
    "def img4noise(df, column_name):\n",
    "    fig, ax = plt.subplots(1, 2, figsize=(10, 3))\n",
    "    ax[0].hist(df[column_name], edgecolor= 'white', color = 'g')\n",
    "    ax[0].set_title('histogram of attrs {}'.format(column_name))\n",
    "    ax[1].boxplot(df[column_name])\n",
    "    ax[1].set_title('boxplot of attrs {}'.format(column_name))\n",
    "    ax[1].set_xticks([1], [column_name])\n",
    "    plt.show()"
   ]
  },
  {
   "cell_type": "code",
   "execution_count": 85,
   "metadata": {},
   "outputs": [
    {
     "data": {
      "image/png": "[encoded data removed]",
      "text/plain": [
       "<Figure size 720x216 with 2 Axes>"
      ]
     },
     "metadata": {},
     "output_type": "display_data"
    }
   ],
   "source": [
    "img4noise(df, 'age')"
   ]
  },
  {
   "cell_type": "code",
   "execution_count": 86,
   "metadata": {},
   "outputs": [
    {
     "data": {
      "image/png": "[encoded data removed]",
      "text/plain": [
       "<Figure size 720x216 with 2 Axes>"
      ]
     },
     "metadata": {},
     "output_type": "display_data"
    }
   ],
   "source": [
    "img4noise(df, 'height')"
   ]
  },
  {
   "cell_type": "code",
   "execution_count": 87,
   "metadata": {},
   "outputs": [],
   "source": [
    "#erfolge #GLM "
   ]
  },
  {
   "cell_type": "code",
   "execution_count": 88,
   "metadata": {},
   "outputs": [
    {
     "data": {
      "image/png": "[encoded data removed]",
      "text/plain": [
       "<Figure size 720x216 with 2 Axes>"
      ]
     },
     "metadata": {},
     "output_type": "display_data"
    }
   ],
   "source": [
    "img4noise(df, 'erfolge')"
   ]
  },
  {
   "cell_type": "code",
   "execution_count": 89,
   "metadata": {},
   "outputs": [
    {
     "data": {
      "image/png": "[encoded data removed]",
      "text/plain": [
       "<Figure size 720x216 with 2 Axes>"
      ]
     },
     "metadata": {},
     "output_type": "display_data"
    }
   ],
   "source": [
    "img4noise(df, 'follower')"
   ]
  },
  {
   "cell_type": "code",
   "execution_count": 90,
   "metadata": {},
   "outputs": [
    {
     "data": {
      "text/plain": [
       "[<matplotlib.axis.XTick at 0x7fb124e363a0>]"
      ]
     },
     "execution_count": 90,
     "metadata": {},
     "output_type": "execute_result"
    },
    {
     "data": {
      "image/png": "[encoded data removed]",
      "text/plain": [
       "<Figure size 720x432 with 3 Axes>"
      ]
     },
     "metadata": {},
     "output_type": "display_data"
    }
   ],
   "source": [
    "fig, ax = plt.subplots(1, 3, figsize=(10, 6))\n",
    "ax[0].boxplot(df.caps)\n",
    "ax[0].set_xticks([1], ['caps'])\n",
    "ax[1].boxplot(df.goalsCap)\n",
    "ax[1].set_xticks([1], ['goals caps'])\n",
    "ax[2].boxplot(df.price)\n",
    "ax[2].set_xticks([1], ['price'])"
   ]
  },
  {
   "cell_type": "code",
   "execution_count": 91,
   "metadata": {},
   "outputs": [],
   "source": [
    "#contract year"
   ]
  },
  {
   "cell_type": "code",
   "execution_count": 92,
   "metadata": {},
   "outputs": [
    {
     "data": {
      "image/png": "[encoded data removed]",
      "text/plain": [
       "<Figure size 720x216 with 2 Axes>"
      ]
     },
     "metadata": {},
     "output_type": "display_data"
    }
   ],
   "source": [
    "img4noise(df, 'contractYear')"
   ]
  },
  {
   "cell_type": "code",
   "execution_count": 93,
   "metadata": {},
   "outputs": [
    {
     "data": {
      "text/html": [
       "<div>\n",
       "<style scoped>\n",
       "    .dataframe tbody tr th:only-of-type {\n",
       "        vertical-align: middle;\n",
       "    }\n",
       "\n",
       "    .dataframe tbody tr th {\n",
       "        vertical-align: top;\n",
       "    }\n",
       "\n",
       "    .dataframe thead th {\n",
       "        text-align: right;\n",
       "    }\n",
       "</style>\n",
       "<table border=\"1\" class=\"dataframe\">\n",
       "  <thead>\n",
       "    <tr style=\"text-align: right;\">\n",
       "      <th></th>\n",
       "      <th>name</th>\n",
       "      <th>league</th>\n",
       "      <th>age</th>\n",
       "      <th>height</th>\n",
       "      <th>position</th>\n",
       "      <th>erfolge</th>\n",
       "      <th>caps</th>\n",
       "      <th>goalsCap</th>\n",
       "      <th>follower</th>\n",
       "      <th>club</th>\n",
       "      <th>contractYear</th>\n",
       "      <th>country</th>\n",
       "      <th>price</th>\n",
       "      <th>appearances</th>\n",
       "      <th>goals</th>\n",
       "      <th>assists</th>\n",
       "      <th>minuted</th>\n",
       "    </tr>\n",
       "  </thead>\n",
       "  <tbody>\n",
       "  </tbody>\n",
       "</table>\n",
       "</div>"
      ],
      "text/plain": [
       "Empty DataFrame\n",
       "Columns: [name, league, age, height, position, erfolge, caps, goalsCap, follower, club, contractYear, country, price, appearances, goals, assists, minuted]\n",
       "Index: []"
      ]
     },
     "execution_count": 93,
     "metadata": {},
     "output_type": "execute_result"
    }
   ],
   "source": [
    "df_ct.head(0)"
   ]
  },
  {
   "cell_type": "code",
   "execution_count": 94,
   "metadata": {},
   "outputs": [
    {
     "data": {
      "text/html": [
       "<div>\n",
       "<style scoped>\n",
       "    .dataframe tbody tr th:only-of-type {\n",
       "        vertical-align: middle;\n",
       "    }\n",
       "\n",
       "    .dataframe tbody tr th {\n",
       "        vertical-align: top;\n",
       "    }\n",
       "\n",
       "    .dataframe thead th {\n",
       "        text-align: right;\n",
       "    }\n",
       "</style>\n",
       "<table border=\"1\" class=\"dataframe\">\n",
       "  <thead>\n",
       "    <tr style=\"text-align: right;\">\n",
       "      <th></th>\n",
       "      <th>name</th>\n",
       "      <th>league</th>\n",
       "      <th>age</th>\n",
       "      <th>height</th>\n",
       "      <th>position</th>\n",
       "      <th>erfolge</th>\n",
       "      <th>caps</th>\n",
       "      <th>goalsCap</th>\n",
       "      <th>follower</th>\n",
       "      <th>club</th>\n",
       "      <th>contractYear</th>\n",
       "      <th>country</th>\n",
       "      <th>price</th>\n",
       "      <th>appearances</th>\n",
       "      <th>nilnil_games</th>\n",
       "      <th>goals_conceded</th>\n",
       "      <th>minuted</th>\n",
       "    </tr>\n",
       "  </thead>\n",
       "  <tbody>\n",
       "  </tbody>\n",
       "</table>\n",
       "</div>"
      ],
      "text/plain": [
       "Empty DataFrame\n",
       "Columns: [name, league, age, height, position, erfolge, caps, goalsCap, follower, club, contractYear, country, price, appearances, nilnil_games, goals_conceded, minuted]\n",
       "Index: []"
      ]
     },
     "execution_count": 94,
     "metadata": {},
     "output_type": "execute_result"
    }
   ],
   "source": [
    "df_gk.head(0)"
   ]
  },
  {
   "cell_type": "code",
   "execution_count": 95,
   "metadata": {},
   "outputs": [],
   "source": [
    "df_ct_final = df_ct[['name', 'league', 'age', 'height', 'position', 'erfolge', 'caps',\n",
    " 'goalsCap', 'follower', 'club', 'contractYear', 'country', 'appearances', 'goals',\n",
    " 'assists', 'minuted', 'price']].copy()"
   ]
  },
  {
   "cell_type": "code",
   "execution_count": 96,
   "metadata": {},
   "outputs": [],
   "source": [
    "df_gk_final = df_gk[['name', 'league', 'age', 'height', 'position', 'erfolge', 'caps',\n",
    " 'goalsCap', 'follower', 'club', 'contractYear', 'country', 'appearances', 'nilnil_games',\n",
    " 'goals_conceded', 'minuted', 'price']].copy()"
   ]
  },
  {
   "cell_type": "code",
   "execution_count": 97,
   "metadata": {},
   "outputs": [],
   "source": [
    "df_gk_final['league'] = df_gk_final['league'].astype(int)\n",
    "df_gk_final['position'] = df_gk_final['position'].astype(int)\n",
    "df_gk_final['country'] = df_gk_final['country'].astype(int)\n",
    "df_gk_final['club'] = df_gk_final['club'].astype(int)"
   ]
  },
  {
   "cell_type": "code",
   "execution_count": 98,
   "metadata": {},
   "outputs": [],
   "source": [
    "df_ct_final['league'] = df_ct_final['league'].astype(int)\n",
    "df_ct_final['position'] = df_ct_final['position'].astype(int)\n",
    "df_ct_final['country'] = df_ct_final['country'].astype(int)\n",
    "df_ct_final['club'] = df_ct_final['club'].astype(int)"
   ]
  },
  {
   "cell_type": "code",
   "execution_count": 54,
   "metadata": {},
   "outputs": [
    {
     "data": {
      "text/html": [
       "<div>\n",
       "<style scoped>\n",
       "    .dataframe tbody tr th:only-of-type {\n",
       "        vertical-align: middle;\n",
       "    }\n",
       "\n",
       "    .dataframe tbody tr th {\n",
       "        vertical-align: top;\n",
       "    }\n",
       "\n",
       "    .dataframe thead th {\n",
       "        text-align: right;\n",
       "    }\n",
       "</style>\n",
       "<table border=\"1\" class=\"dataframe\">\n",
       "  <thead>\n",
       "    <tr style=\"text-align: right;\">\n",
       "      <th></th>\n",
       "      <th>name</th>\n",
       "      <th>league</th>\n",
       "      <th>age</th>\n",
       "      <th>height</th>\n",
       "      <th>position</th>\n",
       "      <th>erfolge</th>\n",
       "      <th>caps</th>\n",
       "      <th>goalsCap</th>\n",
       "      <th>follower</th>\n",
       "      <th>club</th>\n",
       "      <th>contractYear</th>\n",
       "      <th>country</th>\n",
       "      <th>appearances</th>\n",
       "      <th>nilnil_games</th>\n",
       "      <th>goals_conceded</th>\n",
       "      <th>minuted</th>\n",
       "      <th>price</th>\n",
       "    </tr>\n",
       "  </thead>\n",
       "  <tbody>\n",
       "    <tr>\n",
       "      <th>2</th>\n",
       "      <td>Steve Mandanda</td>\n",
       "      <td>4</td>\n",
       "      <td>36</td>\n",
       "      <td>1.85</td>\n",
       "      <td>0</td>\n",
       "      <td>8</td>\n",
       "      <td>34</td>\n",
       "      <td>0</td>\n",
       "      <td>634401.0</td>\n",
       "      <td>1</td>\n",
       "      <td>2.539726</td>\n",
       "      <td>1</td>\n",
       "      <td>4.0</td>\n",
       "      <td>1.0</td>\n",
       "      <td>5.0</td>\n",
       "      <td>360.00</td>\n",
       "      <td>2.00</td>\n",
       "    </tr>\n",
       "    <tr>\n",
       "      <th>5</th>\n",
       "      <td>Unai Simón</td>\n",
       "      <td>1</td>\n",
       "      <td>24</td>\n",
       "      <td>1.90</td>\n",
       "      <td>0</td>\n",
       "      <td>3</td>\n",
       "      <td>20</td>\n",
       "      <td>0</td>\n",
       "      <td>3800.0</td>\n",
       "      <td>1</td>\n",
       "      <td>3.539726</td>\n",
       "      <td>1</td>\n",
       "      <td>14.0</td>\n",
       "      <td>6.0</td>\n",
       "      <td>10.0</td>\n",
       "      <td>1.26</td>\n",
       "      <td>20.00</td>\n",
       "    </tr>\n",
       "    <tr>\n",
       "      <th>16</th>\n",
       "      <td>Matz Sels</td>\n",
       "      <td>4</td>\n",
       "      <td>29</td>\n",
       "      <td>1.88</td>\n",
       "      <td>0</td>\n",
       "      <td>2</td>\n",
       "      <td>1</td>\n",
       "      <td>0</td>\n",
       "      <td>28585.0</td>\n",
       "      <td>1</td>\n",
       "      <td>2.539726</td>\n",
       "      <td>1</td>\n",
       "      <td>17.0</td>\n",
       "      <td>4.0</td>\n",
       "      <td>22.0</td>\n",
       "      <td>1.53</td>\n",
       "      <td>6.50</td>\n",
       "    </tr>\n",
       "    <tr>\n",
       "      <th>45</th>\n",
       "      <td>Alessandro Berardi</td>\n",
       "      <td>2</td>\n",
       "      <td>30</td>\n",
       "      <td>1.85</td>\n",
       "      <td>0</td>\n",
       "      <td>1</td>\n",
       "      <td>0</td>\n",
       "      <td>0</td>\n",
       "      <td>5432.0</td>\n",
       "      <td>1</td>\n",
       "      <td>1.536986</td>\n",
       "      <td>1</td>\n",
       "      <td>0.0</td>\n",
       "      <td>0.0</td>\n",
       "      <td>0.0</td>\n",
       "      <td>0.00</td>\n",
       "      <td>0.05</td>\n",
       "    </tr>\n",
       "    <tr>\n",
       "      <th>52</th>\n",
       "      <td>Niklas Lomb</td>\n",
       "      <td>3</td>\n",
       "      <td>28</td>\n",
       "      <td>1.86</td>\n",
       "      <td>0</td>\n",
       "      <td>0</td>\n",
       "      <td>0</td>\n",
       "      <td>0</td>\n",
       "      <td>147390.0</td>\n",
       "      <td>1</td>\n",
       "      <td>0.536986</td>\n",
       "      <td>1</td>\n",
       "      <td>0.0</td>\n",
       "      <td>0.0</td>\n",
       "      <td>0.0</td>\n",
       "      <td>0.00</td>\n",
       "      <td>0.25</td>\n",
       "    </tr>\n",
       "  </tbody>\n",
       "</table>\n",
       "</div>"
      ],
      "text/plain": [
       "                  name  league  age  height  position  erfolge  caps  \\\n",
       "2       Steve Mandanda       4   36    1.85         0        8    34   \n",
       "5           Unai Simón       1   24    1.90         0        3    20   \n",
       "16           Matz Sels       4   29    1.88         0        2     1   \n",
       "45  Alessandro Berardi       2   30    1.85         0        1     0   \n",
       "52         Niklas Lomb       3   28    1.86         0        0     0   \n",
       "\n",
       "    goalsCap  follower  club  contractYear  country  appearances  \\\n",
       "2          0  634401.0     1      2.539726        1          4.0   \n",
       "5          0    3800.0     1      3.539726        1         14.0   \n",
       "16         0   28585.0     1      2.539726        1         17.0   \n",
       "45         0    5432.0     1      1.536986        1          0.0   \n",
       "52         0  147390.0     1      0.536986        1          0.0   \n",
       "\n",
       "    nilnil_games  goals_conceded  minuted  price  \n",
       "2            1.0             5.0   360.00   2.00  \n",
       "5            6.0            10.0     1.26  20.00  \n",
       "16           4.0            22.0     1.53   6.50  \n",
       "45           0.0             0.0     0.00   0.05  \n",
       "52           0.0             0.0     0.00   0.25  "
      ]
     },
     "execution_count": 54,
     "metadata": {},
     "output_type": "execute_result"
    }
   ],
   "source": [
    "df_gk_final.head()  "
   ]
  },
  {
   "cell_type": "code",
   "execution_count": 55,
   "metadata": {},
   "outputs": [],
   "source": [
    "df_ct_final.to_csv(\n",
    "    PATH_TO_PROJECT+'/data/raw_data/ct_data.csv',\n",
    "    encoding='utf-8',\n",
    "    index=False\n",
    "  )"
   ]
  },
  {
   "cell_type": "code",
   "execution_count": 56,
   "metadata": {},
   "outputs": [],
   "source": [
    "df_gk_final.to_csv(\n",
    "    PATH_TO_PROJECT+'/data/raw_data/gk_data.csv',\n",
    "    encoding='utf-8',\n",
    "    index=False\n",
    "  )"
   ]
  },
  {
   "cell_type": "code",
   "execution_count": null,
   "metadata": {},
   "outputs": [],
   "source": []
  }
 ],
 "metadata": {
  "interpreter": {
   "hash": "31f2aee4e71d21fbe5cf8b01ff0e069b9275f58929596ceb00d14d90e3e16cd6"
  },
  "kernelspec": {
   "display_name": "Python 3.8.10 64-bit",
   "language": "python",
   "name": "python3"
  },
  "language_info": {
   "codemirror_mode": {
    "name": "ipython",
    "version": 3
   },
   "file_extension": ".py",
   "mimetype": "text/x-python",
   "name": "python",
   "nbconvert_exporter": "python",
   "pygments_lexer": "ipython3",
   "version": "3.8.10"
  },
  "orig_nbformat": 4
 },
 "nbformat": 4,
 "nbformat_minor": 2
}
