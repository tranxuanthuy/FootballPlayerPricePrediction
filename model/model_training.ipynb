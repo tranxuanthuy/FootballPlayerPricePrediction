{
 "cells": [
  {
   "cell_type": "markdown",
   "metadata": {},
   "source": [
    "# <img style=\"float: left; padding-right: 20px; width: 68px\" src=\"/home/thuy/Desktop/ML_project/data/img/logoiuh.jpg\">DATA SCIENCE - MACHINE LEARNING\n",
    "## Đồ án cuối kì \n",
    "**Đại học Công nghiệp TP HCM**<br>\n",
    "**Giảng viên hướng dẫn:** Nguyễn Việt Linh, Trương Vĩnh Linh<br>\n",
    "**Thành viên nhóm:** \n",
    "<ol start=\"1\">\n",
    "<li> Lê Duy Tâm  </li>\n",
    "<li> Tấn Đạt</li>\n",
    "<li> Hoàng Khang </li>\n",
    "<li> Tài Đức Phú Đa </li>\n",
    "<li> Xuân Thủy </li>\n",
    "</ol> \n",
    "\n",
    "**Đề tài:** Xây dựng mô hình ML/máy học dự đoán giá cầu thủ bóng đá kv Châu Âu\n"
   ]
  },
  {
   "cell_type": "markdown",
   "metadata": {},
   "source": [
    "------"
   ]
  },
  {
   "cell_type": "markdown",
   "metadata": {},
   "source": [
    "# 1. Import library"
   ]
  },
  {
   "cell_type": "code",
   "execution_count": 1,
   "metadata": {},
   "outputs": [],
   "source": [
    "PATH_TO_PROJECT = '/home/thuy/Desktop/ML_project'\n",
    "import sys\n",
    "sys.path.append(PATH_TO_PROJECT)\n",
    "\n",
    "from library import craw \n",
    "from library import preprocessing as pre\n",
    "from library.automate_load_data import refresh_data\n",
    "\n",
    "from datetime import date\n",
    "import pandas as pd\n",
    "import numpy as np\n",
    "import matplotlib.pyplot as plt\n",
    "%matplotlib inline\n",
    "\n",
    "import seaborn as sns\n",
    "import statsmodels.api as sm\n",
    "from statsmodels.api import OLS\n",
    "\n",
    "from sklearn.model_selection import train_test_split\n",
    "from sklearn.preprocessing import StandardScaler\n",
    "from sklearn.decomposition import PCA\n",
    "from sklearn.linear_model import Ridge\n",
    "from sklearn.metrics import r2_score\n",
    "\n"
   ]
  },
  {
   "cell_type": "markdown",
   "metadata": {},
   "source": [
    "# 2. Data load"
   ]
  },
  {
   "cell_type": "code",
   "execution_count": 2,
   "metadata": {},
   "outputs": [
    {
     "name": "stdout",
     "output_type": "stream",
     "text": [
      ">>LATE UPDATED DATA ON 2021-12-12\n",
      ":~$you want to continued?\n",
      ">>Cancelled\n"
     ]
    }
   ],
   "source": [
    "refresh_data()"
   ]
  },
  {
   "cell_type": "code",
   "execution_count": 3,
   "metadata": {},
   "outputs": [
    {
     "name": "stdout",
     "output_type": "stream",
     "text": [
      "gk_data shape: (308, 17)\n",
      "ct_data shape: (2368, 17)\n"
     ]
    }
   ],
   "source": [
    "def load_data(file):\n",
    "    df = pd.read_csv(PATH_TO_PROJECT+'/data/raw_data/{}.csv'.format(file),\n",
    "    encoding='utf-8')\n",
    "    print(f'{file} shape: {df.shape}')\n",
    "    return df\n",
    "df_gk = load_data('gk_data')\n",
    "df_ct = load_data('ct_data')"
   ]
  },
  {
   "cell_type": "code",
   "execution_count": 4,
   "metadata": {},
   "outputs": [
    {
     "data": {
      "text/html": [
       "<div>\n",
       "<style scoped>\n",
       "    .dataframe tbody tr th:only-of-type {\n",
       "        vertical-align: middle;\n",
       "    }\n",
       "\n",
       "    .dataframe tbody tr th {\n",
       "        vertical-align: top;\n",
       "    }\n",
       "\n",
       "    .dataframe thead th {\n",
       "        text-align: right;\n",
       "    }\n",
       "</style>\n",
       "<table border=\"1\" class=\"dataframe\">\n",
       "  <thead>\n",
       "    <tr style=\"text-align: right;\">\n",
       "      <th></th>\n",
       "      <th>name</th>\n",
       "      <th>league</th>\n",
       "      <th>age</th>\n",
       "      <th>height</th>\n",
       "      <th>position</th>\n",
       "      <th>erfolge</th>\n",
       "      <th>caps</th>\n",
       "      <th>goalsCap</th>\n",
       "      <th>follower</th>\n",
       "      <th>club</th>\n",
       "      <th>contractYear</th>\n",
       "      <th>country</th>\n",
       "      <th>appearances</th>\n",
       "      <th>nilnil_games</th>\n",
       "      <th>goals_conceded</th>\n",
       "      <th>minuted</th>\n",
       "      <th>price</th>\n",
       "    </tr>\n",
       "  </thead>\n",
       "  <tbody>\n",
       "    <tr>\n",
       "      <th>0</th>\n",
       "      <td>Steve Mandanda</td>\n",
       "      <td>4</td>\n",
       "      <td>36</td>\n",
       "      <td>1.85</td>\n",
       "      <td>0</td>\n",
       "      <td>8</td>\n",
       "      <td>34</td>\n",
       "      <td>0</td>\n",
       "      <td>634401.0</td>\n",
       "      <td>1</td>\n",
       "      <td>2.539726</td>\n",
       "      <td>1</td>\n",
       "      <td>4.0</td>\n",
       "      <td>1.0</td>\n",
       "      <td>5.0</td>\n",
       "      <td>360.00</td>\n",
       "      <td>2.0</td>\n",
       "    </tr>\n",
       "    <tr>\n",
       "      <th>1</th>\n",
       "      <td>Unai Simón</td>\n",
       "      <td>1</td>\n",
       "      <td>24</td>\n",
       "      <td>1.90</td>\n",
       "      <td>0</td>\n",
       "      <td>3</td>\n",
       "      <td>20</td>\n",
       "      <td>0</td>\n",
       "      <td>3800.0</td>\n",
       "      <td>1</td>\n",
       "      <td>3.539726</td>\n",
       "      <td>1</td>\n",
       "      <td>14.0</td>\n",
       "      <td>6.0</td>\n",
       "      <td>10.0</td>\n",
       "      <td>1.26</td>\n",
       "      <td>20.0</td>\n",
       "    </tr>\n",
       "  </tbody>\n",
       "</table>\n",
       "</div>"
      ],
      "text/plain": [
       "             name  league  age  height  position  erfolge  caps  goalsCap  \\\n",
       "0  Steve Mandanda       4   36    1.85         0        8    34         0   \n",
       "1      Unai Simón       1   24    1.90         0        3    20         0   \n",
       "\n",
       "   follower  club  contractYear  country  appearances  nilnil_games  \\\n",
       "0  634401.0     1      2.539726        1          4.0           1.0   \n",
       "1    3800.0     1      3.539726        1         14.0           6.0   \n",
       "\n",
       "   goals_conceded  minuted  price  \n",
       "0             5.0   360.00    2.0  \n",
       "1            10.0     1.26   20.0  "
      ]
     },
     "execution_count": 4,
     "metadata": {},
     "output_type": "execute_result"
    }
   ],
   "source": [
    "df_gk.head(2)"
   ]
  },
  {
   "cell_type": "code",
   "execution_count": 5,
   "metadata": {},
   "outputs": [
    {
     "data": {
      "text/html": [
       "<div>\n",
       "<style scoped>\n",
       "    .dataframe tbody tr th:only-of-type {\n",
       "        vertical-align: middle;\n",
       "    }\n",
       "\n",
       "    .dataframe tbody tr th {\n",
       "        vertical-align: top;\n",
       "    }\n",
       "\n",
       "    .dataframe thead th {\n",
       "        text-align: right;\n",
       "    }\n",
       "</style>\n",
       "<table border=\"1\" class=\"dataframe\">\n",
       "  <thead>\n",
       "    <tr style=\"text-align: right;\">\n",
       "      <th></th>\n",
       "      <th>name</th>\n",
       "      <th>league</th>\n",
       "      <th>age</th>\n",
       "      <th>height</th>\n",
       "      <th>position</th>\n",
       "      <th>erfolge</th>\n",
       "      <th>caps</th>\n",
       "      <th>goalsCap</th>\n",
       "      <th>follower</th>\n",
       "      <th>club</th>\n",
       "      <th>contractYear</th>\n",
       "      <th>country</th>\n",
       "      <th>appearances</th>\n",
       "      <th>goals</th>\n",
       "      <th>assists</th>\n",
       "      <th>minuted</th>\n",
       "      <th>price</th>\n",
       "    </tr>\n",
       "  </thead>\n",
       "  <tbody>\n",
       "    <tr>\n",
       "      <th>0</th>\n",
       "      <td>Habib Keïta</td>\n",
       "      <td>4</td>\n",
       "      <td>19</td>\n",
       "      <td>1.82</td>\n",
       "      <td>2</td>\n",
       "      <td>0</td>\n",
       "      <td>0</td>\n",
       "      <td>0</td>\n",
       "      <td>6063.0</td>\n",
       "      <td>1</td>\n",
       "      <td>3.539726</td>\n",
       "      <td>3</td>\n",
       "      <td>8.0</td>\n",
       "      <td>1.0</td>\n",
       "      <td>0.0</td>\n",
       "      <td>413.0</td>\n",
       "      <td>0.5</td>\n",
       "    </tr>\n",
       "  </tbody>\n",
       "</table>\n",
       "</div>"
      ],
      "text/plain": [
       "          name  league  age  height  position  erfolge  caps  goalsCap  \\\n",
       "0  Habib Keïta       4   19    1.82         2        0     0         0   \n",
       "\n",
       "   follower  club  contractYear  country  appearances  goals  assists  \\\n",
       "0    6063.0     1      3.539726        3          8.0    1.0      0.0   \n",
       "\n",
       "   minuted  price  \n",
       "0    413.0    0.5  "
      ]
     },
     "execution_count": 5,
     "metadata": {},
     "output_type": "execute_result"
    }
   ],
   "source": [
    "df_ct.head(1)"
   ]
  },
  {
   "cell_type": "code",
   "execution_count": 6,
   "metadata": {},
   "outputs": [
    {
     "data": {
      "text/plain": [
       "name               object\n",
       "league              int64\n",
       "age                 int64\n",
       "height            float64\n",
       "position            int64\n",
       "erfolge             int64\n",
       "caps                int64\n",
       "goalsCap            int64\n",
       "follower          float64\n",
       "club                int64\n",
       "contractYear      float64\n",
       "country             int64\n",
       "appearances       float64\n",
       "nilnil_games      float64\n",
       "goals_conceded    float64\n",
       "minuted           float64\n",
       "price             float64\n",
       "dtype: object"
      ]
     },
     "execution_count": 6,
     "metadata": {},
     "output_type": "execute_result"
    }
   ],
   "source": [
    "df_gk.dtypes"
   ]
  },
  {
   "cell_type": "code",
   "execution_count": 7,
   "metadata": {},
   "outputs": [
    {
     "data": {
      "text/plain": [
       "name             object\n",
       "league            int64\n",
       "age               int64\n",
       "height          float64\n",
       "position          int64\n",
       "erfolge           int64\n",
       "caps              int64\n",
       "goalsCap          int64\n",
       "follower        float64\n",
       "club              int64\n",
       "contractYear    float64\n",
       "country           int64\n",
       "appearances     float64\n",
       "goals           float64\n",
       "assists         float64\n",
       "minuted         float64\n",
       "price           float64\n",
       "dtype: object"
      ]
     },
     "execution_count": 7,
     "metadata": {},
     "output_type": "execute_result"
    }
   ],
   "source": [
    "df_ct.dtypes"
   ]
  },
  {
   "cell_type": "code",
   "execution_count": 8,
   "metadata": {},
   "outputs": [
    {
     "data": {
      "text/html": [
       "<div>\n",
       "<style scoped>\n",
       "    .dataframe tbody tr th:only-of-type {\n",
       "        vertical-align: middle;\n",
       "    }\n",
       "\n",
       "    .dataframe tbody tr th {\n",
       "        vertical-align: top;\n",
       "    }\n",
       "\n",
       "    .dataframe thead th {\n",
       "        text-align: right;\n",
       "    }\n",
       "</style>\n",
       "<table border=\"1\" class=\"dataframe\">\n",
       "  <thead>\n",
       "    <tr style=\"text-align: right;\">\n",
       "      <th></th>\n",
       "      <th>league</th>\n",
       "      <th>age</th>\n",
       "      <th>height</th>\n",
       "      <th>position</th>\n",
       "      <th>erfolge</th>\n",
       "      <th>caps</th>\n",
       "      <th>goalsCap</th>\n",
       "      <th>follower</th>\n",
       "      <th>club</th>\n",
       "      <th>contractYear</th>\n",
       "      <th>country</th>\n",
       "      <th>appearances</th>\n",
       "      <th>nilnil_games</th>\n",
       "      <th>goals_conceded</th>\n",
       "      <th>minuted</th>\n",
       "      <th>price</th>\n",
       "    </tr>\n",
       "  </thead>\n",
       "  <tbody>\n",
       "    <tr>\n",
       "      <th>count</th>\n",
       "      <td>308.000000</td>\n",
       "      <td>308.000000</td>\n",
       "      <td>308.000000</td>\n",
       "      <td>308.0</td>\n",
       "      <td>308.000000</td>\n",
       "      <td>308.000000</td>\n",
       "      <td>308.0</td>\n",
       "      <td>3.080000e+02</td>\n",
       "      <td>308.000000</td>\n",
       "      <td>308.000000</td>\n",
       "      <td>308.000000</td>\n",
       "      <td>308.000000</td>\n",
       "      <td>308.000000</td>\n",
       "      <td>308.000000</td>\n",
       "      <td>308.000000</td>\n",
       "      <td>308.000000</td>\n",
       "    </tr>\n",
       "    <tr>\n",
       "      <th>mean</th>\n",
       "      <td>2.129870</td>\n",
       "      <td>27.665584</td>\n",
       "      <td>1.900974</td>\n",
       "      <td>0.0</td>\n",
       "      <td>2.068182</td>\n",
       "      <td>11.123377</td>\n",
       "      <td>0.0</td>\n",
       "      <td>4.543724e+05</td>\n",
       "      <td>0.840909</td>\n",
       "      <td>1.708424</td>\n",
       "      <td>1.097403</td>\n",
       "      <td>19.321429</td>\n",
       "      <td>5.704545</td>\n",
       "      <td>24.970779</td>\n",
       "      <td>162.128987</td>\n",
       "      <td>4.786640</td>\n",
       "    </tr>\n",
       "    <tr>\n",
       "      <th>std</th>\n",
       "      <td>1.460451</td>\n",
       "      <td>5.449369</td>\n",
       "      <td>0.042315</td>\n",
       "      <td>0.0</td>\n",
       "      <td>2.952153</td>\n",
       "      <td>23.630938</td>\n",
       "      <td>0.0</td>\n",
       "      <td>1.674074e+06</td>\n",
       "      <td>0.366356</td>\n",
       "      <td>1.191802</td>\n",
       "      <td>0.606904</td>\n",
       "      <td>63.537088</td>\n",
       "      <td>19.682340</td>\n",
       "      <td>80.193957</td>\n",
       "      <td>262.567700</td>\n",
       "      <td>9.636501</td>\n",
       "    </tr>\n",
       "    <tr>\n",
       "      <th>min</th>\n",
       "      <td>0.000000</td>\n",
       "      <td>18.000000</td>\n",
       "      <td>1.780000</td>\n",
       "      <td>0.0</td>\n",
       "      <td>0.000000</td>\n",
       "      <td>0.000000</td>\n",
       "      <td>0.0</td>\n",
       "      <td>4.000000e+00</td>\n",
       "      <td>0.000000</td>\n",
       "      <td>-0.463014</td>\n",
       "      <td>0.000000</td>\n",
       "      <td>0.000000</td>\n",
       "      <td>0.000000</td>\n",
       "      <td>0.000000</td>\n",
       "      <td>0.000000</td>\n",
       "      <td>0.010000</td>\n",
       "    </tr>\n",
       "    <tr>\n",
       "      <th>25%</th>\n",
       "      <td>1.000000</td>\n",
       "      <td>23.000000</td>\n",
       "      <td>1.870000</td>\n",
       "      <td>0.0</td>\n",
       "      <td>0.000000</td>\n",
       "      <td>0.000000</td>\n",
       "      <td>0.0</td>\n",
       "      <td>1.436575e+04</td>\n",
       "      <td>1.000000</td>\n",
       "      <td>0.536986</td>\n",
       "      <td>1.000000</td>\n",
       "      <td>1.000000</td>\n",
       "      <td>0.000000</td>\n",
       "      <td>0.000000</td>\n",
       "      <td>1.153000</td>\n",
       "      <td>0.300000</td>\n",
       "    </tr>\n",
       "    <tr>\n",
       "      <th>50%</th>\n",
       "      <td>2.000000</td>\n",
       "      <td>28.000000</td>\n",
       "      <td>1.900000</td>\n",
       "      <td>0.0</td>\n",
       "      <td>1.000000</td>\n",
       "      <td>1.000000</td>\n",
       "      <td>0.0</td>\n",
       "      <td>3.716150e+04</td>\n",
       "      <td>1.000000</td>\n",
       "      <td>1.536986</td>\n",
       "      <td>1.000000</td>\n",
       "      <td>6.000000</td>\n",
       "      <td>1.000000</td>\n",
       "      <td>8.000000</td>\n",
       "      <td>1.800000</td>\n",
       "      <td>1.000000</td>\n",
       "    </tr>\n",
       "    <tr>\n",
       "      <th>75%</th>\n",
       "      <td>3.000000</td>\n",
       "      <td>32.000000</td>\n",
       "      <td>1.930000</td>\n",
       "      <td>0.0</td>\n",
       "      <td>3.000000</td>\n",
       "      <td>8.000000</td>\n",
       "      <td>0.0</td>\n",
       "      <td>1.392990e+05</td>\n",
       "      <td>1.000000</td>\n",
       "      <td>2.539726</td>\n",
       "      <td>1.000000</td>\n",
       "      <td>15.250000</td>\n",
       "      <td>4.000000</td>\n",
       "      <td>20.000000</td>\n",
       "      <td>270.000000</td>\n",
       "      <td>5.000000</td>\n",
       "    </tr>\n",
       "    <tr>\n",
       "      <th>max</th>\n",
       "      <td>5.000000</td>\n",
       "      <td>40.000000</td>\n",
       "      <td>2.040000</td>\n",
       "      <td>0.0</td>\n",
       "      <td>20.000000</td>\n",
       "      <td>139.000000</td>\n",
       "      <td>0.0</td>\n",
       "      <td>1.349487e+07</td>\n",
       "      <td>1.000000</td>\n",
       "      <td>5.539726</td>\n",
       "      <td>3.000000</td>\n",
       "      <td>514.000000</td>\n",
       "      <td>152.000000</td>\n",
       "      <td>677.000000</td>\n",
       "      <td>990.000000</td>\n",
       "      <td>70.000000</td>\n",
       "    </tr>\n",
       "  </tbody>\n",
       "</table>\n",
       "</div>"
      ],
      "text/plain": [
       "           league         age      height  position     erfolge        caps  \\\n",
       "count  308.000000  308.000000  308.000000     308.0  308.000000  308.000000   \n",
       "mean     2.129870   27.665584    1.900974       0.0    2.068182   11.123377   \n",
       "std      1.460451    5.449369    0.042315       0.0    2.952153   23.630938   \n",
       "min      0.000000   18.000000    1.780000       0.0    0.000000    0.000000   \n",
       "25%      1.000000   23.000000    1.870000       0.0    0.000000    0.000000   \n",
       "50%      2.000000   28.000000    1.900000       0.0    1.000000    1.000000   \n",
       "75%      3.000000   32.000000    1.930000       0.0    3.000000    8.000000   \n",
       "max      5.000000   40.000000    2.040000       0.0   20.000000  139.000000   \n",
       "\n",
       "       goalsCap      follower        club  contractYear     country  \\\n",
       "count     308.0  3.080000e+02  308.000000    308.000000  308.000000   \n",
       "mean        0.0  4.543724e+05    0.840909      1.708424    1.097403   \n",
       "std         0.0  1.674074e+06    0.366356      1.191802    0.606904   \n",
       "min         0.0  4.000000e+00    0.000000     -0.463014    0.000000   \n",
       "25%         0.0  1.436575e+04    1.000000      0.536986    1.000000   \n",
       "50%         0.0  3.716150e+04    1.000000      1.536986    1.000000   \n",
       "75%         0.0  1.392990e+05    1.000000      2.539726    1.000000   \n",
       "max         0.0  1.349487e+07    1.000000      5.539726    3.000000   \n",
       "\n",
       "       appearances  nilnil_games  goals_conceded     minuted       price  \n",
       "count   308.000000    308.000000      308.000000  308.000000  308.000000  \n",
       "mean     19.321429      5.704545       24.970779  162.128987    4.786640  \n",
       "std      63.537088     19.682340       80.193957  262.567700    9.636501  \n",
       "min       0.000000      0.000000        0.000000    0.000000    0.010000  \n",
       "25%       1.000000      0.000000        0.000000    1.153000    0.300000  \n",
       "50%       6.000000      1.000000        8.000000    1.800000    1.000000  \n",
       "75%      15.250000      4.000000       20.000000  270.000000    5.000000  \n",
       "max     514.000000    152.000000      677.000000  990.000000   70.000000  "
      ]
     },
     "execution_count": 8,
     "metadata": {},
     "output_type": "execute_result"
    }
   ],
   "source": [
    "df_gk.describe()"
   ]
  },
  {
   "cell_type": "code",
   "execution_count": 9,
   "metadata": {},
   "outputs": [
    {
     "data": {
      "text/html": [
       "<div>\n",
       "<style scoped>\n",
       "    .dataframe tbody tr th:only-of-type {\n",
       "        vertical-align: middle;\n",
       "    }\n",
       "\n",
       "    .dataframe tbody tr th {\n",
       "        vertical-align: top;\n",
       "    }\n",
       "\n",
       "    .dataframe thead th {\n",
       "        text-align: right;\n",
       "    }\n",
       "</style>\n",
       "<table border=\"1\" class=\"dataframe\">\n",
       "  <thead>\n",
       "    <tr style=\"text-align: right;\">\n",
       "      <th></th>\n",
       "      <th>league</th>\n",
       "      <th>age</th>\n",
       "      <th>height</th>\n",
       "      <th>position</th>\n",
       "      <th>erfolge</th>\n",
       "      <th>caps</th>\n",
       "      <th>goalsCap</th>\n",
       "      <th>follower</th>\n",
       "      <th>club</th>\n",
       "      <th>contractYear</th>\n",
       "      <th>country</th>\n",
       "      <th>appearances</th>\n",
       "      <th>goals</th>\n",
       "      <th>assists</th>\n",
       "      <th>minuted</th>\n",
       "      <th>price</th>\n",
       "    </tr>\n",
       "  </thead>\n",
       "  <tbody>\n",
       "    <tr>\n",
       "      <th>count</th>\n",
       "      <td>2368.000000</td>\n",
       "      <td>2368.000000</td>\n",
       "      <td>2368.000000</td>\n",
       "      <td>2368.000000</td>\n",
       "      <td>2368.000000</td>\n",
       "      <td>2368.000000</td>\n",
       "      <td>2368.000000</td>\n",
       "      <td>2.368000e+03</td>\n",
       "      <td>2368.000000</td>\n",
       "      <td>2368.000000</td>\n",
       "      <td>2368.000000</td>\n",
       "      <td>2368.000000</td>\n",
       "      <td>2368.000000</td>\n",
       "      <td>2368.000000</td>\n",
       "      <td>2368.000000</td>\n",
       "      <td>2368.000000</td>\n",
       "    </tr>\n",
       "    <tr>\n",
       "      <th>mean</th>\n",
       "      <td>2.046030</td>\n",
       "      <td>25.714105</td>\n",
       "      <td>1.819362</td>\n",
       "      <td>1.921030</td>\n",
       "      <td>2.273649</td>\n",
       "      <td>15.240709</td>\n",
       "      <td>2.326014</td>\n",
       "      <td>1.223010e+06</td>\n",
       "      <td>0.850929</td>\n",
       "      <td>2.000718</td>\n",
       "      <td>1.332348</td>\n",
       "      <td>18.868243</td>\n",
       "      <td>2.066301</td>\n",
       "      <td>1.476351</td>\n",
       "      <td>315.606806</td>\n",
       "      <td>10.679761</td>\n",
       "    </tr>\n",
       "    <tr>\n",
       "      <th>std</th>\n",
       "      <td>1.429661</td>\n",
       "      <td>4.385108</td>\n",
       "      <td>0.063074</td>\n",
       "      <td>0.819655</td>\n",
       "      <td>3.802734</td>\n",
       "      <td>23.799834</td>\n",
       "      <td>6.823823</td>\n",
       "      <td>1.098725e+07</td>\n",
       "      <td>0.356234</td>\n",
       "      <td>1.276470</td>\n",
       "      <td>0.815317</td>\n",
       "      <td>42.267315</td>\n",
       "      <td>6.800761</td>\n",
       "      <td>3.796618</td>\n",
       "      <td>328.761492</td>\n",
       "      <td>15.494484</td>\n",
       "    </tr>\n",
       "    <tr>\n",
       "      <th>min</th>\n",
       "      <td>0.000000</td>\n",
       "      <td>16.000000</td>\n",
       "      <td>1.630000</td>\n",
       "      <td>1.000000</td>\n",
       "      <td>0.000000</td>\n",
       "      <td>0.000000</td>\n",
       "      <td>0.000000</td>\n",
       "      <td>9.000000e+00</td>\n",
       "      <td>0.000000</td>\n",
       "      <td>0.126027</td>\n",
       "      <td>0.000000</td>\n",
       "      <td>0.000000</td>\n",
       "      <td>0.000000</td>\n",
       "      <td>0.000000</td>\n",
       "      <td>0.000000</td>\n",
       "      <td>0.075000</td>\n",
       "    </tr>\n",
       "    <tr>\n",
       "      <th>25%</th>\n",
       "      <td>1.000000</td>\n",
       "      <td>22.000000</td>\n",
       "      <td>1.780000</td>\n",
       "      <td>1.000000</td>\n",
       "      <td>0.000000</td>\n",
       "      <td>1.000000</td>\n",
       "      <td>0.000000</td>\n",
       "      <td>1.958100e+04</td>\n",
       "      <td>1.000000</td>\n",
       "      <td>0.536986</td>\n",
       "      <td>1.000000</td>\n",
       "      <td>8.000000</td>\n",
       "      <td>0.000000</td>\n",
       "      <td>0.000000</td>\n",
       "      <td>1.420750</td>\n",
       "      <td>1.800000</td>\n",
       "    </tr>\n",
       "    <tr>\n",
       "      <th>50%</th>\n",
       "      <td>2.000000</td>\n",
       "      <td>25.000000</td>\n",
       "      <td>1.820000</td>\n",
       "      <td>2.000000</td>\n",
       "      <td>1.000000</td>\n",
       "      <td>5.000000</td>\n",
       "      <td>0.000000</td>\n",
       "      <td>4.806150e+04</td>\n",
       "      <td>1.000000</td>\n",
       "      <td>1.536986</td>\n",
       "      <td>1.000000</td>\n",
       "      <td>13.000000</td>\n",
       "      <td>1.000000</td>\n",
       "      <td>1.000000</td>\n",
       "      <td>215.500000</td>\n",
       "      <td>5.000000</td>\n",
       "    </tr>\n",
       "    <tr>\n",
       "      <th>75%</th>\n",
       "      <td>3.000000</td>\n",
       "      <td>29.000000</td>\n",
       "      <td>1.860000</td>\n",
       "      <td>3.000000</td>\n",
       "      <td>3.000000</td>\n",
       "      <td>19.000000</td>\n",
       "      <td>2.000000</td>\n",
       "      <td>2.653692e+05</td>\n",
       "      <td>1.000000</td>\n",
       "      <td>2.539726</td>\n",
       "      <td>2.000000</td>\n",
       "      <td>16.000000</td>\n",
       "      <td>2.000000</td>\n",
       "      <td>2.000000</td>\n",
       "      <td>598.000000</td>\n",
       "      <td>13.000000</td>\n",
       "    </tr>\n",
       "    <tr>\n",
       "      <th>max</th>\n",
       "      <td>5.000000</td>\n",
       "      <td>40.000000</td>\n",
       "      <td>2.010000</td>\n",
       "      <td>3.000000</td>\n",
       "      <td>62.000000</td>\n",
       "      <td>184.000000</td>\n",
       "      <td>115.000000</td>\n",
       "      <td>3.742918e+08</td>\n",
       "      <td>1.000000</td>\n",
       "      <td>9.542466</td>\n",
       "      <td>3.000000</td>\n",
       "      <td>516.000000</td>\n",
       "      <td>144.000000</td>\n",
       "      <td>78.000000</td>\n",
       "      <td>999.000000</td>\n",
       "      <td>160.000000</td>\n",
       "    </tr>\n",
       "  </tbody>\n",
       "</table>\n",
       "</div>"
      ],
      "text/plain": [
       "            league          age       height     position      erfolge  \\\n",
       "count  2368.000000  2368.000000  2368.000000  2368.000000  2368.000000   \n",
       "mean      2.046030    25.714105     1.819362     1.921030     2.273649   \n",
       "std       1.429661     4.385108     0.063074     0.819655     3.802734   \n",
       "min       0.000000    16.000000     1.630000     1.000000     0.000000   \n",
       "25%       1.000000    22.000000     1.780000     1.000000     0.000000   \n",
       "50%       2.000000    25.000000     1.820000     2.000000     1.000000   \n",
       "75%       3.000000    29.000000     1.860000     3.000000     3.000000   \n",
       "max       5.000000    40.000000     2.010000     3.000000    62.000000   \n",
       "\n",
       "              caps     goalsCap      follower         club  contractYear  \\\n",
       "count  2368.000000  2368.000000  2.368000e+03  2368.000000   2368.000000   \n",
       "mean     15.240709     2.326014  1.223010e+06     0.850929      2.000718   \n",
       "std      23.799834     6.823823  1.098725e+07     0.356234      1.276470   \n",
       "min       0.000000     0.000000  9.000000e+00     0.000000      0.126027   \n",
       "25%       1.000000     0.000000  1.958100e+04     1.000000      0.536986   \n",
       "50%       5.000000     0.000000  4.806150e+04     1.000000      1.536986   \n",
       "75%      19.000000     2.000000  2.653692e+05     1.000000      2.539726   \n",
       "max     184.000000   115.000000  3.742918e+08     1.000000      9.542466   \n",
       "\n",
       "           country  appearances        goals      assists      minuted  \\\n",
       "count  2368.000000  2368.000000  2368.000000  2368.000000  2368.000000   \n",
       "mean      1.332348    18.868243     2.066301     1.476351   315.606806   \n",
       "std       0.815317    42.267315     6.800761     3.796618   328.761492   \n",
       "min       0.000000     0.000000     0.000000     0.000000     0.000000   \n",
       "25%       1.000000     8.000000     0.000000     0.000000     1.420750   \n",
       "50%       1.000000    13.000000     1.000000     1.000000   215.500000   \n",
       "75%       2.000000    16.000000     2.000000     2.000000   598.000000   \n",
       "max       3.000000   516.000000   144.000000    78.000000   999.000000   \n",
       "\n",
       "             price  \n",
       "count  2368.000000  \n",
       "mean     10.679761  \n",
       "std      15.494484  \n",
       "min       0.075000  \n",
       "25%       1.800000  \n",
       "50%       5.000000  \n",
       "75%      13.000000  \n",
       "max     160.000000  "
      ]
     },
     "execution_count": 9,
     "metadata": {},
     "output_type": "execute_result"
    }
   ],
   "source": [
    "df_ct.describe()"
   ]
  },
  {
   "cell_type": "code",
   "execution_count": 10,
   "metadata": {},
   "outputs": [],
   "source": [
    "def fig_na(df):\n",
    "    plt.figure(figsize= (8, 4))\n",
    "    plt.style.use('fivethirtyeight')\n",
    "    sns.heatmap(df_ct.isna(),  yticklabels= False, cbar= False, cmap= 'viridis' )\n",
    "    plt.show()"
   ]
  },
  {
   "cell_type": "code",
   "execution_count": 11,
   "metadata": {},
   "outputs": [
    {
     "data": {
      "image/png": "[encoded data removed]",
      "text/plain": [
       "<Figure size 576x288 with 1 Axes>"
      ]
     },
     "metadata": {
      "needs_background": "light"
     },
     "output_type": "display_data"
    }
   ],
   "source": [
    "fig_na(df_gk)"
   ]
  },
  {
   "cell_type": "code",
   "execution_count": 12,
   "metadata": {},
   "outputs": [
    {
     "data": {
      "image/png": "[encoded data removed]",
      "text/plain": [
       "<Figure size 576x288 with 1 Axes>"
      ]
     },
     "metadata": {},
     "output_type": "display_data"
    }
   ],
   "source": [
    "fig_na(df_ct)"
   ]
  },
  {
   "cell_type": "markdown",
   "metadata": {},
   "source": [
    "#### Attribute info\n",
    "\n",
    "`name`: Name of the player  \n",
    "`league`: 0 for Premeir league, 1 for Laliga, 2 for Seria, 3 for Bundesliga, 4 for Ligue, 5 for rest  \n",
    "`age` : Age of the player    \n",
    "`height` : Height of the player  \n",
    "`position` :  1 for attackers, 2 for midfielders, 3 for defenders, 4 for goalkeepers  \n",
    "`erfolge` : Achieve something  \n",
    "`caps` : Times to join the national team  \n",
    "`goalsCap` : Goal for the national team  \n",
    "`follower` : Follower on instagram  \n",
    "`club` : 0 for big club , 1 for rest  \n",
    "`contractYear` : rest time of contract  \n",
    "`country` : 1 for England, 2 for EU, 3 for Americas, 4 for Rest of World  \n",
    "`price` : As on <a href=\"https://www.transfermarkt.com/\">transfermarkt.com</a>  \n",
    "`appearances` : Appearances for the club  \n",
    "`nilnil_games` : Only for GK, that mean nil nil games   \n",
    "`goals_conceded` : Only for GK, that mean goals conceded    \n",
    "`goals` : Goals for the club \n",
    "`assists` : Assists for club  \n",
    "`minuted` : Minutes played for the club    "
   ]
  },
  {
   "cell_type": "code",
   "execution_count": 13,
   "metadata": {},
   "outputs": [
    {
     "data": {
      "text/plain": [
       "array(['name', 'league', 'age', 'height', 'position', 'erfolge', 'caps',\n",
       "       'goalsCap', 'follower', 'club', 'contractYear', 'country',\n",
       "       'appearances', 'nilnil_games', 'goals_conceded', 'minuted',\n",
       "       'price'], dtype=object)"
      ]
     },
     "execution_count": 13,
     "metadata": {},
     "output_type": "execute_result"
    }
   ],
   "source": [
    "df_gk.columns.values"
   ]
  },
  {
   "cell_type": "code",
   "execution_count": 14,
   "metadata": {},
   "outputs": [
    {
     "data": {
      "text/plain": [
       "array(['name', 'league', 'age', 'height', 'position', 'erfolge', 'caps',\n",
       "       'goalsCap', 'follower', 'club', 'contractYear', 'country',\n",
       "       'appearances', 'goals', 'assists', 'minuted', 'price'],\n",
       "      dtype=object)"
      ]
     },
     "execution_count": 14,
     "metadata": {},
     "output_type": "execute_result"
    }
   ],
   "source": [
    "df_ct.columns.values"
   ]
  },
  {
   "cell_type": "code",
   "execution_count": 15,
   "metadata": {},
   "outputs": [],
   "source": [
    "#quati quali"
   ]
  },
  {
   "cell_type": "code",
   "execution_count": 16,
   "metadata": {},
   "outputs": [
    {
     "data": {
      "image/png": "[encoded data removed]",
      "text/plain": [
       "<Figure size 432x288 with 1 Axes>"
      ]
     },
     "metadata": {},
     "output_type": "display_data"
    }
   ],
   "source": [
    "pca = PCA()\n",
    "sc = StandardScaler()\n",
    "X_tmp = df_ct[['age', 'height', 'erfolge', 'caps',\n",
    "       'goalsCap', 'follower', 'contractYear', 'appearances',\n",
    "        'goals', 'assists', 'minuted']].copy()\n",
    "X_tmp_std = sc.fit_transform(X_tmp)\n",
    "X_tmp_pca = pca.fit_transform(X_tmp_std)\n",
    "plt.bar(range(1, 12), pca.explained_variance_ratio_, alpha=0.5, align='center')\n",
    "plt.step(range(1, 12), np.cumsum(pca.explained_variance_ratio_), where='mid')\n",
    "plt.ylabel('Explained variance ratio')\n",
    "plt.xlabel('Principal components')\n",
    "\n",
    "plt.show()"
   ]
  },
  {
   "cell_type": "markdown",
   "metadata": {},
   "source": [
    "<img style=\"float: left; padding-right: 430px; width: 500px\" src=\"/home/thuy/Desktop/ML_project/data/img/encod_.png\">"
   ]
  },
  {
   "cell_type": "code",
   "execution_count": 17,
   "metadata": {},
   "outputs": [],
   "source": [
    "#transform_atts(df_train, df_test, n_components)\n",
    "#return X_train X_test"
   ]
  },
  {
   "cell_type": "markdown",
   "metadata": {},
   "source": [
    "# 3. Training model"
   ]
  },
  {
   "cell_type": "markdown",
   "metadata": {},
   "source": [
    "## A. Classification goalkeeps"
   ]
  },
  {
   "cell_type": "code",
   "execution_count": 18,
   "metadata": {},
   "outputs": [
    {
     "name": "stdout",
     "output_type": "stream",
     "text": [
      "gk_data shape: (308, 17)\n"
     ]
    }
   ],
   "source": [
    "df_gk = load_data('gk_data')"
   ]
  },
  {
   "cell_type": "code",
   "execution_count": 19,
   "metadata": {},
   "outputs": [],
   "source": [
    "#label\n",
    "## 0->2.5  : 0\n",
    "## 2.5->10 : 1\n",
    "## 10->40  : 2\n",
    "## >40     : 3"
   ]
  },
  {
   "cell_type": "code",
   "execution_count": 20,
   "metadata": {},
   "outputs": [],
   "source": [
    "df_gk = pre.label_price_gk(df_gk)"
   ]
  },
  {
   "cell_type": "code",
   "execution_count": 21,
   "metadata": {},
   "outputs": [
    {
     "data": {
      "text/plain": [
       "array([0, 2, 1, 3])"
      ]
     },
     "execution_count": 21,
     "metadata": {},
     "output_type": "execute_result"
    }
   ],
   "source": [
    "df_gk.label_price.unique()"
   ]
  },
  {
   "cell_type": "code",
   "execution_count": 22,
   "metadata": {},
   "outputs": [
    {
     "data": {
      "text/html": [
       "<div>\n",
       "<style scoped>\n",
       "    .dataframe tbody tr th:only-of-type {\n",
       "        vertical-align: middle;\n",
       "    }\n",
       "\n",
       "    .dataframe tbody tr th {\n",
       "        vertical-align: top;\n",
       "    }\n",
       "\n",
       "    .dataframe thead th {\n",
       "        text-align: right;\n",
       "    }\n",
       "</style>\n",
       "<table border=\"1\" class=\"dataframe\">\n",
       "  <thead>\n",
       "    <tr style=\"text-align: right;\">\n",
       "      <th></th>\n",
       "      <th>name</th>\n",
       "      <th>league</th>\n",
       "      <th>age</th>\n",
       "      <th>height</th>\n",
       "      <th>position</th>\n",
       "      <th>erfolge</th>\n",
       "      <th>caps</th>\n",
       "      <th>goalsCap</th>\n",
       "      <th>follower</th>\n",
       "      <th>club</th>\n",
       "      <th>contractYear</th>\n",
       "      <th>country</th>\n",
       "      <th>appearances</th>\n",
       "      <th>nilnil_games</th>\n",
       "      <th>goals_conceded</th>\n",
       "      <th>minuted</th>\n",
       "      <th>label_price</th>\n",
       "    </tr>\n",
       "  </thead>\n",
       "  <tbody>\n",
       "    <tr>\n",
       "      <th>0</th>\n",
       "      <td>Steve Mandanda</td>\n",
       "      <td>4</td>\n",
       "      <td>36</td>\n",
       "      <td>1.85</td>\n",
       "      <td>0</td>\n",
       "      <td>8</td>\n",
       "      <td>34</td>\n",
       "      <td>0</td>\n",
       "      <td>634401.0</td>\n",
       "      <td>1</td>\n",
       "      <td>2.539726</td>\n",
       "      <td>1</td>\n",
       "      <td>4.0</td>\n",
       "      <td>1.0</td>\n",
       "      <td>5.0</td>\n",
       "      <td>360.00</td>\n",
       "      <td>0</td>\n",
       "    </tr>\n",
       "    <tr>\n",
       "      <th>1</th>\n",
       "      <td>Unai Simón</td>\n",
       "      <td>1</td>\n",
       "      <td>24</td>\n",
       "      <td>1.90</td>\n",
       "      <td>0</td>\n",
       "      <td>3</td>\n",
       "      <td>20</td>\n",
       "      <td>0</td>\n",
       "      <td>3800.0</td>\n",
       "      <td>1</td>\n",
       "      <td>3.539726</td>\n",
       "      <td>1</td>\n",
       "      <td>14.0</td>\n",
       "      <td>6.0</td>\n",
       "      <td>10.0</td>\n",
       "      <td>1.26</td>\n",
       "      <td>2</td>\n",
       "    </tr>\n",
       "  </tbody>\n",
       "</table>\n",
       "</div>"
      ],
      "text/plain": [
       "             name  league  age  height  position  erfolge  caps  goalsCap  \\\n",
       "0  Steve Mandanda       4   36    1.85         0        8    34         0   \n",
       "1      Unai Simón       1   24    1.90         0        3    20         0   \n",
       "\n",
       "   follower  club  contractYear  country  appearances  nilnil_games  \\\n",
       "0  634401.0     1      2.539726        1          4.0           1.0   \n",
       "1    3800.0     1      3.539726        1         14.0           6.0   \n",
       "\n",
       "   goals_conceded  minuted  label_price  \n",
       "0             5.0   360.00            0  \n",
       "1            10.0     1.26            2  "
      ]
     },
     "execution_count": 22,
     "metadata": {},
     "output_type": "execute_result"
    }
   ],
   "source": [
    "df_gk.head(2)"
   ]
  },
  {
   "cell_type": "code",
   "execution_count": 23,
   "metadata": {},
   "outputs": [],
   "source": [
    "df_train, df_test = train_test_split(\n",
    "    df_gk,\n",
    "    test_size=0.2,\n",
    "    random_state=40,\n",
    "    stratify=df_gk[['league']]\n",
    ")"
   ]
  },
  {
   "cell_type": "code",
   "execution_count": 24,
   "metadata": {},
   "outputs": [
    {
     "name": "stdout",
     "output_type": "stream",
     "text": [
      "df Train: (246, 17)\n",
      "df test: (62, 17)\n"
     ]
    }
   ],
   "source": [
    "print(f'df Train: {df_train.shape}')\n",
    "print(f'df test: {df_test.shape}')"
   ]
  },
  {
   "cell_type": "code",
   "execution_count": 25,
   "metadata": {},
   "outputs": [
    {
     "name": "stdout",
     "output_type": "stream",
     "text": [
      "position: [0]\n",
      "country: [1 0 2 3]\n",
      "league: [1 2 0 4 3 5]\n",
      "club: [0 1]\n",
      "label: [1 2 0 3]\n"
     ]
    }
   ],
   "source": [
    "print(f'position: {df_train.position.unique()}')\n",
    "print(f'country: {df_train.country.unique()}')\n",
    "print(f'league: {df_train.league.unique()}')\n",
    "print(f'club: {df_train.club.unique()}')\n",
    "print(f'label: {df_train.label_price.unique()}')\n"
   ]
  },
  {
   "cell_type": "code",
   "execution_count": 26,
   "metadata": {},
   "outputs": [
    {
     "name": "stdout",
     "output_type": "stream",
     "text": [
      "position: [0]\n",
      "country: [2 1 0 3]\n",
      "league: [1 4 2 0 3 5]\n",
      "club: [0 1]\n",
      "label: [1 0 3 2]\n"
     ]
    }
   ],
   "source": [
    "print(f'position: {df_test.position.unique()}')\n",
    "print(f'country: {df_test.country.unique()}')\n",
    "print(f'league: {df_test.league.unique()}')\n",
    "print(f'club: {df_test.club.unique()}')\n",
    "print(f'label: {df_test.label_price.unique()}')"
   ]
  },
  {
   "cell_type": "code",
   "execution_count": 27,
   "metadata": {},
   "outputs": [
    {
     "data": {
      "text/html": [
       "<div>\n",
       "<style scoped>\n",
       "    .dataframe tbody tr th:only-of-type {\n",
       "        vertical-align: middle;\n",
       "    }\n",
       "\n",
       "    .dataframe tbody tr th {\n",
       "        vertical-align: top;\n",
       "    }\n",
       "\n",
       "    .dataframe thead th {\n",
       "        text-align: right;\n",
       "    }\n",
       "</style>\n",
       "<table border=\"1\" class=\"dataframe\">\n",
       "  <thead>\n",
       "    <tr style=\"text-align: right;\">\n",
       "      <th></th>\n",
       "      <th>follower</th>\n",
       "      <th>height</th>\n",
       "      <th>nilnil_games</th>\n",
       "    </tr>\n",
       "    <tr>\n",
       "      <th>club</th>\n",
       "      <th></th>\n",
       "      <th></th>\n",
       "      <th></th>\n",
       "    </tr>\n",
       "  </thead>\n",
       "  <tbody>\n",
       "    <tr>\n",
       "      <th>0</th>\n",
       "      <td>2.179847e+06</td>\n",
       "      <td>1.910606</td>\n",
       "      <td>11.30303</td>\n",
       "    </tr>\n",
       "    <tr>\n",
       "      <th>1</th>\n",
       "      <td>1.345853e+05</td>\n",
       "      <td>1.900094</td>\n",
       "      <td>4.27230</td>\n",
       "    </tr>\n",
       "  </tbody>\n",
       "</table>\n",
       "</div>"
      ],
      "text/plain": [
       "          follower    height  nilnil_games\n",
       "club                                      \n",
       "0     2.179847e+06  1.910606      11.30303\n",
       "1     1.345853e+05  1.900094       4.27230"
      ]
     },
     "execution_count": 27,
     "metadata": {},
     "output_type": "execute_result"
    }
   ],
   "source": [
    "df_train.groupby(['club']).agg({'follower':np.mean, 'height': np.mean, 'nilnil_games':np.mean})"
   ]
  },
  {
   "cell_type": "code",
   "execution_count": 28,
   "metadata": {},
   "outputs": [],
   "source": [
    "#age square"
   ]
  },
  {
   "cell_type": "code",
   "execution_count": 29,
   "metadata": {},
   "outputs": [
    {
     "data": {
      "text/html": [
       "<div>\n",
       "<style scoped>\n",
       "    .dataframe tbody tr th:only-of-type {\n",
       "        vertical-align: middle;\n",
       "    }\n",
       "\n",
       "    .dataframe tbody tr th {\n",
       "        vertical-align: top;\n",
       "    }\n",
       "\n",
       "    .dataframe thead th {\n",
       "        text-align: right;\n",
       "    }\n",
       "</style>\n",
       "<table border=\"1\" class=\"dataframe\">\n",
       "  <thead>\n",
       "    <tr style=\"text-align: right;\">\n",
       "      <th></th>\n",
       "      <th>price</th>\n",
       "    </tr>\n",
       "    <tr>\n",
       "      <th>age</th>\n",
       "      <th></th>\n",
       "    </tr>\n",
       "  </thead>\n",
       "  <tbody>\n",
       "    <tr>\n",
       "      <th>16</th>\n",
       "      <td>1.050000</td>\n",
       "    </tr>\n",
       "    <tr>\n",
       "      <th>17</th>\n",
       "      <td>5.368182</td>\n",
       "    </tr>\n",
       "    <tr>\n",
       "      <th>18</th>\n",
       "      <td>6.366837</td>\n",
       "    </tr>\n",
       "    <tr>\n",
       "      <th>19</th>\n",
       "      <td>6.388911</td>\n",
       "    </tr>\n",
       "    <tr>\n",
       "      <th>20</th>\n",
       "      <td>6.926667</td>\n",
       "    </tr>\n",
       "    <tr>\n",
       "      <th>21</th>\n",
       "      <td>11.408444</td>\n",
       "    </tr>\n",
       "    <tr>\n",
       "      <th>22</th>\n",
       "      <td>12.122059</td>\n",
       "    </tr>\n",
       "    <tr>\n",
       "      <th>23</th>\n",
       "      <td>11.082514</td>\n",
       "    </tr>\n",
       "    <tr>\n",
       "      <th>24</th>\n",
       "      <td>14.955973</td>\n",
       "    </tr>\n",
       "    <tr>\n",
       "      <th>25</th>\n",
       "      <td>13.405682</td>\n",
       "    </tr>\n",
       "    <tr>\n",
       "      <th>26</th>\n",
       "      <td>14.441713</td>\n",
       "    </tr>\n",
       "    <tr>\n",
       "      <th>27</th>\n",
       "      <td>12.220442</td>\n",
       "    </tr>\n",
       "    <tr>\n",
       "      <th>28</th>\n",
       "      <td>13.261333</td>\n",
       "    </tr>\n",
       "    <tr>\n",
       "      <th>29</th>\n",
       "      <td>12.528758</td>\n",
       "    </tr>\n",
       "    <tr>\n",
       "      <th>30</th>\n",
       "      <td>9.672386</td>\n",
       "    </tr>\n",
       "    <tr>\n",
       "      <th>31</th>\n",
       "      <td>5.947449</td>\n",
       "    </tr>\n",
       "    <tr>\n",
       "      <th>32</th>\n",
       "      <td>4.686559</td>\n",
       "    </tr>\n",
       "    <tr>\n",
       "      <th>33</th>\n",
       "      <td>4.910169</td>\n",
       "    </tr>\n",
       "    <tr>\n",
       "      <th>34</th>\n",
       "      <td>4.542708</td>\n",
       "    </tr>\n",
       "    <tr>\n",
       "      <th>35</th>\n",
       "      <td>2.220833</td>\n",
       "    </tr>\n",
       "    <tr>\n",
       "      <th>36</th>\n",
       "      <td>5.046667</td>\n",
       "    </tr>\n",
       "    <tr>\n",
       "      <th>37</th>\n",
       "      <td>1.037500</td>\n",
       "    </tr>\n",
       "    <tr>\n",
       "      <th>38</th>\n",
       "      <td>0.866667</td>\n",
       "    </tr>\n",
       "    <tr>\n",
       "      <th>39</th>\n",
       "      <td>1.000000</td>\n",
       "    </tr>\n",
       "    <tr>\n",
       "      <th>40</th>\n",
       "      <td>2.750000</td>\n",
       "    </tr>\n",
       "  </tbody>\n",
       "</table>\n",
       "</div>"
      ],
      "text/plain": [
       "         price\n",
       "age           \n",
       "16    1.050000\n",
       "17    5.368182\n",
       "18    6.366837\n",
       "19    6.388911\n",
       "20    6.926667\n",
       "21   11.408444\n",
       "22   12.122059\n",
       "23   11.082514\n",
       "24   14.955973\n",
       "25   13.405682\n",
       "26   14.441713\n",
       "27   12.220442\n",
       "28   13.261333\n",
       "29   12.528758\n",
       "30    9.672386\n",
       "31    5.947449\n",
       "32    4.686559\n",
       "33    4.910169\n",
       "34    4.542708\n",
       "35    2.220833\n",
       "36    5.046667\n",
       "37    1.037500\n",
       "38    0.866667\n",
       "39    1.000000\n",
       "40    2.750000"
      ]
     },
     "execution_count": 29,
     "metadata": {},
     "output_type": "execute_result"
    }
   ],
   "source": [
    "df_ct.groupby('age').agg({'price':np.mean})"
   ]
  },
  {
   "cell_type": "code",
   "execution_count": 30,
   "metadata": {},
   "outputs": [
    {
     "data": {
      "image/png": "[encoded data removed]",
      "text/plain": [
       "<Figure size 1080x504 with 1 Axes>"
      ]
     },
     "metadata": {},
     "output_type": "display_data"
    }
   ],
   "source": [
    "agePerPrice = df_ct.groupby('age').agg({'price' : np.mean}).reset_index()\n",
    "plt.figure(figsize=(15, 7))\n",
    "plt.bar(agePerPrice.age, agePerPrice.price, color = 'green')\n",
    "plt.plot(agePerPrice.age, agePerPrice.price, '-r', linewidth = 3, marker='o')\n",
    "plt.xlabel('$Age$', size=20)\n",
    "plt.ylabel('$Price$',size=20, rotation=0)\n",
    "plt.title('Age - price relationship', size=30)\n",
    "plt.tight_layout()"
   ]
  },
  {
   "cell_type": "code",
   "execution_count": 31,
   "metadata": {},
   "outputs": [],
   "source": [
    "#data transform"
   ]
  },
  {
   "cell_type": "code",
   "execution_count": 32,
   "metadata": {},
   "outputs": [],
   "source": [
    "## add age square"
   ]
  },
  {
   "cell_type": "code",
   "execution_count": 33,
   "metadata": {},
   "outputs": [],
   "source": [
    "trans = pre.process_transform()\n",
    "df_train = trans.add_age_square(df_train)\n",
    "df_test = trans.add_age_square(df_test)"
   ]
  },
  {
   "cell_type": "code",
   "execution_count": 34,
   "metadata": {},
   "outputs": [
    {
     "data": {
      "text/html": [
       "<div>\n",
       "<style scoped>\n",
       "    .dataframe tbody tr th:only-of-type {\n",
       "        vertical-align: middle;\n",
       "    }\n",
       "\n",
       "    .dataframe tbody tr th {\n",
       "        vertical-align: top;\n",
       "    }\n",
       "\n",
       "    .dataframe thead th {\n",
       "        text-align: right;\n",
       "    }\n",
       "</style>\n",
       "<table border=\"1\" class=\"dataframe\">\n",
       "  <thead>\n",
       "    <tr style=\"text-align: right;\">\n",
       "      <th></th>\n",
       "      <th>name</th>\n",
       "      <th>league</th>\n",
       "      <th>age</th>\n",
       "      <th>height</th>\n",
       "      <th>position</th>\n",
       "      <th>erfolge</th>\n",
       "      <th>caps</th>\n",
       "      <th>goalsCap</th>\n",
       "      <th>follower</th>\n",
       "      <th>club</th>\n",
       "      <th>contractYear</th>\n",
       "      <th>country</th>\n",
       "      <th>appearances</th>\n",
       "      <th>nilnil_games</th>\n",
       "      <th>goals_conceded</th>\n",
       "      <th>minuted</th>\n",
       "      <th>label_price</th>\n",
       "      <th>age_square</th>\n",
       "    </tr>\n",
       "  </thead>\n",
       "  <tbody>\n",
       "    <tr>\n",
       "      <th>190</th>\n",
       "      <td>Iñaki Peña</td>\n",
       "      <td>1</td>\n",
       "      <td>22</td>\n",
       "      <td>1.84</td>\n",
       "      <td>0</td>\n",
       "      <td>2</td>\n",
       "      <td>0</td>\n",
       "      <td>0</td>\n",
       "      <td>259839.0</td>\n",
       "      <td>0</td>\n",
       "      <td>1.536986</td>\n",
       "      <td>1</td>\n",
       "      <td>9.0</td>\n",
       "      <td>4.0</td>\n",
       "      <td>8.0</td>\n",
       "      <td>810.0</td>\n",
       "      <td>1</td>\n",
       "      <td>484</td>\n",
       "    </tr>\n",
       "  </tbody>\n",
       "</table>\n",
       "</div>"
      ],
      "text/plain": [
       "           name  league  age  height  position  erfolge  caps  goalsCap  \\\n",
       "190  Iñaki Peña       1   22    1.84         0        2     0         0   \n",
       "\n",
       "     follower  club  contractYear  country  appearances  nilnil_games  \\\n",
       "190  259839.0     0      1.536986        1          9.0           4.0   \n",
       "\n",
       "     goals_conceded  minuted  label_price  age_square  \n",
       "190             8.0    810.0            1         484  "
      ]
     },
     "execution_count": 34,
     "metadata": {},
     "output_type": "execute_result"
    }
   ],
   "source": [
    "df_train.head(1)"
   ]
  },
  {
   "cell_type": "code",
   "execution_count": 35,
   "metadata": {},
   "outputs": [],
   "source": [
    "##transform data(log)"
   ]
  },
  {
   "cell_type": "code",
   "execution_count": 36,
   "metadata": {},
   "outputs": [],
   "source": [
    "def _log(b, x):\n",
    "    return np.log(x)/np.log(b)"
   ]
  },
  {
   "cell_type": "code",
   "execution_count": 37,
   "metadata": {},
   "outputs": [
    {
     "name": "stderr",
     "output_type": "stream",
     "text": [
      "/tmp/ipykernel_18236/3333428649.py:2: RuntimeWarning: divide by zero encountered in log\n",
      "  return np.log(x)/np.log(b)\n",
      "/tmp/ipykernel_18236/3333428649.py:2: RuntimeWarning: divide by zero encountered in log\n",
      "  return np.log(x)/np.log(b)\n",
      "/tmp/ipykernel_18236/3333428649.py:2: RuntimeWarning: divide by zero encountered in log\n",
      "  return np.log(x)/np.log(b)\n"
     ]
    },
    {
     "data": {
      "text/plain": [
       "Text(0.5, 1.0, '$ln$')"
      ]
     },
     "execution_count": 37,
     "metadata": {},
     "output_type": "execute_result"
    },
    {
     "data": {
      "image/png": "[encoded data removed]",
      "text/plain": [
       "<Figure size 2160x720 with 3 Axes>"
      ]
     },
     "metadata": {},
     "output_type": "display_data"
    }
   ],
   "source": [
    "x_tmp = np.linspace(0, 100)\n",
    "fig, ax= plt.subplots(1, 3, figsize=(30, 10))\n",
    "ax[0].plot(x_tmp, _log(1.1, x_tmp), color='g')\n",
    "ax[0].set_title('$log 1.1$', size=50)\n",
    "ax[1].plot(x_tmp, _log(1.5, x_tmp), color='g')\n",
    "ax[1].set_title('$log 1.5$', size=50)\n",
    "ax[2].plot(x_tmp, _log(np.e, x_tmp), color='g')\n",
    "ax[2].set_title('$ln$', size=50)"
   ]
  },
  {
   "cell_type": "code",
   "execution_count": 38,
   "metadata": {},
   "outputs": [
    {
     "data": {
      "text/plain": [
       "Index(['name', 'league', 'age', 'height', 'position', 'erfolge', 'caps',\n",
       "       'goalsCap', 'follower', 'club', 'contractYear', 'country',\n",
       "       'appearances', 'nilnil_games', 'goals_conceded', 'minuted',\n",
       "       'label_price'],\n",
       "      dtype='object')"
      ]
     },
     "execution_count": 38,
     "metadata": {},
     "output_type": "execute_result"
    }
   ],
   "source": [
    "df_gk.columns"
   ]
  },
  {
   "cell_type": "code",
   "execution_count": 39,
   "metadata": {},
   "outputs": [],
   "source": [
    "trans = pre.process_transform()\n",
    "#transform train\n",
    "df_train = trans._log_with_b_(\n",
    "    df_train,\n",
    "    lst=['follower'],\n",
    "    b=1.5\n",
    ")\n",
    "df_train = trans._log_with_b_(\n",
    "    df_train,\n",
    "    lst=['erfolge', 'caps', 'goalsCap', 'appearances', 'nilnil_games',\n",
    "     'goals_conceded', 'minuted'],\n",
    "    b=1.1\n",
    ")\n",
    "#transform test\n",
    "df_test = trans._log_with_b_(\n",
    "    df_test,\n",
    "    lst=['follower'],\n",
    "    b=1.5\n",
    ")\n",
    "df_test = trans._log_with_b_(\n",
    "    df_test,\n",
    "    lst=['erfolge', 'caps', 'goalsCap', 'appearances', 'nilnil_games',\n",
    "     'goals_conceded', 'minuted'],\n",
    "    b=1.1\n",
    ")"
   ]
  },
  {
   "cell_type": "code",
   "execution_count": 40,
   "metadata": {},
   "outputs": [
    {
     "data": {
      "text/html": [
       "<div>\n",
       "<style scoped>\n",
       "    .dataframe tbody tr th:only-of-type {\n",
       "        vertical-align: middle;\n",
       "    }\n",
       "\n",
       "    .dataframe tbody tr th {\n",
       "        vertical-align: top;\n",
       "    }\n",
       "\n",
       "    .dataframe thead th {\n",
       "        text-align: right;\n",
       "    }\n",
       "</style>\n",
       "<table border=\"1\" class=\"dataframe\">\n",
       "  <thead>\n",
       "    <tr style=\"text-align: right;\">\n",
       "      <th></th>\n",
       "      <th>name</th>\n",
       "      <th>league</th>\n",
       "      <th>age</th>\n",
       "      <th>height</th>\n",
       "      <th>position</th>\n",
       "      <th>erfolge</th>\n",
       "      <th>caps</th>\n",
       "      <th>goalsCap</th>\n",
       "      <th>follower</th>\n",
       "      <th>club</th>\n",
       "      <th>contractYear</th>\n",
       "      <th>country</th>\n",
       "      <th>appearances</th>\n",
       "      <th>nilnil_games</th>\n",
       "      <th>goals_conceded</th>\n",
       "      <th>minuted</th>\n",
       "      <th>label_price</th>\n",
       "      <th>age_square</th>\n",
       "    </tr>\n",
       "  </thead>\n",
       "  <tbody>\n",
       "    <tr>\n",
       "      <th>190</th>\n",
       "      <td>Iñaki Peña</td>\n",
       "      <td>1</td>\n",
       "      <td>22</td>\n",
       "      <td>1.84</td>\n",
       "      <td>0</td>\n",
       "      <td>11.526705</td>\n",
       "      <td>0.000000</td>\n",
       "      <td>0.0</td>\n",
       "      <td>30.749431</td>\n",
       "      <td>0</td>\n",
       "      <td>1.536986</td>\n",
       "      <td>1</td>\n",
       "      <td>24.158858</td>\n",
       "      <td>16.886317</td>\n",
       "      <td>23.053409</td>\n",
       "      <td>70.278622</td>\n",
       "      <td>1</td>\n",
       "      <td>484</td>\n",
       "    </tr>\n",
       "    <tr>\n",
       "      <th>215</th>\n",
       "      <td>Alex Meret</td>\n",
       "      <td>2</td>\n",
       "      <td>24</td>\n",
       "      <td>1.90</td>\n",
       "      <td>0</td>\n",
       "      <td>14.545082</td>\n",
       "      <td>11.526705</td>\n",
       "      <td>0.0</td>\n",
       "      <td>31.468957</td>\n",
       "      <td>1</td>\n",
       "      <td>1.536986</td>\n",
       "      <td>1</td>\n",
       "      <td>21.817623</td>\n",
       "      <td>11.526705</td>\n",
       "      <td>21.817623</td>\n",
       "      <td>67.645511</td>\n",
       "      <td>2</td>\n",
       "      <td>576</td>\n",
       "    </tr>\n",
       "  </tbody>\n",
       "</table>\n",
       "</div>"
      ],
      "text/plain": [
       "           name  league  age  height  position    erfolge       caps  \\\n",
       "190  Iñaki Peña       1   22    1.84         0  11.526705   0.000000   \n",
       "215  Alex Meret       2   24    1.90         0  14.545082  11.526705   \n",
       "\n",
       "     goalsCap   follower  club  contractYear  country  appearances  \\\n",
       "190       0.0  30.749431     0      1.536986        1    24.158858   \n",
       "215       0.0  31.468957     1      1.536986        1    21.817623   \n",
       "\n",
       "     nilnil_games  goals_conceded    minuted  label_price  age_square  \n",
       "190     16.886317       23.053409  70.278622            1         484  \n",
       "215     11.526705       21.817623  67.645511            2         576  "
      ]
     },
     "execution_count": 40,
     "metadata": {},
     "output_type": "execute_result"
    }
   ],
   "source": [
    "df_train.head(2)"
   ]
  },
  {
   "cell_type": "code",
   "execution_count": 41,
   "metadata": {},
   "outputs": [
    {
     "data": {
      "text/html": [
       "<div>\n",
       "<style scoped>\n",
       "    .dataframe tbody tr th:only-of-type {\n",
       "        vertical-align: middle;\n",
       "    }\n",
       "\n",
       "    .dataframe tbody tr th {\n",
       "        vertical-align: top;\n",
       "    }\n",
       "\n",
       "    .dataframe thead th {\n",
       "        text-align: right;\n",
       "    }\n",
       "</style>\n",
       "<table border=\"1\" class=\"dataframe\">\n",
       "  <thead>\n",
       "    <tr style=\"text-align: right;\">\n",
       "      <th></th>\n",
       "      <th>name</th>\n",
       "      <th>league</th>\n",
       "      <th>age</th>\n",
       "      <th>height</th>\n",
       "      <th>position</th>\n",
       "      <th>erfolge</th>\n",
       "      <th>caps</th>\n",
       "      <th>goalsCap</th>\n",
       "      <th>follower</th>\n",
       "      <th>club</th>\n",
       "      <th>contractYear</th>\n",
       "      <th>country</th>\n",
       "      <th>appearances</th>\n",
       "      <th>nilnil_games</th>\n",
       "      <th>goals_conceded</th>\n",
       "      <th>minuted</th>\n",
       "      <th>label_price</th>\n",
       "      <th>age_square</th>\n",
       "    </tr>\n",
       "  </thead>\n",
       "  <tbody>\n",
       "    <tr>\n",
       "      <th>133</th>\n",
       "      <td>Neto</td>\n",
       "      <td>1</td>\n",
       "      <td>32</td>\n",
       "      <td>1.90</td>\n",
       "      <td>0</td>\n",
       "      <td>21.817623</td>\n",
       "      <td>7.272541</td>\n",
       "      <td>0.0</td>\n",
       "      <td>34.502421</td>\n",
       "      <td>0</td>\n",
       "      <td>1.536986</td>\n",
       "      <td>2</td>\n",
       "      <td>11.526705</td>\n",
       "      <td>0.000000</td>\n",
       "      <td>14.545082</td>\n",
       "      <td>54.542936</td>\n",
       "      <td>1</td>\n",
       "      <td>1024</td>\n",
       "    </tr>\n",
       "    <tr>\n",
       "      <th>247</th>\n",
       "      <td>Claudio Bravo</td>\n",
       "      <td>1</td>\n",
       "      <td>38</td>\n",
       "      <td>1.84</td>\n",
       "      <td>0</td>\n",
       "      <td>23.053409</td>\n",
       "      <td>51.848002</td>\n",
       "      <td>0.0</td>\n",
       "      <td>39.243147</td>\n",
       "      <td>1</td>\n",
       "      <td>0.536986</td>\n",
       "      <td>2</td>\n",
       "      <td>25.158858</td>\n",
       "      <td>11.526705</td>\n",
       "      <td>29.090164</td>\n",
       "      <td>71.171046</td>\n",
       "      <td>0</td>\n",
       "      <td>1444</td>\n",
       "    </tr>\n",
       "  </tbody>\n",
       "</table>\n",
       "</div>"
      ],
      "text/plain": [
       "              name  league  age  height  position    erfolge       caps  \\\n",
       "133           Neto       1   32    1.90         0  21.817623   7.272541   \n",
       "247  Claudio Bravo       1   38    1.84         0  23.053409  51.848002   \n",
       "\n",
       "     goalsCap   follower  club  contractYear  country  appearances  \\\n",
       "133       0.0  34.502421     0      1.536986        2    11.526705   \n",
       "247       0.0  39.243147     1      0.536986        2    25.158858   \n",
       "\n",
       "     nilnil_games  goals_conceded    minuted  label_price  age_square  \n",
       "133      0.000000       14.545082  54.542936            1        1024  \n",
       "247     11.526705       29.090164  71.171046            0        1444  "
      ]
     },
     "execution_count": 41,
     "metadata": {},
     "output_type": "execute_result"
    }
   ],
   "source": [
    "df_test.head(2)"
   ]
  },
  {
   "cell_type": "code",
   "execution_count": 42,
   "metadata": {},
   "outputs": [],
   "source": [
    "#pca(n = 6), encode"
   ]
  },
  {
   "cell_type": "code",
   "execution_count": 43,
   "metadata": {},
   "outputs": [],
   "source": [
    "X_train, X_test = pre.transform_atts(df_train, df_test, n_components=6)\n",
    "y_train = df_train[['label_price']]\n",
    "y_test = df_test[['label_price']]"
   ]
  },
  {
   "cell_type": "code",
   "execution_count": 44,
   "metadata": {},
   "outputs": [
    {
     "data": {
      "text/html": [
       "<div>\n",
       "<style scoped>\n",
       "    .dataframe tbody tr th:only-of-type {\n",
       "        vertical-align: middle;\n",
       "    }\n",
       "\n",
       "    .dataframe tbody tr th {\n",
       "        vertical-align: top;\n",
       "    }\n",
       "\n",
       "    .dataframe thead th {\n",
       "        text-align: right;\n",
       "    }\n",
       "</style>\n",
       "<table border=\"1\" class=\"dataframe\">\n",
       "  <thead>\n",
       "    <tr style=\"text-align: right;\">\n",
       "      <th></th>\n",
       "      <th>0</th>\n",
       "      <th>1</th>\n",
       "      <th>2</th>\n",
       "      <th>3</th>\n",
       "      <th>4</th>\n",
       "      <th>5</th>\n",
       "      <th>club</th>\n",
       "      <th>league_1</th>\n",
       "      <th>league_2</th>\n",
       "      <th>league_3</th>\n",
       "      <th>league_4</th>\n",
       "      <th>league_5</th>\n",
       "      <th>country_1</th>\n",
       "      <th>country_2</th>\n",
       "      <th>country_3</th>\n",
       "    </tr>\n",
       "  </thead>\n",
       "  <tbody>\n",
       "    <tr>\n",
       "      <th>0</th>\n",
       "      <td>-0.064170</td>\n",
       "      <td>-1.475658</td>\n",
       "      <td>-0.153035</td>\n",
       "      <td>2.107657</td>\n",
       "      <td>-0.523718</td>\n",
       "      <td>-1.139563</td>\n",
       "      <td>0</td>\n",
       "      <td>1</td>\n",
       "      <td>0</td>\n",
       "      <td>0</td>\n",
       "      <td>0</td>\n",
       "      <td>0</td>\n",
       "      <td>1</td>\n",
       "      <td>0</td>\n",
       "      <td>0</td>\n",
       "    </tr>\n",
       "    <tr>\n",
       "      <th>1</th>\n",
       "      <td>0.298924</td>\n",
       "      <td>-0.664316</td>\n",
       "      <td>0.685544</td>\n",
       "      <td>1.502611</td>\n",
       "      <td>0.557014</td>\n",
       "      <td>-0.930772</td>\n",
       "      <td>1</td>\n",
       "      <td>0</td>\n",
       "      <td>1</td>\n",
       "      <td>0</td>\n",
       "      <td>0</td>\n",
       "      <td>0</td>\n",
       "      <td>1</td>\n",
       "      <td>0</td>\n",
       "      <td>0</td>\n",
       "    </tr>\n",
       "  </tbody>\n",
       "</table>\n",
       "</div>"
      ],
      "text/plain": [
       "          0         1         2         3         4         5  club  league_1  \\\n",
       "0 -0.064170 -1.475658 -0.153035  2.107657 -0.523718 -1.139563     0         1   \n",
       "1  0.298924 -0.664316  0.685544  1.502611  0.557014 -0.930772     1         0   \n",
       "\n",
       "   league_2  league_3  league_4  league_5  country_1  country_2  country_3  \n",
       "0         0         0         0         0          1          0          0  \n",
       "1         1         0         0         0          1          0          0  "
      ]
     },
     "execution_count": 44,
     "metadata": {},
     "output_type": "execute_result"
    }
   ],
   "source": [
    "X_train.head(2)"
   ]
  },
  {
   "cell_type": "code",
   "execution_count": 45,
   "metadata": {},
   "outputs": [
    {
     "data": {
      "text/html": [
       "<div>\n",
       "<style scoped>\n",
       "    .dataframe tbody tr th:only-of-type {\n",
       "        vertical-align: middle;\n",
       "    }\n",
       "\n",
       "    .dataframe tbody tr th {\n",
       "        vertical-align: top;\n",
       "    }\n",
       "\n",
       "    .dataframe thead th {\n",
       "        text-align: right;\n",
       "    }\n",
       "</style>\n",
       "<table border=\"1\" class=\"dataframe\">\n",
       "  <thead>\n",
       "    <tr style=\"text-align: right;\">\n",
       "      <th></th>\n",
       "      <th>0</th>\n",
       "      <th>1</th>\n",
       "      <th>2</th>\n",
       "      <th>3</th>\n",
       "      <th>4</th>\n",
       "      <th>5</th>\n",
       "      <th>club</th>\n",
       "      <th>league_1</th>\n",
       "      <th>league_2</th>\n",
       "      <th>league_3</th>\n",
       "      <th>league_4</th>\n",
       "      <th>league_5</th>\n",
       "      <th>country_1</th>\n",
       "      <th>country_2</th>\n",
       "      <th>country_3</th>\n",
       "    </tr>\n",
       "  </thead>\n",
       "  <tbody>\n",
       "    <tr>\n",
       "      <th>0</th>\n",
       "      <td>0.601146</td>\n",
       "      <td>1.883584</td>\n",
       "      <td>0.568883</td>\n",
       "      <td>1.369152</td>\n",
       "      <td>0.491220</td>\n",
       "      <td>-0.878588</td>\n",
       "      <td>0</td>\n",
       "      <td>1</td>\n",
       "      <td>0</td>\n",
       "      <td>0</td>\n",
       "      <td>0</td>\n",
       "      <td>0</td>\n",
       "      <td>0</td>\n",
       "      <td>1</td>\n",
       "      <td>0</td>\n",
       "    </tr>\n",
       "    <tr>\n",
       "      <th>1</th>\n",
       "      <td>3.834627</td>\n",
       "      <td>2.629818</td>\n",
       "      <td>0.044226</td>\n",
       "      <td>2.946408</td>\n",
       "      <td>-0.001897</td>\n",
       "      <td>0.446867</td>\n",
       "      <td>1</td>\n",
       "      <td>1</td>\n",
       "      <td>0</td>\n",
       "      <td>0</td>\n",
       "      <td>0</td>\n",
       "      <td>0</td>\n",
       "      <td>0</td>\n",
       "      <td>1</td>\n",
       "      <td>0</td>\n",
       "    </tr>\n",
       "  </tbody>\n",
       "</table>\n",
       "</div>"
      ],
      "text/plain": [
       "          0         1         2         3         4         5  club  league_1  \\\n",
       "0  0.601146  1.883584  0.568883  1.369152  0.491220 -0.878588     0         1   \n",
       "1  3.834627  2.629818  0.044226  2.946408 -0.001897  0.446867     1         1   \n",
       "\n",
       "   league_2  league_3  league_4  league_5  country_1  country_2  country_3  \n",
       "0         0         0         0         0          0          1          0  \n",
       "1         0         0         0         0          0          1          0  "
      ]
     },
     "execution_count": 45,
     "metadata": {},
     "output_type": "execute_result"
    }
   ],
   "source": [
    "X_test.head(2)"
   ]
  },
  {
   "cell_type": "code",
   "execution_count": 46,
   "metadata": {},
   "outputs": [
    {
     "data": {
      "text/html": [
       "<div>\n",
       "<style scoped>\n",
       "    .dataframe tbody tr th:only-of-type {\n",
       "        vertical-align: middle;\n",
       "    }\n",
       "\n",
       "    .dataframe tbody tr th {\n",
       "        vertical-align: top;\n",
       "    }\n",
       "\n",
       "    .dataframe thead th {\n",
       "        text-align: right;\n",
       "    }\n",
       "</style>\n",
       "<table border=\"1\" class=\"dataframe\">\n",
       "  <thead>\n",
       "    <tr style=\"text-align: right;\">\n",
       "      <th></th>\n",
       "      <th>label_price</th>\n",
       "    </tr>\n",
       "  </thead>\n",
       "  <tbody>\n",
       "    <tr>\n",
       "      <th>190</th>\n",
       "      <td>1</td>\n",
       "    </tr>\n",
       "    <tr>\n",
       "      <th>215</th>\n",
       "      <td>2</td>\n",
       "    </tr>\n",
       "  </tbody>\n",
       "</table>\n",
       "</div>"
      ],
      "text/plain": [
       "     label_price\n",
       "190            1\n",
       "215            2"
      ]
     },
     "execution_count": 46,
     "metadata": {},
     "output_type": "execute_result"
    }
   ],
   "source": [
    "y_train.head(2)"
   ]
  },
  {
   "cell_type": "code",
   "execution_count": 47,
   "metadata": {},
   "outputs": [
    {
     "data": {
      "text/html": [
       "<div>\n",
       "<style scoped>\n",
       "    .dataframe tbody tr th:only-of-type {\n",
       "        vertical-align: middle;\n",
       "    }\n",
       "\n",
       "    .dataframe tbody tr th {\n",
       "        vertical-align: top;\n",
       "    }\n",
       "\n",
       "    .dataframe thead th {\n",
       "        text-align: right;\n",
       "    }\n",
       "</style>\n",
       "<table border=\"1\" class=\"dataframe\">\n",
       "  <thead>\n",
       "    <tr style=\"text-align: right;\">\n",
       "      <th></th>\n",
       "      <th>label_price</th>\n",
       "    </tr>\n",
       "  </thead>\n",
       "  <tbody>\n",
       "    <tr>\n",
       "      <th>133</th>\n",
       "      <td>1</td>\n",
       "    </tr>\n",
       "    <tr>\n",
       "      <th>247</th>\n",
       "      <td>0</td>\n",
       "    </tr>\n",
       "  </tbody>\n",
       "</table>\n",
       "</div>"
      ],
      "text/plain": [
       "     label_price\n",
       "133            1\n",
       "247            0"
      ]
     },
     "execution_count": 47,
     "metadata": {},
     "output_type": "execute_result"
    }
   ],
   "source": [
    "y_test.head(2)"
   ]
  },
  {
   "cell_type": "code",
   "execution_count": 50,
   "metadata": {},
   "outputs": [
    {
     "name": "stderr",
     "output_type": "stream",
     "text": [
      "/home/thuy/.local/lib/python3.8/site-packages/sklearn/utils/validation.py:985: DataConversionWarning: A column-vector y was passed when a 1d array was expected. Please change the shape of y to (n_samples, ), for example using ravel().\n",
      "  y = column_or_1d(y, warn=True)\n"
     ]
    }
   ],
   "source": [
    "from sklearn.linear_model import LogisticRegression\n",
    "\n",
    "lr = LogisticRegression()\n",
    "lr.fit(X_train.values, y_train.values)\n",
    "y_pred = lr.predict(X_test.values)"
   ]
  },
  {
   "cell_type": "code",
   "execution_count": 51,
   "metadata": {},
   "outputs": [
    {
     "name": "stdout",
     "output_type": "stream",
     "text": [
      "              precision    recall  f1-score   support\n",
      "\n",
      "           0       0.63      0.79      0.70        33\n",
      "           1       0.31      0.25      0.28        16\n",
      "           2       0.50      0.27      0.35        11\n",
      "           3       0.50      0.50      0.50         2\n",
      "\n",
      "    accuracy                           0.55        62\n",
      "   macro avg       0.49      0.45      0.46        62\n",
      "weighted avg       0.52      0.55      0.52        62\n",
      "\n"
     ]
    }
   ],
   "source": [
    "from sklearn.metrics import classification_report\n",
    "print(classification_report(y_test, y_pred))"
   ]
  },
  {
   "cell_type": "markdown",
   "metadata": {},
   "source": [
    "## B. Regression rest position"
   ]
  },
  {
   "cell_type": "code",
   "execution_count": 49,
   "metadata": {},
   "outputs": [
    {
     "name": "stdout",
     "output_type": "stream",
     "text": [
      "ct_data shape: (2368, 17)\n"
     ]
    }
   ],
   "source": [
    "df_ct = load_data('ct_data')"
   ]
  },
  {
   "cell_type": "code",
   "execution_count": 50,
   "metadata": {},
   "outputs": [],
   "source": [
    "df_train_ct, df_test_ct = train_test_split(\n",
    "    df_ct,\n",
    "    test_size=0.3,\n",
    "    random_state=40,\n",
    "    stratify=df_ct[['league']]\n",
    ")"
   ]
  },
  {
   "cell_type": "code",
   "execution_count": 51,
   "metadata": {},
   "outputs": [
    {
     "name": "stdout",
     "output_type": "stream",
     "text": [
      "df Train: (1657, 17)\n",
      "df test: (711, 17)\n"
     ]
    }
   ],
   "source": [
    "print(f'df Train: {df_train_ct.shape}')\n",
    "print(f'df test: {df_test_ct.shape}')"
   ]
  },
  {
   "cell_type": "code",
   "execution_count": 52,
   "metadata": {},
   "outputs": [
    {
     "name": "stdout",
     "output_type": "stream",
     "text": [
      "position: [2 1 3]\n",
      "country: [1 2 3 0]\n",
      "league: [2 1 3 0 4 5]\n",
      "club: [1 0]\n"
     ]
    }
   ],
   "source": [
    "print(f'position: {df_train_ct.position.unique()}')\n",
    "print(f'country: {df_train_ct.country.unique()}')\n",
    "print(f'league: {df_train_ct.league.unique()}')\n",
    "print(f'club: {df_train_ct.club.unique()}')"
   ]
  },
  {
   "cell_type": "code",
   "execution_count": 53,
   "metadata": {},
   "outputs": [
    {
     "name": "stdout",
     "output_type": "stream",
     "text": [
      "position: [3 1 2]\n",
      "country: [1 0 2 3]\n",
      "league: [3 4 0 5 2 1]\n",
      "club: [1 0]\n"
     ]
    }
   ],
   "source": [
    "print(f'position: {df_test_ct.position.unique()}')\n",
    "print(f'country: {df_test_ct.country.unique()}')\n",
    "print(f'league: {df_test_ct.league.unique()}')\n",
    "print(f'club: {df_test_ct.club.unique()}')"
   ]
  },
  {
   "cell_type": "code",
   "execution_count": 54,
   "metadata": {},
   "outputs": [
    {
     "data": {
      "text/html": [
       "<div>\n",
       "<style scoped>\n",
       "    .dataframe tbody tr th:only-of-type {\n",
       "        vertical-align: middle;\n",
       "    }\n",
       "\n",
       "    .dataframe tbody tr th {\n",
       "        vertical-align: top;\n",
       "    }\n",
       "\n",
       "    .dataframe thead th {\n",
       "        text-align: right;\n",
       "    }\n",
       "</style>\n",
       "<table border=\"1\" class=\"dataframe\">\n",
       "  <thead>\n",
       "    <tr style=\"text-align: right;\">\n",
       "      <th></th>\n",
       "      <th></th>\n",
       "      <th>follower</th>\n",
       "      <th>height</th>\n",
       "      <th>goals</th>\n",
       "    </tr>\n",
       "    <tr>\n",
       "      <th>club</th>\n",
       "      <th>position</th>\n",
       "      <th></th>\n",
       "      <th></th>\n",
       "      <th></th>\n",
       "    </tr>\n",
       "  </thead>\n",
       "  <tbody>\n",
       "    <tr>\n",
       "      <th rowspan=\"3\" valign=\"top\">0</th>\n",
       "      <th>1</th>\n",
       "      <td>2.832500e+06</td>\n",
       "      <td>1.838280</td>\n",
       "      <td>0.516129</td>\n",
       "    </tr>\n",
       "    <tr>\n",
       "      <th>2</th>\n",
       "      <td>3.937769e+06</td>\n",
       "      <td>1.801609</td>\n",
       "      <td>1.689655</td>\n",
       "    </tr>\n",
       "    <tr>\n",
       "      <th>3</th>\n",
       "      <td>1.951587e+07</td>\n",
       "      <td>1.803333</td>\n",
       "      <td>4.106667</td>\n",
       "    </tr>\n",
       "    <tr>\n",
       "      <th rowspan=\"3\" valign=\"top\">1</th>\n",
       "      <th>1</th>\n",
       "      <td>1.631573e+05</td>\n",
       "      <td>1.838101</td>\n",
       "      <td>0.921788</td>\n",
       "    </tr>\n",
       "    <tr>\n",
       "      <th>2</th>\n",
       "      <td>1.867054e+05</td>\n",
       "      <td>1.802960</td>\n",
       "      <td>1.380952</td>\n",
       "    </tr>\n",
       "    <tr>\n",
       "      <th>3</th>\n",
       "      <td>2.594210e+05</td>\n",
       "      <td>1.810896</td>\n",
       "      <td>4.143868</td>\n",
       "    </tr>\n",
       "  </tbody>\n",
       "</table>\n",
       "</div>"
      ],
      "text/plain": [
       "                   follower    height     goals\n",
       "club position                                  \n",
       "0    1         2.832500e+06  1.838280  0.516129\n",
       "     2         3.937769e+06  1.801609  1.689655\n",
       "     3         1.951587e+07  1.803333  4.106667\n",
       "1    1         1.631573e+05  1.838101  0.921788\n",
       "     2         1.867054e+05  1.802960  1.380952\n",
       "     3         2.594210e+05  1.810896  4.143868"
      ]
     },
     "execution_count": 54,
     "metadata": {},
     "output_type": "execute_result"
    }
   ],
   "source": [
    "df_train_ct.groupby(['club', 'position']).agg({'follower':np.mean, 'height': np.mean, 'goals':np.mean})"
   ]
  },
  {
   "cell_type": "code",
   "execution_count": 55,
   "metadata": {},
   "outputs": [],
   "source": [
    "#age square"
   ]
  },
  {
   "cell_type": "code",
   "execution_count": 56,
   "metadata": {},
   "outputs": [
    {
     "data": {
      "text/html": [
       "<div>\n",
       "<style scoped>\n",
       "    .dataframe tbody tr th:only-of-type {\n",
       "        vertical-align: middle;\n",
       "    }\n",
       "\n",
       "    .dataframe tbody tr th {\n",
       "        vertical-align: top;\n",
       "    }\n",
       "\n",
       "    .dataframe thead th {\n",
       "        text-align: right;\n",
       "    }\n",
       "</style>\n",
       "<table border=\"1\" class=\"dataframe\">\n",
       "  <thead>\n",
       "    <tr style=\"text-align: right;\">\n",
       "      <th></th>\n",
       "      <th>price</th>\n",
       "    </tr>\n",
       "    <tr>\n",
       "      <th>age</th>\n",
       "      <th></th>\n",
       "    </tr>\n",
       "  </thead>\n",
       "  <tbody>\n",
       "    <tr>\n",
       "      <th>16</th>\n",
       "      <td>1.050000</td>\n",
       "    </tr>\n",
       "    <tr>\n",
       "      <th>17</th>\n",
       "      <td>5.368182</td>\n",
       "    </tr>\n",
       "    <tr>\n",
       "      <th>18</th>\n",
       "      <td>6.366837</td>\n",
       "    </tr>\n",
       "    <tr>\n",
       "      <th>19</th>\n",
       "      <td>6.388911</td>\n",
       "    </tr>\n",
       "    <tr>\n",
       "      <th>20</th>\n",
       "      <td>6.926667</td>\n",
       "    </tr>\n",
       "    <tr>\n",
       "      <th>21</th>\n",
       "      <td>11.408444</td>\n",
       "    </tr>\n",
       "    <tr>\n",
       "      <th>22</th>\n",
       "      <td>12.122059</td>\n",
       "    </tr>\n",
       "    <tr>\n",
       "      <th>23</th>\n",
       "      <td>11.082514</td>\n",
       "    </tr>\n",
       "    <tr>\n",
       "      <th>24</th>\n",
       "      <td>14.955973</td>\n",
       "    </tr>\n",
       "    <tr>\n",
       "      <th>25</th>\n",
       "      <td>13.405682</td>\n",
       "    </tr>\n",
       "    <tr>\n",
       "      <th>26</th>\n",
       "      <td>14.441713</td>\n",
       "    </tr>\n",
       "    <tr>\n",
       "      <th>27</th>\n",
       "      <td>12.220442</td>\n",
       "    </tr>\n",
       "    <tr>\n",
       "      <th>28</th>\n",
       "      <td>13.261333</td>\n",
       "    </tr>\n",
       "    <tr>\n",
       "      <th>29</th>\n",
       "      <td>12.528758</td>\n",
       "    </tr>\n",
       "    <tr>\n",
       "      <th>30</th>\n",
       "      <td>9.672386</td>\n",
       "    </tr>\n",
       "    <tr>\n",
       "      <th>31</th>\n",
       "      <td>5.947449</td>\n",
       "    </tr>\n",
       "    <tr>\n",
       "      <th>32</th>\n",
       "      <td>4.686559</td>\n",
       "    </tr>\n",
       "    <tr>\n",
       "      <th>33</th>\n",
       "      <td>4.910169</td>\n",
       "    </tr>\n",
       "    <tr>\n",
       "      <th>34</th>\n",
       "      <td>4.542708</td>\n",
       "    </tr>\n",
       "    <tr>\n",
       "      <th>35</th>\n",
       "      <td>2.220833</td>\n",
       "    </tr>\n",
       "    <tr>\n",
       "      <th>36</th>\n",
       "      <td>5.046667</td>\n",
       "    </tr>\n",
       "    <tr>\n",
       "      <th>37</th>\n",
       "      <td>1.037500</td>\n",
       "    </tr>\n",
       "    <tr>\n",
       "      <th>38</th>\n",
       "      <td>0.866667</td>\n",
       "    </tr>\n",
       "    <tr>\n",
       "      <th>39</th>\n",
       "      <td>1.000000</td>\n",
       "    </tr>\n",
       "    <tr>\n",
       "      <th>40</th>\n",
       "      <td>2.750000</td>\n",
       "    </tr>\n",
       "  </tbody>\n",
       "</table>\n",
       "</div>"
      ],
      "text/plain": [
       "         price\n",
       "age           \n",
       "16    1.050000\n",
       "17    5.368182\n",
       "18    6.366837\n",
       "19    6.388911\n",
       "20    6.926667\n",
       "21   11.408444\n",
       "22   12.122059\n",
       "23   11.082514\n",
       "24   14.955973\n",
       "25   13.405682\n",
       "26   14.441713\n",
       "27   12.220442\n",
       "28   13.261333\n",
       "29   12.528758\n",
       "30    9.672386\n",
       "31    5.947449\n",
       "32    4.686559\n",
       "33    4.910169\n",
       "34    4.542708\n",
       "35    2.220833\n",
       "36    5.046667\n",
       "37    1.037500\n",
       "38    0.866667\n",
       "39    1.000000\n",
       "40    2.750000"
      ]
     },
     "execution_count": 56,
     "metadata": {},
     "output_type": "execute_result"
    }
   ],
   "source": [
    "df_ct.groupby('age').agg({'price':np.mean})"
   ]
  },
  {
   "cell_type": "code",
   "execution_count": 57,
   "metadata": {},
   "outputs": [
    {
     "data": {
      "image/png": "[encoded data removed]",
      "text/plain": [
       "<Figure size 1080x504 with 1 Axes>"
      ]
     },
     "metadata": {},
     "output_type": "display_data"
    }
   ],
   "source": [
    "agePerPrice = df_ct.groupby('age').agg({'price' : np.mean}).reset_index()\n",
    "plt.figure(figsize=(15, 7))\n",
    "plt.bar(agePerPrice.age, agePerPrice.price, color = 'green')\n",
    "plt.plot(agePerPrice.age, agePerPrice.price, '-r', linewidth = 3, marker='o')\n",
    "plt.xlabel('$Age$', size=20)\n",
    "plt.ylabel('$Price$',size=20, rotation=0)\n",
    "plt.title('Age - price relationship', size=30)\n",
    "plt.tight_layout()"
   ]
  },
  {
   "cell_type": "code",
   "execution_count": 58,
   "metadata": {},
   "outputs": [],
   "source": [
    "#data transform"
   ]
  },
  {
   "cell_type": "code",
   "execution_count": 59,
   "metadata": {},
   "outputs": [],
   "source": [
    "## add age square"
   ]
  },
  {
   "cell_type": "code",
   "execution_count": 60,
   "metadata": {},
   "outputs": [],
   "source": [
    "trans = pre.process_transform()\n",
    "df_train_ct = trans.add_age_square(df_train_ct)\n",
    "df_test_ct = trans.add_age_square(df_test_ct)"
   ]
  },
  {
   "cell_type": "code",
   "execution_count": 61,
   "metadata": {},
   "outputs": [
    {
     "data": {
      "text/html": [
       "<div>\n",
       "<style scoped>\n",
       "    .dataframe tbody tr th:only-of-type {\n",
       "        vertical-align: middle;\n",
       "    }\n",
       "\n",
       "    .dataframe tbody tr th {\n",
       "        vertical-align: top;\n",
       "    }\n",
       "\n",
       "    .dataframe thead th {\n",
       "        text-align: right;\n",
       "    }\n",
       "</style>\n",
       "<table border=\"1\" class=\"dataframe\">\n",
       "  <thead>\n",
       "    <tr style=\"text-align: right;\">\n",
       "      <th></th>\n",
       "      <th>name</th>\n",
       "      <th>league</th>\n",
       "      <th>age</th>\n",
       "      <th>height</th>\n",
       "      <th>position</th>\n",
       "      <th>erfolge</th>\n",
       "      <th>caps</th>\n",
       "      <th>goalsCap</th>\n",
       "      <th>follower</th>\n",
       "      <th>club</th>\n",
       "      <th>contractYear</th>\n",
       "      <th>country</th>\n",
       "      <th>appearances</th>\n",
       "      <th>goals</th>\n",
       "      <th>assists</th>\n",
       "      <th>minuted</th>\n",
       "      <th>price</th>\n",
       "      <th>age_square</th>\n",
       "    </tr>\n",
       "  </thead>\n",
       "  <tbody>\n",
       "    <tr>\n",
       "      <th>1860</th>\n",
       "      <td>Sergej Milinković-Savić</td>\n",
       "      <td>2</td>\n",
       "      <td>26</td>\n",
       "      <td>1.91</td>\n",
       "      <td>2</td>\n",
       "      <td>6</td>\n",
       "      <td>28</td>\n",
       "      <td>5</td>\n",
       "      <td>538477.0</td>\n",
       "      <td>1</td>\n",
       "      <td>2.539726</td>\n",
       "      <td>1</td>\n",
       "      <td>21.0</td>\n",
       "      <td>5.0</td>\n",
       "      <td>5.0</td>\n",
       "      <td>1.42</td>\n",
       "      <td>70.0</td>\n",
       "      <td>676</td>\n",
       "    </tr>\n",
       "  </tbody>\n",
       "</table>\n",
       "</div>"
      ],
      "text/plain": [
       "                         name  league  age  height  position  erfolge  caps  \\\n",
       "1860  Sergej Milinković-Savić       2   26    1.91         2        6    28   \n",
       "\n",
       "      goalsCap  follower  club  contractYear  country  appearances  goals  \\\n",
       "1860         5  538477.0     1      2.539726        1         21.0    5.0   \n",
       "\n",
       "      assists  minuted  price  age_square  \n",
       "1860      5.0     1.42   70.0         676  "
      ]
     },
     "execution_count": 61,
     "metadata": {},
     "output_type": "execute_result"
    }
   ],
   "source": [
    "df_train_ct.head(1)"
   ]
  },
  {
   "cell_type": "code",
   "execution_count": 62,
   "metadata": {},
   "outputs": [],
   "source": [
    "##transform data(log)"
   ]
  },
  {
   "cell_type": "code",
   "execution_count": 63,
   "metadata": {},
   "outputs": [
    {
     "data": {
      "text/plain": [
       "Index(['name', 'league', 'age', 'height', 'position', 'erfolge', 'caps',\n",
       "       'goalsCap', 'follower', 'club', 'contractYear', 'country',\n",
       "       'appearances', 'goals', 'assists', 'minuted', 'price', 'age_square'],\n",
       "      dtype='object')"
      ]
     },
     "execution_count": 63,
     "metadata": {},
     "output_type": "execute_result"
    }
   ],
   "source": [
    "df_train_ct.columns"
   ]
  },
  {
   "cell_type": "code",
   "execution_count": 64,
   "metadata": {},
   "outputs": [],
   "source": [
    "trans = pre.process_transform()\n",
    "#transform train\n",
    "df_train_ct = trans._log_with_b(\n",
    "    df_train_ct,\n",
    "    lst=['follower'],\n",
    "    b=1.5\n",
    ")\n",
    "df_train_ct = trans._log_with_b(\n",
    "    df_train_ct,\n",
    "    lst=['erfolge', 'caps', 'goalsCap', 'appearances', 'goals',\n",
    "     'assists', 'minuted'],\n",
    "    b=1.1\n",
    ")\n",
    "#transform test_ctdf_test_ct\n",
    "df_test_ct = trans._log_with_b(\n",
    "    df_test_ct,\n",
    "    lst=['follower'],\n",
    "    b=1.5\n",
    ")\n",
    "df_test_ct = trans._log_with_b(\n",
    "    df_test_ct,\n",
    "    lst=['erfolge', 'caps', 'goalsCap', 'appearances', 'goals',\n",
    "     'assists', 'minuted'],\n",
    "    b=1.1\n",
    ")"
   ]
  },
  {
   "cell_type": "code",
   "execution_count": 65,
   "metadata": {},
   "outputs": [
    {
     "data": {
      "text/html": [
       "<div>\n",
       "<style scoped>\n",
       "    .dataframe tbody tr th:only-of-type {\n",
       "        vertical-align: middle;\n",
       "    }\n",
       "\n",
       "    .dataframe tbody tr th {\n",
       "        vertical-align: top;\n",
       "    }\n",
       "\n",
       "    .dataframe thead th {\n",
       "        text-align: right;\n",
       "    }\n",
       "</style>\n",
       "<table border=\"1\" class=\"dataframe\">\n",
       "  <thead>\n",
       "    <tr style=\"text-align: right;\">\n",
       "      <th></th>\n",
       "      <th>name</th>\n",
       "      <th>league</th>\n",
       "      <th>age</th>\n",
       "      <th>height</th>\n",
       "      <th>position</th>\n",
       "      <th>erfolge</th>\n",
       "      <th>caps</th>\n",
       "      <th>goalsCap</th>\n",
       "      <th>follower</th>\n",
       "      <th>club</th>\n",
       "      <th>contractYear</th>\n",
       "      <th>country</th>\n",
       "      <th>appearances</th>\n",
       "      <th>goals</th>\n",
       "      <th>assists</th>\n",
       "      <th>minuted</th>\n",
       "      <th>price</th>\n",
       "      <th>age_square</th>\n",
       "    </tr>\n",
       "  </thead>\n",
       "  <tbody>\n",
       "    <tr>\n",
       "      <th>1860</th>\n",
       "      <td>Sergej Milinković-Savić</td>\n",
       "      <td>2</td>\n",
       "      <td>26</td>\n",
       "      <td>1.91</td>\n",
       "      <td>2</td>\n",
       "      <td>20.416603</td>\n",
       "      <td>35.329865</td>\n",
       "      <td>5</td>\n",
       "      <td>538477.0</td>\n",
       "      <td>1</td>\n",
       "      <td>2.539726</td>\n",
       "      <td>1</td>\n",
       "      <td>44.575461</td>\n",
       "      <td>44.575461</td>\n",
       "      <td>44.575461</td>\n",
       "      <td>44.575461</td>\n",
       "      <td>70.0</td>\n",
       "      <td>676</td>\n",
       "    </tr>\n",
       "    <tr>\n",
       "      <th>276</th>\n",
       "      <td>Nahitan Nández</td>\n",
       "      <td>2</td>\n",
       "      <td>25</td>\n",
       "      <td>1.72</td>\n",
       "      <td>2</td>\n",
       "      <td>14.545082</td>\n",
       "      <td>41.045175</td>\n",
       "      <td>0</td>\n",
       "      <td>1094450.0</td>\n",
       "      <td>1</td>\n",
       "      <td>2.539726</td>\n",
       "      <td>2</td>\n",
       "      <td>31.431399</td>\n",
       "      <td>31.431399</td>\n",
       "      <td>31.431399</td>\n",
       "      <td>31.431399</td>\n",
       "      <td>20.0</td>\n",
       "      <td>625</td>\n",
       "    </tr>\n",
       "  </tbody>\n",
       "</table>\n",
       "</div>"
      ],
      "text/plain": [
       "                         name  league  age  height  position    erfolge  \\\n",
       "1860  Sergej Milinković-Savić       2   26    1.91         2  20.416603   \n",
       "276            Nahitan Nández       2   25    1.72         2  14.545082   \n",
       "\n",
       "           caps  goalsCap   follower  club  contractYear  country  \\\n",
       "1860  35.329865         5   538477.0     1      2.539726        1   \n",
       "276   41.045175         0  1094450.0     1      2.539726        2   \n",
       "\n",
       "      appearances      goals    assists    minuted  price  age_square  \n",
       "1860    44.575461  44.575461  44.575461  44.575461   70.0         676  \n",
       "276     31.431399  31.431399  31.431399  31.431399   20.0         625  "
      ]
     },
     "execution_count": 65,
     "metadata": {},
     "output_type": "execute_result"
    }
   ],
   "source": [
    "df_train_ct.head(2)"
   ]
  },
  {
   "cell_type": "code",
   "execution_count": 66,
   "metadata": {},
   "outputs": [
    {
     "data": {
      "text/html": [
       "<div>\n",
       "<style scoped>\n",
       "    .dataframe tbody tr th:only-of-type {\n",
       "        vertical-align: middle;\n",
       "    }\n",
       "\n",
       "    .dataframe tbody tr th {\n",
       "        vertical-align: top;\n",
       "    }\n",
       "\n",
       "    .dataframe thead th {\n",
       "        text-align: right;\n",
       "    }\n",
       "</style>\n",
       "<table border=\"1\" class=\"dataframe\">\n",
       "  <thead>\n",
       "    <tr style=\"text-align: right;\">\n",
       "      <th></th>\n",
       "      <th>name</th>\n",
       "      <th>league</th>\n",
       "      <th>age</th>\n",
       "      <th>height</th>\n",
       "      <th>position</th>\n",
       "      <th>erfolge</th>\n",
       "      <th>caps</th>\n",
       "      <th>goalsCap</th>\n",
       "      <th>follower</th>\n",
       "      <th>club</th>\n",
       "      <th>contractYear</th>\n",
       "      <th>country</th>\n",
       "      <th>appearances</th>\n",
       "      <th>goals</th>\n",
       "      <th>assists</th>\n",
       "      <th>minuted</th>\n",
       "      <th>price</th>\n",
       "      <th>age_square</th>\n",
       "    </tr>\n",
       "  </thead>\n",
       "  <tbody>\n",
       "    <tr>\n",
       "      <th>1427</th>\n",
       "      <td>Max Kruse</td>\n",
       "      <td>3</td>\n",
       "      <td>33</td>\n",
       "      <td>1.8</td>\n",
       "      <td>3</td>\n",
       "      <td>7.272541</td>\n",
       "      <td>14.545082</td>\n",
       "      <td>0</td>\n",
       "      <td>389175.0</td>\n",
       "      <td>1</td>\n",
       "      <td>0.536986</td>\n",
       "      <td>1</td>\n",
       "      <td>16.886317</td>\n",
       "      <td>16.886317</td>\n",
       "      <td>16.886317</td>\n",
       "      <td>16.886317</td>\n",
       "      <td>5.0</td>\n",
       "      <td>1089</td>\n",
       "    </tr>\n",
       "    <tr>\n",
       "      <th>1455</th>\n",
       "      <td>Gor Manvelyan</td>\n",
       "      <td>4</td>\n",
       "      <td>19</td>\n",
       "      <td>1.8</td>\n",
       "      <td>3</td>\n",
       "      <td>0.000000</td>\n",
       "      <td>0.000000</td>\n",
       "      <td>0</td>\n",
       "      <td>5790.0</td>\n",
       "      <td>1</td>\n",
       "      <td>2.539726</td>\n",
       "      <td>1</td>\n",
       "      <td>-9.613776</td>\n",
       "      <td>-9.613776</td>\n",
       "      <td>-9.613776</td>\n",
       "      <td>-9.613776</td>\n",
       "      <td>0.4</td>\n",
       "      <td>361</td>\n",
       "    </tr>\n",
       "  </tbody>\n",
       "</table>\n",
       "</div>"
      ],
      "text/plain": [
       "               name  league  age  height  position   erfolge       caps  \\\n",
       "1427      Max Kruse       3   33     1.8         3  7.272541  14.545082   \n",
       "1455  Gor Manvelyan       4   19     1.8         3  0.000000   0.000000   \n",
       "\n",
       "      goalsCap  follower  club  contractYear  country  appearances      goals  \\\n",
       "1427         0  389175.0     1      0.536986        1    16.886317  16.886317   \n",
       "1455         0    5790.0     1      2.539726        1    -9.613776  -9.613776   \n",
       "\n",
       "        assists    minuted  price  age_square  \n",
       "1427  16.886317  16.886317    5.0        1089  \n",
       "1455  -9.613776  -9.613776    0.4         361  "
      ]
     },
     "execution_count": 66,
     "metadata": {},
     "output_type": "execute_result"
    }
   ],
   "source": [
    "df_test_ct.head(2)"
   ]
  },
  {
   "cell_type": "code",
   "execution_count": 67,
   "metadata": {},
   "outputs": [],
   "source": [
    "#pca, encode"
   ]
  },
  {
   "cell_type": "code",
   "execution_count": 107,
   "metadata": {},
   "outputs": [],
   "source": [
    "X_train_ct, X_test_ct = pre.transform_atts(df_train_ct, df_test_ct, n_components=2)\n",
    "y_train_ct = df_train_ct[['price']].reset_index().drop(columns=['index'])\n",
    "y_test_ct = df_test_ct[['price']].reset_index().drop(columns=['index'])"
   ]
  },
  {
   "cell_type": "code",
   "execution_count": 108,
   "metadata": {},
   "outputs": [
    {
     "data": {
      "text/html": [
       "<div>\n",
       "<style scoped>\n",
       "    .dataframe tbody tr th:only-of-type {\n",
       "        vertical-align: middle;\n",
       "    }\n",
       "\n",
       "    .dataframe tbody tr th {\n",
       "        vertical-align: top;\n",
       "    }\n",
       "\n",
       "    .dataframe thead th {\n",
       "        text-align: right;\n",
       "    }\n",
       "</style>\n",
       "<table border=\"1\" class=\"dataframe\">\n",
       "  <thead>\n",
       "    <tr style=\"text-align: right;\">\n",
       "      <th></th>\n",
       "      <th>0</th>\n",
       "      <th>1</th>\n",
       "      <th>club</th>\n",
       "      <th>league_1</th>\n",
       "      <th>league_2</th>\n",
       "      <th>league_3</th>\n",
       "      <th>league_4</th>\n",
       "      <th>league_5</th>\n",
       "      <th>country_1</th>\n",
       "      <th>country_2</th>\n",
       "      <th>country_3</th>\n",
       "      <th>position_2</th>\n",
       "      <th>position_3</th>\n",
       "    </tr>\n",
       "  </thead>\n",
       "  <tbody>\n",
       "    <tr>\n",
       "      <th>0</th>\n",
       "      <td>4.153588</td>\n",
       "      <td>-0.477733</td>\n",
       "      <td>1</td>\n",
       "      <td>0</td>\n",
       "      <td>1</td>\n",
       "      <td>0</td>\n",
       "      <td>0</td>\n",
       "      <td>0</td>\n",
       "      <td>1</td>\n",
       "      <td>0</td>\n",
       "      <td>0</td>\n",
       "      <td>1</td>\n",
       "      <td>0</td>\n",
       "    </tr>\n",
       "    <tr>\n",
       "      <th>1</th>\n",
       "      <td>2.431788</td>\n",
       "      <td>-0.588555</td>\n",
       "      <td>1</td>\n",
       "      <td>0</td>\n",
       "      <td>1</td>\n",
       "      <td>0</td>\n",
       "      <td>0</td>\n",
       "      <td>0</td>\n",
       "      <td>0</td>\n",
       "      <td>1</td>\n",
       "      <td>0</td>\n",
       "      <td>1</td>\n",
       "      <td>0</td>\n",
       "    </tr>\n",
       "  </tbody>\n",
       "</table>\n",
       "</div>"
      ],
      "text/plain": [
       "          0         1  club  league_1  league_2  league_3  league_4  league_5  \\\n",
       "0  4.153588 -0.477733     1         0         1         0         0         0   \n",
       "1  2.431788 -0.588555     1         0         1         0         0         0   \n",
       "\n",
       "   country_1  country_2  country_3  position_2  position_3  \n",
       "0          1          0          0           1           0  \n",
       "1          0          1          0           1           0  "
      ]
     },
     "execution_count": 108,
     "metadata": {},
     "output_type": "execute_result"
    }
   ],
   "source": [
    "X_train_ct.head(2)"
   ]
  },
  {
   "cell_type": "code",
   "execution_count": 109,
   "metadata": {},
   "outputs": [
    {
     "data": {
      "text/html": [
       "<div>\n",
       "<style scoped>\n",
       "    .dataframe tbody tr th:only-of-type {\n",
       "        vertical-align: middle;\n",
       "    }\n",
       "\n",
       "    .dataframe tbody tr th {\n",
       "        vertical-align: top;\n",
       "    }\n",
       "\n",
       "    .dataframe thead th {\n",
       "        text-align: right;\n",
       "    }\n",
       "</style>\n",
       "<table border=\"1\" class=\"dataframe\">\n",
       "  <thead>\n",
       "    <tr style=\"text-align: right;\">\n",
       "      <th></th>\n",
       "      <th>0</th>\n",
       "      <th>1</th>\n",
       "      <th>club</th>\n",
       "      <th>league_1</th>\n",
       "      <th>league_2</th>\n",
       "      <th>league_3</th>\n",
       "      <th>league_4</th>\n",
       "      <th>league_5</th>\n",
       "      <th>country_1</th>\n",
       "      <th>country_2</th>\n",
       "      <th>country_3</th>\n",
       "      <th>position_2</th>\n",
       "      <th>position_3</th>\n",
       "    </tr>\n",
       "  </thead>\n",
       "  <tbody>\n",
       "    <tr>\n",
       "      <th>0</th>\n",
       "      <td>-0.001152</td>\n",
       "      <td>1.927067</td>\n",
       "      <td>1</td>\n",
       "      <td>0</td>\n",
       "      <td>0</td>\n",
       "      <td>1</td>\n",
       "      <td>0</td>\n",
       "      <td>0</td>\n",
       "      <td>1</td>\n",
       "      <td>0</td>\n",
       "      <td>0</td>\n",
       "      <td>0</td>\n",
       "      <td>1</td>\n",
       "    </tr>\n",
       "  </tbody>\n",
       "</table>\n",
       "</div>"
      ],
      "text/plain": [
       "          0         1  club  league_1  league_2  league_3  league_4  league_5  \\\n",
       "0 -0.001152  1.927067     1         0         0         1         0         0   \n",
       "\n",
       "   country_1  country_2  country_3  position_2  position_3  \n",
       "0          1          0          0           0           1  "
      ]
     },
     "execution_count": 109,
     "metadata": {},
     "output_type": "execute_result"
    }
   ],
   "source": [
    "X_test_ct.head(1)"
   ]
  },
  {
   "cell_type": "code",
   "execution_count": 110,
   "metadata": {},
   "outputs": [
    {
     "data": {
      "text/html": [
       "<div>\n",
       "<style scoped>\n",
       "    .dataframe tbody tr th:only-of-type {\n",
       "        vertical-align: middle;\n",
       "    }\n",
       "\n",
       "    .dataframe tbody tr th {\n",
       "        vertical-align: top;\n",
       "    }\n",
       "\n",
       "    .dataframe thead th {\n",
       "        text-align: right;\n",
       "    }\n",
       "</style>\n",
       "<table border=\"1\" class=\"dataframe\">\n",
       "  <thead>\n",
       "    <tr style=\"text-align: right;\">\n",
       "      <th></th>\n",
       "      <th>price</th>\n",
       "    </tr>\n",
       "  </thead>\n",
       "  <tbody>\n",
       "    <tr>\n",
       "      <th>0</th>\n",
       "      <td>70.0</td>\n",
       "    </tr>\n",
       "    <tr>\n",
       "      <th>1</th>\n",
       "      <td>20.0</td>\n",
       "    </tr>\n",
       "  </tbody>\n",
       "</table>\n",
       "</div>"
      ],
      "text/plain": [
       "   price\n",
       "0   70.0\n",
       "1   20.0"
      ]
     },
     "execution_count": 110,
     "metadata": {},
     "output_type": "execute_result"
    }
   ],
   "source": [
    "y_train_ct.head(2)"
   ]
  },
  {
   "cell_type": "code",
   "execution_count": 111,
   "metadata": {},
   "outputs": [
    {
     "data": {
      "text/html": [
       "<div>\n",
       "<style scoped>\n",
       "    .dataframe tbody tr th:only-of-type {\n",
       "        vertical-align: middle;\n",
       "    }\n",
       "\n",
       "    .dataframe tbody tr th {\n",
       "        vertical-align: top;\n",
       "    }\n",
       "\n",
       "    .dataframe thead th {\n",
       "        text-align: right;\n",
       "    }\n",
       "</style>\n",
       "<table border=\"1\" class=\"dataframe\">\n",
       "  <thead>\n",
       "    <tr style=\"text-align: right;\">\n",
       "      <th></th>\n",
       "      <th>price</th>\n",
       "    </tr>\n",
       "  </thead>\n",
       "  <tbody>\n",
       "    <tr>\n",
       "      <th>0</th>\n",
       "      <td>5.0</td>\n",
       "    </tr>\n",
       "    <tr>\n",
       "      <th>1</th>\n",
       "      <td>0.4</td>\n",
       "    </tr>\n",
       "  </tbody>\n",
       "</table>\n",
       "</div>"
      ],
      "text/plain": [
       "   price\n",
       "0    5.0\n",
       "1    0.4"
      ]
     },
     "execution_count": 111,
     "metadata": {},
     "output_type": "execute_result"
    }
   ],
   "source": [
    "y_test_ct.head(2)"
   ]
  },
  {
   "cell_type": "code",
   "execution_count": 112,
   "metadata": {},
   "outputs": [
    {
     "data": {
      "text/html": [
       "<table class=\"simpletable\">\n",
       "<caption>OLS Regression Results</caption>\n",
       "<tr>\n",
       "  <th>Dep. Variable:</th>            <td>y</td>        <th>  R-squared (uncentered):</th>      <td>   0.713</td> \n",
       "</tr>\n",
       "<tr>\n",
       "  <th>Model:</th>                   <td>OLS</td>       <th>  Adj. R-squared (uncentered):</th> <td>   0.711</td> \n",
       "</tr>\n",
       "<tr>\n",
       "  <th>Method:</th>             <td>Least Squares</td>  <th>  F-statistic:       </th>          <td>   314.7</td> \n",
       "</tr>\n",
       "<tr>\n",
       "  <th>Date:</th>             <td>Fri, 24 Dec 2021</td> <th>  Prob (F-statistic):</th>           <td>  0.00</td>  \n",
       "</tr>\n",
       "<tr>\n",
       "  <th>Time:</th>                 <td>21:51:33</td>     <th>  Log-Likelihood:    </th>          <td> -6221.9</td> \n",
       "</tr>\n",
       "<tr>\n",
       "  <th>No. Observations:</th>      <td>  1657</td>      <th>  AIC:               </th>          <td>1.247e+04</td>\n",
       "</tr>\n",
       "<tr>\n",
       "  <th>Df Residuals:</th>          <td>  1644</td>      <th>  BIC:               </th>          <td>1.254e+04</td>\n",
       "</tr>\n",
       "<tr>\n",
       "  <th>Df Model:</th>              <td>    13</td>      <th>                     </th>              <td> </td>    \n",
       "</tr>\n",
       "<tr>\n",
       "  <th>Covariance Type:</th>      <td>nonrobust</td>    <th>                     </th>              <td> </td>    \n",
       "</tr>\n",
       "</table>\n",
       "<table class=\"simpletable\">\n",
       "<tr>\n",
       "   <td></td>      <th>coef</th>     <th>std err</th>      <th>t</th>      <th>P>|t|</th>  <th>[0.025</th>    <th>0.975]</th>  \n",
       "</tr>\n",
       "<tr>\n",
       "  <th>x1</th>  <td>    5.5480</td> <td>    0.135</td> <td>   41.072</td> <td> 0.000</td> <td>    5.283</td> <td>    5.813</td>\n",
       "</tr>\n",
       "<tr>\n",
       "  <th>x2</th>  <td>   -1.7048</td> <td>    0.158</td> <td>  -10.787</td> <td> 0.000</td> <td>   -2.015</td> <td>   -1.395</td>\n",
       "</tr>\n",
       "<tr>\n",
       "  <th>x3</th>  <td>   -2.1450</td> <td>    0.700</td> <td>   -3.064</td> <td> 0.002</td> <td>   -3.518</td> <td>   -0.772</td>\n",
       "</tr>\n",
       "<tr>\n",
       "  <th>x4</th>  <td>    0.4485</td> <td>    0.939</td> <td>    0.478</td> <td> 0.633</td> <td>   -1.394</td> <td>    2.291</td>\n",
       "</tr>\n",
       "<tr>\n",
       "  <th>x5</th>  <td>    0.0030</td> <td>    0.913</td> <td>    0.003</td> <td> 0.997</td> <td>   -1.789</td> <td>    1.795</td>\n",
       "</tr>\n",
       "<tr>\n",
       "  <th>x6</th>  <td>    0.8030</td> <td>    0.938</td> <td>    0.856</td> <td> 0.392</td> <td>   -1.036</td> <td>    2.642</td>\n",
       "</tr>\n",
       "<tr>\n",
       "  <th>x7</th>  <td>    0.9019</td> <td>    0.944</td> <td>    0.955</td> <td> 0.340</td> <td>   -0.950</td> <td>    2.753</td>\n",
       "</tr>\n",
       "<tr>\n",
       "  <th>x8</th>  <td>    7.0886</td> <td>    2.722</td> <td>    2.604</td> <td> 0.009</td> <td>    1.749</td> <td>   12.428</td>\n",
       "</tr>\n",
       "<tr>\n",
       "  <th>x9</th>  <td>   10.3324</td> <td>    0.921</td> <td>   11.218</td> <td> 0.000</td> <td>    8.526</td> <td>   12.139</td>\n",
       "</tr>\n",
       "<tr>\n",
       "  <th>x10</th> <td>    9.3130</td> <td>    1.140</td> <td>    8.168</td> <td> 0.000</td> <td>    7.077</td> <td>   11.549</td>\n",
       "</tr>\n",
       "<tr>\n",
       "  <th>x11</th> <td>    8.0066</td> <td>    1.114</td> <td>    7.187</td> <td> 0.000</td> <td>    5.822</td> <td>   10.192</td>\n",
       "</tr>\n",
       "<tr>\n",
       "  <th>x12</th> <td>    3.6179</td> <td>    0.604</td> <td>    5.986</td> <td> 0.000</td> <td>    2.432</td> <td>    4.803</td>\n",
       "</tr>\n",
       "<tr>\n",
       "  <th>x13</th> <td>    3.4005</td> <td>    0.622</td> <td>    5.466</td> <td> 0.000</td> <td>    2.180</td> <td>    4.621</td>\n",
       "</tr>\n",
       "</table>\n",
       "<table class=\"simpletable\">\n",
       "<tr>\n",
       "  <th>Omnibus:</th>       <td>1138.411</td> <th>  Durbin-Watson:     </th> <td>   1.937</td> \n",
       "</tr>\n",
       "<tr>\n",
       "  <th>Prob(Omnibus):</th>  <td> 0.000</td>  <th>  Jarque-Bera (JB):  </th> <td>25249.930</td>\n",
       "</tr>\n",
       "<tr>\n",
       "  <th>Skew:</th>           <td> 2.905</td>  <th>  Prob(JB):          </th> <td>    0.00</td> \n",
       "</tr>\n",
       "<tr>\n",
       "  <th>Kurtosis:</th>       <td>21.220</td>  <th>  Cond. No.          </th> <td>    24.1</td> \n",
       "</tr>\n",
       "</table><br/><br/>Notes:<br/>[1] R² is computed without centering (uncentered) since the model does not contain a constant.<br/>[2] Standard Errors assume that the covariance matrix of the errors is correctly specified."
      ],
      "text/plain": [
       "<class 'statsmodels.iolib.summary.Summary'>\n",
       "\"\"\"\n",
       "                                 OLS Regression Results                                \n",
       "=======================================================================================\n",
       "Dep. Variable:                      y   R-squared (uncentered):                   0.713\n",
       "Model:                            OLS   Adj. R-squared (uncentered):              0.711\n",
       "Method:                 Least Squares   F-statistic:                              314.7\n",
       "Date:                Fri, 24 Dec 2021   Prob (F-statistic):                        0.00\n",
       "Time:                        21:51:33   Log-Likelihood:                         -6221.9\n",
       "No. Observations:                1657   AIC:                                  1.247e+04\n",
       "Df Residuals:                    1644   BIC:                                  1.254e+04\n",
       "Df Model:                          13                                                  \n",
       "Covariance Type:            nonrobust                                                  \n",
       "==============================================================================\n",
       "                 coef    std err          t      P>|t|      [0.025      0.975]\n",
       "------------------------------------------------------------------------------\n",
       "x1             5.5480      0.135     41.072      0.000       5.283       5.813\n",
       "x2            -1.7048      0.158    -10.787      0.000      -2.015      -1.395\n",
       "x3            -2.1450      0.700     -3.064      0.002      -3.518      -0.772\n",
       "x4             0.4485      0.939      0.478      0.633      -1.394       2.291\n",
       "x5             0.0030      0.913      0.003      0.997      -1.789       1.795\n",
       "x6             0.8030      0.938      0.856      0.392      -1.036       2.642\n",
       "x7             0.9019      0.944      0.955      0.340      -0.950       2.753\n",
       "x8             7.0886      2.722      2.604      0.009       1.749      12.428\n",
       "x9            10.3324      0.921     11.218      0.000       8.526      12.139\n",
       "x10            9.3130      1.140      8.168      0.000       7.077      11.549\n",
       "x11            8.0066      1.114      7.187      0.000       5.822      10.192\n",
       "x12            3.6179      0.604      5.986      0.000       2.432       4.803\n",
       "x13            3.4005      0.622      5.466      0.000       2.180       4.621\n",
       "==============================================================================\n",
       "Omnibus:                     1138.411   Durbin-Watson:                   1.937\n",
       "Prob(Omnibus):                  0.000   Jarque-Bera (JB):            25249.930\n",
       "Skew:                           2.905   Prob(JB):                         0.00\n",
       "Kurtosis:                      21.220   Cond. No.                         24.1\n",
       "==============================================================================\n",
       "\n",
       "Notes:\n",
       "[1] R² is computed without centering (uncentered) since the model does not contain a constant.\n",
       "[2] Standard Errors assume that the covariance matrix of the errors is correctly specified.\n",
       "\"\"\""
      ]
     },
     "execution_count": 112,
     "metadata": {},
     "output_type": "execute_result"
    }
   ],
   "source": [
    "resu = OLS(y_train_ct.values, X_train_ct.values).fit()\n",
    "resu.summary()"
   ]
  },
  {
   "cell_type": "code",
   "execution_count": 113,
   "metadata": {},
   "outputs": [],
   "source": [
    "def k_fold(X_train, y_train, k_fold, lstAlpha=[0.001, 0.01, 0.05, 0.1, 0.25, 0.5, 0.6, 0.75, 0.9, 0.95, 1]):\n",
    "    lst_alpha = []\n",
    "    n = X_train.shape[0]\n",
    "    shuffle_indices = np.random.permutation(n)\n",
    "    X_shuffle = X_train.loc[shuffle_indices, :].copy().reset_index().drop(columns=['index'])\n",
    "    y_shuffle = y_train.loc[shuffle_indices, :].copy().reset_index().drop(columns=['index'])\n",
    "    m = n//k_fold\n",
    "    for i in range(k_fold):\n",
    "        if i == k_fold-1:\n",
    "            index_test = np.arange(i*m, n, 1)\n",
    "        else:\n",
    "            index_test = np.arange(i*m, i*m+m, 1)\n",
    "        index_train = np.setdiff1d(np.arange(0, n, 1), index_test)\n",
    "        X_test_fold = X_shuffle.loc[index_test, :]\n",
    "        y_test_fold = y_shuffle.loc[index_test, :]\n",
    "        X_train_fold = X_shuffle.loc[index_train, :]\n",
    "        y_train_fold = y_shuffle.loc[index_train, :]\n",
    "        alpha4max = 0\n",
    "        score_max = 0\n",
    "        #grid search\n",
    "        for i in lstAlpha:\n",
    "            clf = Ridge(alpha=i)\n",
    "            clf.fit(X_train_fold.values, y_train_fold)\n",
    "            score_tmp = clf.score(X_test_fold.values, y_test_fold)\n",
    "            if score_tmp > score_max:\n",
    "                score_max = score_tmp\n",
    "                alpha4max = i\n",
    "        lst_alpha.append(alpha4max)\n",
    "    return lst_alpha"
   ]
  },
  {
   "cell_type": "code",
   "execution_count": 114,
   "metadata": {},
   "outputs": [],
   "source": [
    "#lst best alpha"
   ]
  },
  {
   "cell_type": "code",
   "execution_count": 115,
   "metadata": {},
   "outputs": [],
   "source": [
    "best_alpha = k_fold(X_train_ct, y_train_ct, k_fold=10)"
   ]
  },
  {
   "cell_type": "code",
   "execution_count": 128,
   "metadata": {},
   "outputs": [
    {
     "name": "stdout",
     "output_type": "stream",
     "text": [
      "[0.75, 0.95, 0.6, 0.25, 0.6, 0.25, 0.6, 0.9, 0.25, 0.9]\n"
     ]
    }
   ],
   "source": [
    "best_alpha"
   ]
  },
  {
   "cell_type": "code",
   "execution_count": 116,
   "metadata": {},
   "outputs": [
    {
     "data": {
      "text/plain": [
       "0.6004"
      ]
     },
     "execution_count": 116,
     "metadata": {},
     "output_type": "execute_result"
    }
   ],
   "source": [
    "np.mean(best_alpha)"
   ]
  },
  {
   "cell_type": "code",
   "execution_count": null,
   "metadata": {},
   "outputs": [],
   "source": [
    "#training model"
   ]
  },
  {
   "cell_type": "code",
   "execution_count": 117,
   "metadata": {},
   "outputs": [
    {
     "data": {
      "text/plain": [
       "Ridge(alpha=0.6004)"
      ]
     },
     "execution_count": 117,
     "metadata": {},
     "output_type": "execute_result"
    }
   ],
   "source": [
    "alg = Ridge(alpha=np.mean(best_alpha))\n",
    "alg.fit(X_train_ct.values, y_train_ct.values)"
   ]
  },
  {
   "cell_type": "code",
   "execution_count": null,
   "metadata": {},
   "outputs": [],
   "source": [
    "#test"
   ]
  },
  {
   "cell_type": "code",
   "execution_count": 130,
   "metadata": {},
   "outputs": [
    {
     "data": {
      "text/plain": [
       "0.6472515519702764"
      ]
     },
     "execution_count": 130,
     "metadata": {},
     "output_type": "execute_result"
    }
   ],
   "source": [
    "r2_score(y_test_ct.values, alg.predict(X_test_ct.values))"
   ]
  },
  {
   "cell_type": "code",
   "execution_count": 135,
   "metadata": {},
   "outputs": [
    {
     "data": {
      "image/png": "[encoded data removed]",
      "text/plain": [
       "<Figure size 720x432 with 1 Axes>"
      ]
     },
     "metadata": {},
     "output_type": "display_data"
    }
   ],
   "source": [
    "plt.figure(figsize= (10, 6))\n",
    "# plt.xlim([0, 40])\n",
    "# plt.ylim([-40, 40])\n",
    "plt.style.use('fivethirtyeight')\n",
    "plt.scatter(alg.predict(X_test_ct.values), alg.predict(X_test_ct.values) - y_test_ct, color = \"red\", s = 10, label = 'Test data')\n",
    "plt.hlines(y = 0, xmin = 0, xmax = 50, linewidth = 2)\n",
    "plt.legend(loc = 'upper right') \n",
    "plt.title(\"Residual errors\")\n",
    "plt.show()"
   ]
  },
  {
   "cell_type": "markdown",
   "metadata": {},
   "source": [
    "---"
   ]
  }
 ],
 "metadata": {
  "interpreter": {
   "hash": "31f2aee4e71d21fbe5cf8b01ff0e069b9275f58929596ceb00d14d90e3e16cd6"
  },
  "kernelspec": {
   "display_name": "Python 3",
   "language": "python",
   "name": "python3"
  },
  "language_info": {
   "codemirror_mode": {
    "name": "ipython",
    "version": 3
   },
   "file_extension": ".py",
   "mimetype": "text/x-python",
   "name": "python",
   "nbconvert_exporter": "python",
   "pygments_lexer": "ipython3",
   "version": "3.8.8"
  }
 },
 "nbformat": 4,
 "nbformat_minor": 4
}
